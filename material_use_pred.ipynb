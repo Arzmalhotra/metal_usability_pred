{
  "nbformat": 4,
  "nbformat_minor": 0,
  "metadata": {
    "colab": {
      "provenance": [],
      "collapsed_sections": [
        "NFoxcF_I7ib6",
        "iA1TVmML7rTE",
        "BJFRVqnTrCDb",
        "FuhkqquoSvS2",
        "LIHaB-yov8bU",
        "YeABQMKzRNgW",
        "lqbLbh5jcUPS"
      ]
    },
    "kernelspec": {
      "name": "python3",
      "display_name": "Python 3"
    },
    "language_info": {
      "name": "python"
    }
  },
  "cells": [
    {
      "cell_type": "markdown",
      "source": [
        "# importing necessary libraries"
      ],
      "metadata": {
        "id": "NFoxcF_I7ib6"
      }
    },
    {
      "cell_type": "code",
      "source": [
        "from google.colab import drive\n",
        "drive.mount(\"/content/drive\")\n"
      ],
      "metadata": {
        "colab": {
          "base_uri": "https://localhost:8080/"
        },
        "id": "45gjav3UaKFC",
        "outputId": "ef074d8d-fbf7-476e-8a5d-316eb01658ce"
      },
      "execution_count": 320,
      "outputs": [
        {
          "output_type": "stream",
          "name": "stdout",
          "text": [
            "Drive already mounted at /content/drive; to attempt to forcibly remount, call drive.mount(\"/content/drive\", force_remount=True).\n"
          ]
        }
      ]
    },
    {
      "cell_type": "code",
      "source": [
        "import pandas as pd\n",
        "import numpy as np\n",
        "import matplotlib.pyplot as plt\n",
        "import seaborn as sns"
      ],
      "metadata": {
        "id": "rs_MA1OnabaL"
      },
      "execution_count": 321,
      "outputs": []
    },
    {
      "cell_type": "markdown",
      "source": [
        "# analysing the data"
      ],
      "metadata": {
        "id": "iA1TVmML7rTE"
      }
    },
    {
      "cell_type": "code",
      "source": [
        "data=pd.read_csv('/content/drive/MyDrive/material_mech/Data.csv')"
      ],
      "metadata": {
        "id": "7fB0eScX7fQg"
      },
      "execution_count": 322,
      "outputs": []
    },
    {
      "cell_type": "code",
      "source": [
        "data.head()"
      ],
      "metadata": {
        "colab": {
          "base_uri": "https://localhost:8080/",
          "height": 0
        },
        "id": "HtBWXVpi7v-A",
        "outputId": "74661e23-eb02-420f-bd79-b9ec47e52989"
      },
      "execution_count": 323,
      "outputs": [
        {
          "output_type": "execute_result",
          "data": {
            "text/plain": [
              "    Std                                ID        Material Heat treatment   Su  \\\n",
              "0  ANSI  D8894772B88F495093C43AF905AB6373  Steel SAE 1015      as-rolled  421   \n",
              "1  ANSI  05982AC66F064F9EBC709E7A4164613A  Steel SAE 1015     normalized  424   \n",
              "2  ANSI  356D6E63FF9A49A3AB23BF66BAC85DC3  Steel SAE 1015       annealed  386   \n",
              "3  ANSI  1C758F8714AC4E0D9BD8D8AE1625AECD  Steel SAE 1020      as-rolled  448   \n",
              "4  ANSI  DCE10036FC1946FC8C9108D598D116AD  Steel SAE 1020     normalized  441   \n",
              "\n",
              "    Sy    A5    Bhn       E      G   mu    Ro     pH Desc  HV  \n",
              "0  314  39.0  126.0  207000  79000  0.3  7860    NaN  NaN NaN  \n",
              "1  324  37.0  121.0  207000  79000  0.3  7860    NaN  NaN NaN  \n",
              "2  284  37.0  111.0  207000  79000  0.3  7860    NaN  NaN NaN  \n",
              "3  331  36.0  143.0  207000  79000  0.3  7860    NaN  NaN NaN  \n",
              "4  346  35.8  131.0  207000  79000  0.3  7860  550.0  NaN NaN  "
            ],
            "text/html": [
              "\n",
              "  <div id=\"df-a53e9a72-8578-4c3c-b0a3-95f2ecc0a0ed\" class=\"colab-df-container\">\n",
              "    <div>\n",
              "<style scoped>\n",
              "    .dataframe tbody tr th:only-of-type {\n",
              "        vertical-align: middle;\n",
              "    }\n",
              "\n",
              "    .dataframe tbody tr th {\n",
              "        vertical-align: top;\n",
              "    }\n",
              "\n",
              "    .dataframe thead th {\n",
              "        text-align: right;\n",
              "    }\n",
              "</style>\n",
              "<table border=\"1\" class=\"dataframe\">\n",
              "  <thead>\n",
              "    <tr style=\"text-align: right;\">\n",
              "      <th></th>\n",
              "      <th>Std</th>\n",
              "      <th>ID</th>\n",
              "      <th>Material</th>\n",
              "      <th>Heat treatment</th>\n",
              "      <th>Su</th>\n",
              "      <th>Sy</th>\n",
              "      <th>A5</th>\n",
              "      <th>Bhn</th>\n",
              "      <th>E</th>\n",
              "      <th>G</th>\n",
              "      <th>mu</th>\n",
              "      <th>Ro</th>\n",
              "      <th>pH</th>\n",
              "      <th>Desc</th>\n",
              "      <th>HV</th>\n",
              "    </tr>\n",
              "  </thead>\n",
              "  <tbody>\n",
              "    <tr>\n",
              "      <th>0</th>\n",
              "      <td>ANSI</td>\n",
              "      <td>D8894772B88F495093C43AF905AB6373</td>\n",
              "      <td>Steel SAE 1015</td>\n",
              "      <td>as-rolled</td>\n",
              "      <td>421</td>\n",
              "      <td>314</td>\n",
              "      <td>39.0</td>\n",
              "      <td>126.0</td>\n",
              "      <td>207000</td>\n",
              "      <td>79000</td>\n",
              "      <td>0.3</td>\n",
              "      <td>7860</td>\n",
              "      <td>NaN</td>\n",
              "      <td>NaN</td>\n",
              "      <td>NaN</td>\n",
              "    </tr>\n",
              "    <tr>\n",
              "      <th>1</th>\n",
              "      <td>ANSI</td>\n",
              "      <td>05982AC66F064F9EBC709E7A4164613A</td>\n",
              "      <td>Steel SAE 1015</td>\n",
              "      <td>normalized</td>\n",
              "      <td>424</td>\n",
              "      <td>324</td>\n",
              "      <td>37.0</td>\n",
              "      <td>121.0</td>\n",
              "      <td>207000</td>\n",
              "      <td>79000</td>\n",
              "      <td>0.3</td>\n",
              "      <td>7860</td>\n",
              "      <td>NaN</td>\n",
              "      <td>NaN</td>\n",
              "      <td>NaN</td>\n",
              "    </tr>\n",
              "    <tr>\n",
              "      <th>2</th>\n",
              "      <td>ANSI</td>\n",
              "      <td>356D6E63FF9A49A3AB23BF66BAC85DC3</td>\n",
              "      <td>Steel SAE 1015</td>\n",
              "      <td>annealed</td>\n",
              "      <td>386</td>\n",
              "      <td>284</td>\n",
              "      <td>37.0</td>\n",
              "      <td>111.0</td>\n",
              "      <td>207000</td>\n",
              "      <td>79000</td>\n",
              "      <td>0.3</td>\n",
              "      <td>7860</td>\n",
              "      <td>NaN</td>\n",
              "      <td>NaN</td>\n",
              "      <td>NaN</td>\n",
              "    </tr>\n",
              "    <tr>\n",
              "      <th>3</th>\n",
              "      <td>ANSI</td>\n",
              "      <td>1C758F8714AC4E0D9BD8D8AE1625AECD</td>\n",
              "      <td>Steel SAE 1020</td>\n",
              "      <td>as-rolled</td>\n",
              "      <td>448</td>\n",
              "      <td>331</td>\n",
              "      <td>36.0</td>\n",
              "      <td>143.0</td>\n",
              "      <td>207000</td>\n",
              "      <td>79000</td>\n",
              "      <td>0.3</td>\n",
              "      <td>7860</td>\n",
              "      <td>NaN</td>\n",
              "      <td>NaN</td>\n",
              "      <td>NaN</td>\n",
              "    </tr>\n",
              "    <tr>\n",
              "      <th>4</th>\n",
              "      <td>ANSI</td>\n",
              "      <td>DCE10036FC1946FC8C9108D598D116AD</td>\n",
              "      <td>Steel SAE 1020</td>\n",
              "      <td>normalized</td>\n",
              "      <td>441</td>\n",
              "      <td>346</td>\n",
              "      <td>35.8</td>\n",
              "      <td>131.0</td>\n",
              "      <td>207000</td>\n",
              "      <td>79000</td>\n",
              "      <td>0.3</td>\n",
              "      <td>7860</td>\n",
              "      <td>550.0</td>\n",
              "      <td>NaN</td>\n",
              "      <td>NaN</td>\n",
              "    </tr>\n",
              "  </tbody>\n",
              "</table>\n",
              "</div>\n",
              "    <div class=\"colab-df-buttons\">\n",
              "\n",
              "  <div class=\"colab-df-container\">\n",
              "    <button class=\"colab-df-convert\" onclick=\"convertToInteractive('df-a53e9a72-8578-4c3c-b0a3-95f2ecc0a0ed')\"\n",
              "            title=\"Convert this dataframe to an interactive table.\"\n",
              "            style=\"display:none;\">\n",
              "\n",
              "  <svg xmlns=\"http://www.w3.org/2000/svg\" height=\"24px\" viewBox=\"0 -960 960 960\">\n",
              "    <path d=\"M120-120v-720h720v720H120Zm60-500h600v-160H180v160Zm220 220h160v-160H400v160Zm0 220h160v-160H400v160ZM180-400h160v-160H180v160Zm440 0h160v-160H620v160ZM180-180h160v-160H180v160Zm440 0h160v-160H620v160Z\"/>\n",
              "  </svg>\n",
              "    </button>\n",
              "\n",
              "  <style>\n",
              "    .colab-df-container {\n",
              "      display:flex;\n",
              "      gap: 12px;\n",
              "    }\n",
              "\n",
              "    .colab-df-convert {\n",
              "      background-color: #E8F0FE;\n",
              "      border: none;\n",
              "      border-radius: 50%;\n",
              "      cursor: pointer;\n",
              "      display: none;\n",
              "      fill: #1967D2;\n",
              "      height: 32px;\n",
              "      padding: 0 0 0 0;\n",
              "      width: 32px;\n",
              "    }\n",
              "\n",
              "    .colab-df-convert:hover {\n",
              "      background-color: #E2EBFA;\n",
              "      box-shadow: 0px 1px 2px rgba(60, 64, 67, 0.3), 0px 1px 3px 1px rgba(60, 64, 67, 0.15);\n",
              "      fill: #174EA6;\n",
              "    }\n",
              "\n",
              "    .colab-df-buttons div {\n",
              "      margin-bottom: 4px;\n",
              "    }\n",
              "\n",
              "    [theme=dark] .colab-df-convert {\n",
              "      background-color: #3B4455;\n",
              "      fill: #D2E3FC;\n",
              "    }\n",
              "\n",
              "    [theme=dark] .colab-df-convert:hover {\n",
              "      background-color: #434B5C;\n",
              "      box-shadow: 0px 1px 3px 1px rgba(0, 0, 0, 0.15);\n",
              "      filter: drop-shadow(0px 1px 2px rgba(0, 0, 0, 0.3));\n",
              "      fill: #FFFFFF;\n",
              "    }\n",
              "  </style>\n",
              "\n",
              "    <script>\n",
              "      const buttonEl =\n",
              "        document.querySelector('#df-a53e9a72-8578-4c3c-b0a3-95f2ecc0a0ed button.colab-df-convert');\n",
              "      buttonEl.style.display =\n",
              "        google.colab.kernel.accessAllowed ? 'block' : 'none';\n",
              "\n",
              "      async function convertToInteractive(key) {\n",
              "        const element = document.querySelector('#df-a53e9a72-8578-4c3c-b0a3-95f2ecc0a0ed');\n",
              "        const dataTable =\n",
              "          await google.colab.kernel.invokeFunction('convertToInteractive',\n",
              "                                                    [key], {});\n",
              "        if (!dataTable) return;\n",
              "\n",
              "        const docLinkHtml = 'Like what you see? Visit the ' +\n",
              "          '<a target=\"_blank\" href=https://colab.research.google.com/notebooks/data_table.ipynb>data table notebook</a>'\n",
              "          + ' to learn more about interactive tables.';\n",
              "        element.innerHTML = '';\n",
              "        dataTable['output_type'] = 'display_data';\n",
              "        await google.colab.output.renderOutput(dataTable, element);\n",
              "        const docLink = document.createElement('div');\n",
              "        docLink.innerHTML = docLinkHtml;\n",
              "        element.appendChild(docLink);\n",
              "      }\n",
              "    </script>\n",
              "  </div>\n",
              "\n",
              "\n",
              "<div id=\"df-085def11-debd-48ac-80ce-181e2fbc4515\">\n",
              "  <button class=\"colab-df-quickchart\" onclick=\"quickchart('df-085def11-debd-48ac-80ce-181e2fbc4515')\"\n",
              "            title=\"Suggest charts\"\n",
              "            style=\"display:none;\">\n",
              "\n",
              "<svg xmlns=\"http://www.w3.org/2000/svg\" height=\"24px\"viewBox=\"0 0 24 24\"\n",
              "     width=\"24px\">\n",
              "    <g>\n",
              "        <path d=\"M19 3H5c-1.1 0-2 .9-2 2v14c0 1.1.9 2 2 2h14c1.1 0 2-.9 2-2V5c0-1.1-.9-2-2-2zM9 17H7v-7h2v7zm4 0h-2V7h2v10zm4 0h-2v-4h2v4z\"/>\n",
              "    </g>\n",
              "</svg>\n",
              "  </button>\n",
              "\n",
              "<style>\n",
              "  .colab-df-quickchart {\n",
              "      --bg-color: #E8F0FE;\n",
              "      --fill-color: #1967D2;\n",
              "      --hover-bg-color: #E2EBFA;\n",
              "      --hover-fill-color: #174EA6;\n",
              "      --disabled-fill-color: #AAA;\n",
              "      --disabled-bg-color: #DDD;\n",
              "  }\n",
              "\n",
              "  [theme=dark] .colab-df-quickchart {\n",
              "      --bg-color: #3B4455;\n",
              "      --fill-color: #D2E3FC;\n",
              "      --hover-bg-color: #434B5C;\n",
              "      --hover-fill-color: #FFFFFF;\n",
              "      --disabled-bg-color: #3B4455;\n",
              "      --disabled-fill-color: #666;\n",
              "  }\n",
              "\n",
              "  .colab-df-quickchart {\n",
              "    background-color: var(--bg-color);\n",
              "    border: none;\n",
              "    border-radius: 50%;\n",
              "    cursor: pointer;\n",
              "    display: none;\n",
              "    fill: var(--fill-color);\n",
              "    height: 32px;\n",
              "    padding: 0;\n",
              "    width: 32px;\n",
              "  }\n",
              "\n",
              "  .colab-df-quickchart:hover {\n",
              "    background-color: var(--hover-bg-color);\n",
              "    box-shadow: 0 1px 2px rgba(60, 64, 67, 0.3), 0 1px 3px 1px rgba(60, 64, 67, 0.15);\n",
              "    fill: var(--button-hover-fill-color);\n",
              "  }\n",
              "\n",
              "  .colab-df-quickchart-complete:disabled,\n",
              "  .colab-df-quickchart-complete:disabled:hover {\n",
              "    background-color: var(--disabled-bg-color);\n",
              "    fill: var(--disabled-fill-color);\n",
              "    box-shadow: none;\n",
              "  }\n",
              "\n",
              "  .colab-df-spinner {\n",
              "    border: 2px solid var(--fill-color);\n",
              "    border-color: transparent;\n",
              "    border-bottom-color: var(--fill-color);\n",
              "    animation:\n",
              "      spin 1s steps(1) infinite;\n",
              "  }\n",
              "\n",
              "  @keyframes spin {\n",
              "    0% {\n",
              "      border-color: transparent;\n",
              "      border-bottom-color: var(--fill-color);\n",
              "      border-left-color: var(--fill-color);\n",
              "    }\n",
              "    20% {\n",
              "      border-color: transparent;\n",
              "      border-left-color: var(--fill-color);\n",
              "      border-top-color: var(--fill-color);\n",
              "    }\n",
              "    30% {\n",
              "      border-color: transparent;\n",
              "      border-left-color: var(--fill-color);\n",
              "      border-top-color: var(--fill-color);\n",
              "      border-right-color: var(--fill-color);\n",
              "    }\n",
              "    40% {\n",
              "      border-color: transparent;\n",
              "      border-right-color: var(--fill-color);\n",
              "      border-top-color: var(--fill-color);\n",
              "    }\n",
              "    60% {\n",
              "      border-color: transparent;\n",
              "      border-right-color: var(--fill-color);\n",
              "    }\n",
              "    80% {\n",
              "      border-color: transparent;\n",
              "      border-right-color: var(--fill-color);\n",
              "      border-bottom-color: var(--fill-color);\n",
              "    }\n",
              "    90% {\n",
              "      border-color: transparent;\n",
              "      border-bottom-color: var(--fill-color);\n",
              "    }\n",
              "  }\n",
              "</style>\n",
              "\n",
              "  <script>\n",
              "    async function quickchart(key) {\n",
              "      const quickchartButtonEl =\n",
              "        document.querySelector('#' + key + ' button');\n",
              "      quickchartButtonEl.disabled = true;  // To prevent multiple clicks.\n",
              "      quickchartButtonEl.classList.add('colab-df-spinner');\n",
              "      try {\n",
              "        const charts = await google.colab.kernel.invokeFunction(\n",
              "            'suggestCharts', [key], {});\n",
              "      } catch (error) {\n",
              "        console.error('Error during call to suggestCharts:', error);\n",
              "      }\n",
              "      quickchartButtonEl.classList.remove('colab-df-spinner');\n",
              "      quickchartButtonEl.classList.add('colab-df-quickchart-complete');\n",
              "    }\n",
              "    (() => {\n",
              "      let quickchartButtonEl =\n",
              "        document.querySelector('#df-085def11-debd-48ac-80ce-181e2fbc4515 button');\n",
              "      quickchartButtonEl.style.display =\n",
              "        google.colab.kernel.accessAllowed ? 'block' : 'none';\n",
              "    })();\n",
              "  </script>\n",
              "</div>\n",
              "\n",
              "    </div>\n",
              "  </div>\n"
            ],
            "application/vnd.google.colaboratory.intrinsic+json": {
              "type": "dataframe",
              "variable_name": "data",
              "summary": "{\n  \"name\": \"data\",\n  \"rows\": 1552,\n  \"fields\": [\n    {\n      \"column\": \"Std\",\n      \"properties\": {\n        \"dtype\": \"category\",\n        \"num_unique_values\": 8,\n        \"samples\": [\n          \"ISO\",\n          \"GOST\",\n          \"ANSI\"\n        ],\n        \"semantic_type\": \"\",\n        \"description\": \"\"\n      }\n    },\n    {\n      \"column\": \"ID\",\n      \"properties\": {\n        \"dtype\": \"string\",\n        \"num_unique_values\": 1552,\n        \"samples\": [\n          \"A164112854AA482BBC92DAD34B921CA7\",\n          \"A704046CDCFD4380BA01F6281D0BA4A2\",\n          \"8A4A278D33064C189E9B48E0E1EADDB2\"\n        ],\n        \"semantic_type\": \"\",\n        \"description\": \"\"\n      }\n    },\n    {\n      \"column\": \"Material\",\n      \"properties\": {\n        \"dtype\": \"string\",\n        \"num_unique_values\": 1225,\n        \"samples\": [\n          \"DIN St1405\",\n          \"BS 43D\",\n          \"Steel ST3KP GOST 380-94\"\n        ],\n        \"semantic_type\": \"\",\n        \"description\": \"\"\n      }\n    },\n    {\n      \"column\": \"Heat treatment\",\n      \"properties\": {\n        \"dtype\": \"category\",\n        \"num_unique_values\": 44,\n        \"samples\": [\n          \"Improved\",\n          \"Cast (T53)\",\n          \"Wrought\"\n        ],\n        \"semantic_type\": \"\",\n        \"description\": \"\"\n      }\n    },\n    {\n      \"column\": \"Su\",\n      \"properties\": {\n        \"dtype\": \"number\",\n        \"std\": 326,\n        \"min\": 69,\n        \"max\": 2220,\n        \"num_unique_values\": 309,\n        \"samples\": [\n          638,\n          552,\n          655\n        ],\n        \"semantic_type\": \"\",\n        \"description\": \"\"\n      }\n    },\n    {\n      \"column\": \"Sy\",\n      \"properties\": {\n        \"dtype\": \"category\",\n        \"num_unique_values\": 291,\n        \"samples\": [\n          \"579\",\n          \"1400\",\n          \"422\"\n        ],\n        \"semantic_type\": \"\",\n        \"description\": \"\"\n      }\n    },\n    {\n      \"column\": \"A5\",\n      \"properties\": {\n        \"dtype\": \"number\",\n        \"std\": 12.42200394934198,\n        \"min\": 0.5,\n        \"max\": 70.0,\n        \"num_unique_values\": 98,\n        \"samples\": [\n          22.2,\n          28.2,\n          1.5\n        ],\n        \"semantic_type\": \"\",\n        \"description\": \"\"\n      }\n    },\n    {\n      \"column\": \"Bhn\",\n      \"properties\": {\n        \"dtype\": \"number\",\n        \"std\": 113.5080441620648,\n        \"min\": 19.0,\n        \"max\": 627.0,\n        \"num_unique_values\": 143,\n        \"samples\": [\n          43.0,\n          388.0,\n          35.0\n        ],\n        \"semantic_type\": \"\",\n        \"description\": \"\"\n      }\n    },\n    {\n      \"column\": \"E\",\n      \"properties\": {\n        \"dtype\": \"number\",\n        \"std\": 56135,\n        \"min\": 73000,\n        \"max\": 219000,\n        \"num_unique_values\": 43,\n        \"samples\": [\n          90000,\n          212000,\n          198000\n        ],\n        \"semantic_type\": \"\",\n        \"description\": \"\"\n      }\n    },\n    {\n      \"column\": \"G\",\n      \"properties\": {\n        \"dtype\": \"number\",\n        \"std\": 125326,\n        \"min\": 26000,\n        \"max\": 769000,\n        \"num_unique_values\": 33,\n        \"samples\": [\n          38000,\n          80000,\n          81000\n        ],\n        \"semantic_type\": \"\",\n        \"description\": \"\"\n      }\n    },\n    {\n      \"column\": \"mu\",\n      \"properties\": {\n        \"dtype\": \"number\",\n        \"std\": 0.024590091006833258,\n        \"min\": 0.2,\n        \"max\": 0.35,\n        \"num_unique_values\": 11,\n        \"samples\": [\n          0.34,\n          0.3,\n          0.29\n        ],\n        \"semantic_type\": \"\",\n        \"description\": \"\"\n      }\n    },\n    {\n      \"column\": \"Ro\",\n      \"properties\": {\n        \"dtype\": \"number\",\n        \"std\": 2115,\n        \"min\": 1750,\n        \"max\": 8930,\n        \"num_unique_values\": 35,\n        \"samples\": [\n          7670,\n          7826,\n          8120\n        ],\n        \"semantic_type\": \"\",\n        \"description\": \"\"\n      }\n    },\n    {\n      \"column\": \"pH\",\n      \"properties\": {\n        \"dtype\": \"number\",\n        \"std\": 370.53029335598626,\n        \"min\": 190.0,\n        \"max\": 1360.0,\n        \"num_unique_values\": 53,\n        \"samples\": [\n          441.0,\n          800.0,\n          1099.0\n        ],\n        \"semantic_type\": \"\",\n        \"description\": \"\"\n      }\n    },\n    {\n      \"column\": \"Desc\",\n      \"properties\": {\n        \"dtype\": \"category\",\n        \"num_unique_values\": 83,\n        \"samples\": [\n          \"Tin bronze, cast CuSn10\",\n          \"stainless\",\n          \"Alloy cast steel\"\n        ],\n        \"semantic_type\": \"\",\n        \"description\": \"\"\n      }\n    },\n    {\n      \"column\": \"HV\",\n      \"properties\": {\n        \"dtype\": \"number\",\n        \"std\": 202.76408874272073,\n        \"min\": 105.0,\n        \"max\": 800.0,\n        \"num_unique_values\": 48,\n        \"samples\": [\n          492.0,\n          127.0,\n          606.0\n        ],\n        \"semantic_type\": \"\",\n        \"description\": \"\"\n      }\n    }\n  ]\n}"
            }
          },
          "metadata": {},
          "execution_count": 323
        }
      ]
    },
    {
      "cell_type": "code",
      "source": [
        "data.shape"
      ],
      "metadata": {
        "colab": {
          "base_uri": "https://localhost:8080/"
        },
        "id": "hv1kN6v38Zoh",
        "outputId": "c5072612-0ce3-40ba-f048-4d7459928578"
      },
      "execution_count": 324,
      "outputs": [
        {
          "output_type": "execute_result",
          "data": {
            "text/plain": [
              "(1552, 15)"
            ]
          },
          "metadata": {},
          "execution_count": 324
        }
      ]
    },
    {
      "cell_type": "code",
      "source": [
        "data.columns"
      ],
      "metadata": {
        "colab": {
          "base_uri": "https://localhost:8080/"
        },
        "id": "vCgMyuHA7zXl",
        "outputId": "78041322-a5bb-4aee-dfa1-b11161c41698"
      },
      "execution_count": 325,
      "outputs": [
        {
          "output_type": "execute_result",
          "data": {
            "text/plain": [
              "Index(['Std', 'ID', 'Material', 'Heat treatment', 'Su', 'Sy', 'A5', 'Bhn', 'E',\n",
              "       'G', 'mu', 'Ro', 'pH', 'Desc', 'HV'],\n",
              "      dtype='object')"
            ]
          },
          "metadata": {},
          "execution_count": 325
        }
      ]
    },
    {
      "cell_type": "code",
      "source": [
        "data_2=pd.read_csv('/content/drive/MyDrive/material_mech/material.csv')"
      ],
      "metadata": {
        "id": "iQcGSYK1ZG-R"
      },
      "execution_count": 326,
      "outputs": []
    },
    {
      "cell_type": "code",
      "source": [
        "data_2.columns"
      ],
      "metadata": {
        "colab": {
          "base_uri": "https://localhost:8080/"
        },
        "id": "cZEcB83qZRMe",
        "outputId": "f8ab5694-6cbb-4446-8c48-2559226cae83"
      },
      "execution_count": 327,
      "outputs": [
        {
          "output_type": "execute_result",
          "data": {
            "text/plain": [
              "Index(['Material', 'Su', 'Sy', 'E', 'G', 'mu', 'Ro', 'Use'], dtype='object')"
            ]
          },
          "metadata": {},
          "execution_count": 327
        }
      ]
    },
    {
      "cell_type": "code",
      "source": [
        "data['use']=data_2['Use']"
      ],
      "metadata": {
        "id": "3x6ILuv6Z9r1"
      },
      "execution_count": 328,
      "outputs": []
    },
    {
      "cell_type": "code",
      "source": [
        "data['use'].value_counts()"
      ],
      "metadata": {
        "colab": {
          "base_uri": "https://localhost:8080/"
        },
        "id": "lkaujzY3bUbT",
        "outputId": "57fa2481-3e7d-4f07-f704-54e34504a046"
      },
      "execution_count": 329,
      "outputs": [
        {
          "output_type": "execute_result",
          "data": {
            "text/plain": [
              "use\n",
              "False    1417\n",
              "True      135\n",
              "Name: count, dtype: int64"
            ]
          },
          "metadata": {},
          "execution_count": 329
        }
      ]
    },
    {
      "cell_type": "markdown",
      "source": [
        "# dealing with insuffucient data"
      ],
      "metadata": {
        "id": "BJFRVqnTrCDb"
      }
    },
    {
      "cell_type": "code",
      "source": [
        "data=data.dropna(subset=['Heat treatment'] , axis=0)"
      ],
      "metadata": {
        "id": "9Ig-XIEMr0-i"
      },
      "execution_count": 330,
      "outputs": []
    },
    {
      "cell_type": "code",
      "source": [
        "data.reset_index(inplace = True, drop = True)"
      ],
      "metadata": {
        "id": "ukG2ATZooVv3"
      },
      "execution_count": 331,
      "outputs": []
    },
    {
      "cell_type": "code",
      "source": [
        "data.shape"
      ],
      "metadata": {
        "colab": {
          "base_uri": "https://localhost:8080/"
        },
        "id": "J8H3MxxWr18N",
        "outputId": "584432c7-cbff-439b-e39b-2c6dc9bde6fe"
      },
      "execution_count": 332,
      "outputs": [
        {
          "output_type": "execute_result",
          "data": {
            "text/plain": [
              "(802, 16)"
            ]
          },
          "metadata": {},
          "execution_count": 332
        }
      ]
    },
    {
      "cell_type": "code",
      "source": [
        "data['pH'].isnull().sum()"
      ],
      "metadata": {
        "colab": {
          "base_uri": "https://localhost:8080/"
        },
        "id": "_vgxF7CQr4Jo",
        "outputId": "b7a6c8cd-7ba8-4b11-f4c5-97c58a1b385c"
      },
      "execution_count": 333,
      "outputs": [
        {
          "output_type": "execute_result",
          "data": {
            "text/plain": [
              "728"
            ]
          },
          "metadata": {},
          "execution_count": 333
        }
      ]
    },
    {
      "cell_type": "code",
      "source": [
        "data['ID'].nunique()"
      ],
      "metadata": {
        "colab": {
          "base_uri": "https://localhost:8080/"
        },
        "id": "XhZVzhqMtx-O",
        "outputId": "df06e4fe-b1e1-42ad-e9dd-0d6525b9dccb"
      },
      "execution_count": 334,
      "outputs": [
        {
          "output_type": "execute_result",
          "data": {
            "text/plain": [
              "802"
            ]
          },
          "metadata": {},
          "execution_count": 334
        }
      ]
    },
    {
      "cell_type": "code",
      "source": [
        "data=data.drop(columns='ID')"
      ],
      "metadata": {
        "id": "Wmi0-1Xvt4qX"
      },
      "execution_count": 335,
      "outputs": []
    },
    {
      "cell_type": "code",
      "source": [
        "data=data.drop(columns='pH')"
      ],
      "metadata": {
        "id": "GtV-5yhgsARC"
      },
      "execution_count": 336,
      "outputs": []
    },
    {
      "cell_type": "code",
      "source": [
        "data['Desc'].isnull().sum()"
      ],
      "metadata": {
        "colab": {
          "base_uri": "https://localhost:8080/"
        },
        "id": "dLYxavsDsF_5",
        "outputId": "3269568b-19d1-4f83-d6c3-62d5277dd1af"
      },
      "execution_count": 337,
      "outputs": [
        {
          "output_type": "execute_result",
          "data": {
            "text/plain": [
              "389"
            ]
          },
          "metadata": {},
          "execution_count": 337
        }
      ]
    },
    {
      "cell_type": "code",
      "source": [
        "data=data.drop(columns='Desc')"
      ],
      "metadata": {
        "id": "nA14uqr7sOhC"
      },
      "execution_count": 338,
      "outputs": []
    },
    {
      "cell_type": "code",
      "source": [
        "data['HV'].isnull().sum()"
      ],
      "metadata": {
        "colab": {
          "base_uri": "https://localhost:8080/"
        },
        "id": "FEkkT7_AsLrj",
        "outputId": "36a3fe1f-28bf-44ff-e8c3-73606a5e64d0"
      },
      "execution_count": 339,
      "outputs": [
        {
          "output_type": "execute_result",
          "data": {
            "text/plain": [
              "740"
            ]
          },
          "metadata": {},
          "execution_count": 339
        }
      ]
    },
    {
      "cell_type": "code",
      "source": [
        "data=data.drop(columns='HV')"
      ],
      "metadata": {
        "id": "7cOto5qisUlQ"
      },
      "execution_count": 340,
      "outputs": []
    },
    {
      "cell_type": "code",
      "source": [
        "data.shape"
      ],
      "metadata": {
        "colab": {
          "base_uri": "https://localhost:8080/"
        },
        "id": "plrTB3N6seri",
        "outputId": "99fd73ca-18db-4bf0-bff5-ca44a6d6581d"
      },
      "execution_count": 341,
      "outputs": [
        {
          "output_type": "execute_result",
          "data": {
            "text/plain": [
              "(802, 12)"
            ]
          },
          "metadata": {},
          "execution_count": 341
        }
      ]
    },
    {
      "cell_type": "code",
      "source": [
        "data.isnull().sum()"
      ],
      "metadata": {
        "colab": {
          "base_uri": "https://localhost:8080/"
        },
        "id": "0fNW6-VrtT-C",
        "outputId": "2b6d3467-b46b-4c80-8751-e11caba2f79b"
      },
      "execution_count": 342,
      "outputs": [
        {
          "output_type": "execute_result",
          "data": {
            "text/plain": [
              "Std                 0\n",
              "Material            0\n",
              "Heat treatment      0\n",
              "Su                  0\n",
              "Sy                  0\n",
              "A5                 97\n",
              "Bhn               400\n",
              "E                   0\n",
              "G                   0\n",
              "mu                  0\n",
              "Ro                  0\n",
              "use                 0\n",
              "dtype: int64"
            ]
          },
          "metadata": {},
          "execution_count": 342
        }
      ]
    },
    {
      "cell_type": "code",
      "source": [
        "data=data.drop(columns='Bhn')"
      ],
      "metadata": {
        "id": "TkjGy2LvtX9y"
      },
      "execution_count": 343,
      "outputs": []
    },
    {
      "cell_type": "code",
      "source": [
        "data.isnull().sum()"
      ],
      "metadata": {
        "colab": {
          "base_uri": "https://localhost:8080/"
        },
        "id": "k8XAP7mFtgSO",
        "outputId": "39a6c6a1-53cf-4a6c-8d32-d9be22f0ecd5"
      },
      "execution_count": 344,
      "outputs": [
        {
          "output_type": "execute_result",
          "data": {
            "text/plain": [
              "Std                0\n",
              "Material           0\n",
              "Heat treatment     0\n",
              "Su                 0\n",
              "Sy                 0\n",
              "A5                97\n",
              "E                  0\n",
              "G                  0\n",
              "mu                 0\n",
              "Ro                 0\n",
              "use                0\n",
              "dtype: int64"
            ]
          },
          "metadata": {},
          "execution_count": 344
        }
      ]
    },
    {
      "cell_type": "code",
      "source": [
        "sns.displot(data['A5'])"
      ],
      "metadata": {
        "colab": {
          "base_uri": "https://localhost:8080/",
          "height": 0
        },
        "id": "jaqmzCuuuGGb",
        "outputId": "574574b3-a515-4000-c07f-5bf1be9a37ac"
      },
      "execution_count": 345,
      "outputs": [
        {
          "output_type": "execute_result",
          "data": {
            "text/plain": [
              "<seaborn.axisgrid.FacetGrid at 0x7f09eaf50760>"
            ]
          },
          "metadata": {},
          "execution_count": 345
        },
        {
          "output_type": "display_data",
          "data": {
            "text/plain": [
              "<Figure size 500x500 with 1 Axes>"
            ],
            "image/png": "[encoded data removed]"
          },
          "metadata": {}
        }
      ]
    },
    {
      "cell_type": "code",
      "source": [
        "data['A5'].dtype"
      ],
      "metadata": {
        "colab": {
          "base_uri": "https://localhost:8080/"
        },
        "id": "85tLTggluMxy",
        "outputId": "586b25ec-8df3-462d-807b-35d2b58c5e29"
      },
      "execution_count": 346,
      "outputs": [
        {
          "output_type": "execute_result",
          "data": {
            "text/plain": [
              "dtype('float64')"
            ]
          },
          "metadata": {},
          "execution_count": 346
        }
      ]
    },
    {
      "cell_type": "code",
      "source": [
        "num_cols=data.select_dtypes(include=np.number)\n",
        "corr=num_cols.corr()\n",
        "sns.heatmap(corr)"
      ],
      "metadata": {
        "colab": {
          "base_uri": "https://localhost:8080/",
          "height": 0
        },
        "id": "OrNpj3X6uUU-",
        "outputId": "07b4263e-a1b0-41f8-b7e6-86b71c18986f"
      },
      "execution_count": 347,
      "outputs": [
        {
          "output_type": "execute_result",
          "data": {
            "text/plain": [
              "<Axes: >"
            ]
          },
          "metadata": {},
          "execution_count": 347
        },
        {
          "output_type": "display_data",
          "data": {
            "text/plain": [
              "<Figure size 640x480 with 2 Axes>"
            ],
            "image/png": "[encoded data removed]"
          },
          "metadata": {}
        }
      ]
    },
    {
      "cell_type": "code",
      "source": [
        "data['A5'].corr(data['G'])"
      ],
      "metadata": {
        "colab": {
          "base_uri": "https://localhost:8080/"
        },
        "id": "7wfv91hDuvlW",
        "outputId": "7a18ebe4-24cb-423b-acf6-4a058c1e2e3b"
      },
      "execution_count": 348,
      "outputs": [
        {
          "output_type": "execute_result",
          "data": {
            "text/plain": [
              "0.41515073459697105"
            ]
          },
          "metadata": {},
          "execution_count": 348
        }
      ]
    },
    {
      "cell_type": "code",
      "source": [
        "data=data.drop(columns='A5')"
      ],
      "metadata": {
        "id": "pLKwyhOuuREy"
      },
      "execution_count": 349,
      "outputs": []
    },
    {
      "cell_type": "code",
      "source": [
        "data.reset_index(inplace = True, drop = True)"
      ],
      "metadata": {
        "id": "tPI1BkNZohsS"
      },
      "execution_count": 350,
      "outputs": []
    },
    {
      "cell_type": "code",
      "source": [
        "data.isnull().sum()"
      ],
      "metadata": {
        "colab": {
          "base_uri": "https://localhost:8080/"
        },
        "id": "8MlOZ_F8u5-Y",
        "outputId": "1cace68d-91fb-4600-e1cb-1004ade682b2"
      },
      "execution_count": 351,
      "outputs": [
        {
          "output_type": "execute_result",
          "data": {
            "text/plain": [
              "Std               0\n",
              "Material          0\n",
              "Heat treatment    0\n",
              "Su                0\n",
              "Sy                0\n",
              "E                 0\n",
              "G                 0\n",
              "mu                0\n",
              "Ro                0\n",
              "use               0\n",
              "dtype: int64"
            ]
          },
          "metadata": {},
          "execution_count": 351
        }
      ]
    },
    {
      "cell_type": "code",
      "source": [
        "data.dtypes"
      ],
      "metadata": {
        "colab": {
          "base_uri": "https://localhost:8080/"
        },
        "id": "qTJPevPYu9e4",
        "outputId": "bb4d28b7-ca6b-436b-c0a9-6885ae1826e0"
      },
      "execution_count": 352,
      "outputs": [
        {
          "output_type": "execute_result",
          "data": {
            "text/plain": [
              "Std                object\n",
              "Material           object\n",
              "Heat treatment     object\n",
              "Su                  int64\n",
              "Sy                 object\n",
              "E                   int64\n",
              "G                   int64\n",
              "mu                float64\n",
              "Ro                  int64\n",
              "use                  bool\n",
              "dtype: object"
            ]
          },
          "metadata": {},
          "execution_count": 352
        }
      ]
    },
    {
      "cell_type": "code",
      "source": [
        "data['yield_str'] = pd.to_numeric(data['Sy'], errors='coerce').astype('Int64')"
      ],
      "metadata": {
        "id": "HHCnkmwivHy7"
      },
      "execution_count": 353,
      "outputs": []
    },
    {
      "cell_type": "code",
      "source": [
        "data=data.drop(columns='Sy')"
      ],
      "metadata": {
        "id": "6W7U7PUqvV26"
      },
      "execution_count": 354,
      "outputs": []
    },
    {
      "cell_type": "code",
      "source": [
        "data.shape"
      ],
      "metadata": {
        "colab": {
          "base_uri": "https://localhost:8080/"
        },
        "id": "1aDH4XWPvX2d",
        "outputId": "e11c0a12-ea4c-4364-90a6-c4eeade9bcc6"
      },
      "execution_count": 355,
      "outputs": [
        {
          "output_type": "execute_result",
          "data": {
            "text/plain": [
              "(802, 10)"
            ]
          },
          "metadata": {},
          "execution_count": 355
        }
      ]
    },
    {
      "cell_type": "markdown",
      "source": [
        "# visualizing data"
      ],
      "metadata": {
        "id": "FuhkqquoSvS2"
      }
    },
    {
      "cell_type": "code",
      "source": [
        "data.describe()"
      ],
      "metadata": {
        "colab": {
          "base_uri": "https://localhost:8080/",
          "height": 0
        },
        "id": "3H-j1TrGS0xP",
        "outputId": "4be6d4a0-44f8-4e7e-a69c-4e88632ce67f"
      },
      "execution_count": 356,
      "outputs": [
        {
          "output_type": "execute_result",
          "data": {
            "text/plain": [
              "                Su              E              G          mu           Ro  \\\n",
              "count   802.000000     802.000000     802.000000  802.000000   802.000000   \n",
              "mean    630.819202  159251.870324  103849.127182    0.309027  6045.145885   \n",
              "std     394.396080   63107.176755  171462.457152    0.015660  2521.218412   \n",
              "min      69.000000   73000.000000   26000.000000    0.290000  1750.000000   \n",
              "25%     310.000000   73000.000000   26000.000000    0.300000  2700.000000   \n",
              "50%     574.500000  204000.000000   79000.000000    0.300000  7850.000000   \n",
              "75%     800.000000  206000.000000   80000.000000    0.330000  7860.000000   \n",
              "max    2220.000000  219000.000000  769000.000000    0.330000  8800.000000   \n",
              "\n",
              "        yield_str  \n",
              "count       802.0  \n",
              "mean   446.684539  \n",
              "std    348.850352  \n",
              "min          28.0  \n",
              "25%         214.0  \n",
              "50%         345.5  \n",
              "75%         556.0  \n",
              "max        2048.0  "
            ],
            "text/html": [
              "\n",
              "  <div id=\"df-285b6d0c-ffbc-41e3-9554-437b0d3fc51a\" class=\"colab-df-container\">\n",
              "    <div>\n",
              "<style scoped>\n",
              "    .dataframe tbody tr th:only-of-type {\n",
              "        vertical-align: middle;\n",
              "    }\n",
              "\n",
              "    .dataframe tbody tr th {\n",
              "        vertical-align: top;\n",
              "    }\n",
              "\n",
              "    .dataframe thead th {\n",
              "        text-align: right;\n",
              "    }\n",
              "</style>\n",
              "<table border=\"1\" class=\"dataframe\">\n",
              "  <thead>\n",
              "    <tr style=\"text-align: right;\">\n",
              "      <th></th>\n",
              "      <th>Su</th>\n",
              "      <th>E</th>\n",
              "      <th>G</th>\n",
              "      <th>mu</th>\n",
              "      <th>Ro</th>\n",
              "      <th>yield_str</th>\n",
              "    </tr>\n",
              "  </thead>\n",
              "  <tbody>\n",
              "    <tr>\n",
              "      <th>count</th>\n",
              "      <td>802.000000</td>\n",
              "      <td>802.000000</td>\n",
              "      <td>802.000000</td>\n",
              "      <td>802.000000</td>\n",
              "      <td>802.000000</td>\n",
              "      <td>802.0</td>\n",
              "    </tr>\n",
              "    <tr>\n",
              "      <th>mean</th>\n",
              "      <td>630.819202</td>\n",
              "      <td>159251.870324</td>\n",
              "      <td>103849.127182</td>\n",
              "      <td>0.309027</td>\n",
              "      <td>6045.145885</td>\n",
              "      <td>446.684539</td>\n",
              "    </tr>\n",
              "    <tr>\n",
              "      <th>std</th>\n",
              "      <td>394.396080</td>\n",
              "      <td>63107.176755</td>\n",
              "      <td>171462.457152</td>\n",
              "      <td>0.015660</td>\n",
              "      <td>2521.218412</td>\n",
              "      <td>348.850352</td>\n",
              "    </tr>\n",
              "    <tr>\n",
              "      <th>min</th>\n",
              "      <td>69.000000</td>\n",
              "      <td>73000.000000</td>\n",
              "      <td>26000.000000</td>\n",
              "      <td>0.290000</td>\n",
              "      <td>1750.000000</td>\n",
              "      <td>28.0</td>\n",
              "    </tr>\n",
              "    <tr>\n",
              "      <th>25%</th>\n",
              "      <td>310.000000</td>\n",
              "      <td>73000.000000</td>\n",
              "      <td>26000.000000</td>\n",
              "      <td>0.300000</td>\n",
              "      <td>2700.000000</td>\n",
              "      <td>214.0</td>\n",
              "    </tr>\n",
              "    <tr>\n",
              "      <th>50%</th>\n",
              "      <td>574.500000</td>\n",
              "      <td>204000.000000</td>\n",
              "      <td>79000.000000</td>\n",
              "      <td>0.300000</td>\n",
              "      <td>7850.000000</td>\n",
              "      <td>345.5</td>\n",
              "    </tr>\n",
              "    <tr>\n",
              "      <th>75%</th>\n",
              "      <td>800.000000</td>\n",
              "      <td>206000.000000</td>\n",
              "      <td>80000.000000</td>\n",
              "      <td>0.330000</td>\n",
              "      <td>7860.000000</td>\n",
              "      <td>556.0</td>\n",
              "    </tr>\n",
              "    <tr>\n",
              "      <th>max</th>\n",
              "      <td>2220.000000</td>\n",
              "      <td>219000.000000</td>\n",
              "      <td>769000.000000</td>\n",
              "      <td>0.330000</td>\n",
              "      <td>8800.000000</td>\n",
              "      <td>2048.0</td>\n",
              "    </tr>\n",
              "  </tbody>\n",
              "</table>\n",
              "</div>\n",
              "    <div class=\"colab-df-buttons\">\n",
              "\n",
              "  <div class=\"colab-df-container\">\n",
              "    <button class=\"colab-df-convert\" onclick=\"convertToInteractive('df-285b6d0c-ffbc-41e3-9554-437b0d3fc51a')\"\n",
              "            title=\"Convert this dataframe to an interactive table.\"\n",
              "            style=\"display:none;\">\n",
              "\n",
              "  <svg xmlns=\"http://www.w3.org/2000/svg\" height=\"24px\" viewBox=\"0 -960 960 960\">\n",
              "    <path d=\"M120-120v-720h720v720H120Zm60-500h600v-160H180v160Zm220 220h160v-160H400v160Zm0 220h160v-160H400v160ZM180-400h160v-160H180v160Zm440 0h160v-160H620v160ZM180-180h160v-160H180v160Zm440 0h160v-160H620v160Z\"/>\n",
              "  </svg>\n",
              "    </button>\n",
              "\n",
              "  <style>\n",
              "    .colab-df-container {\n",
              "      display:flex;\n",
              "      gap: 12px;\n",
              "    }\n",
              "\n",
              "    .colab-df-convert {\n",
              "      background-color: #E8F0FE;\n",
              "      border: none;\n",
              "      border-radius: 50%;\n",
              "      cursor: pointer;\n",
              "      display: none;\n",
              "      fill: #1967D2;\n",
              "      height: 32px;\n",
              "      padding: 0 0 0 0;\n",
              "      width: 32px;\n",
              "    }\n",
              "\n",
              "    .colab-df-convert:hover {\n",
              "      background-color: #E2EBFA;\n",
              "      box-shadow: 0px 1px 2px rgba(60, 64, 67, 0.3), 0px 1px 3px 1px rgba(60, 64, 67, 0.15);\n",
              "      fill: #174EA6;\n",
              "    }\n",
              "\n",
              "    .colab-df-buttons div {\n",
              "      margin-bottom: 4px;\n",
              "    }\n",
              "\n",
              "    [theme=dark] .colab-df-convert {\n",
              "      background-color: #3B4455;\n",
              "      fill: #D2E3FC;\n",
              "    }\n",
              "\n",
              "    [theme=dark] .colab-df-convert:hover {\n",
              "      background-color: #434B5C;\n",
              "      box-shadow: 0px 1px 3px 1px rgba(0, 0, 0, 0.15);\n",
              "      filter: drop-shadow(0px 1px 2px rgba(0, 0, 0, 0.3));\n",
              "      fill: #FFFFFF;\n",
              "    }\n",
              "  </style>\n",
              "\n",
              "    <script>\n",
              "      const buttonEl =\n",
              "        document.querySelector('#df-285b6d0c-ffbc-41e3-9554-437b0d3fc51a button.colab-df-convert');\n",
              "      buttonEl.style.display =\n",
              "        google.colab.kernel.accessAllowed ? 'block' : 'none';\n",
              "\n",
              "      async function convertToInteractive(key) {\n",
              "        const element = document.querySelector('#df-285b6d0c-ffbc-41e3-9554-437b0d3fc51a');\n",
              "        const dataTable =\n",
              "          await google.colab.kernel.invokeFunction('convertToInteractive',\n",
              "                                                    [key], {});\n",
              "        if (!dataTable) return;\n",
              "\n",
              "        const docLinkHtml = 'Like what you see? Visit the ' +\n",
              "          '<a target=\"_blank\" href=https://colab.research.google.com/notebooks/data_table.ipynb>data table notebook</a>'\n",
              "          + ' to learn more about interactive tables.';\n",
              "        element.innerHTML = '';\n",
              "        dataTable['output_type'] = 'display_data';\n",
              "        await google.colab.output.renderOutput(dataTable, element);\n",
              "        const docLink = document.createElement('div');\n",
              "        docLink.innerHTML = docLinkHtml;\n",
              "        element.appendChild(docLink);\n",
              "      }\n",
              "    </script>\n",
              "  </div>\n",
              "\n",
              "\n",
              "<div id=\"df-ea582315-b655-42f7-a2c5-0da7885ca90b\">\n",
              "  <button class=\"colab-df-quickchart\" onclick=\"quickchart('df-ea582315-b655-42f7-a2c5-0da7885ca90b')\"\n",
              "            title=\"Suggest charts\"\n",
              "            style=\"display:none;\">\n",
              "\n",
              "<svg xmlns=\"http://www.w3.org/2000/svg\" height=\"24px\"viewBox=\"0 0 24 24\"\n",
              "     width=\"24px\">\n",
              "    <g>\n",
              "        <path d=\"M19 3H5c-1.1 0-2 .9-2 2v14c0 1.1.9 2 2 2h14c1.1 0 2-.9 2-2V5c0-1.1-.9-2-2-2zM9 17H7v-7h2v7zm4 0h-2V7h2v10zm4 0h-2v-4h2v4z\"/>\n",
              "    </g>\n",
              "</svg>\n",
              "  </button>\n",
              "\n",
              "<style>\n",
              "  .colab-df-quickchart {\n",
              "      --bg-color: #E8F0FE;\n",
              "      --fill-color: #1967D2;\n",
              "      --hover-bg-color: #E2EBFA;\n",
              "      --hover-fill-color: #174EA6;\n",
              "      --disabled-fill-color: #AAA;\n",
              "      --disabled-bg-color: #DDD;\n",
              "  }\n",
              "\n",
              "  [theme=dark] .colab-df-quickchart {\n",
              "      --bg-color: #3B4455;\n",
              "      --fill-color: #D2E3FC;\n",
              "      --hover-bg-color: #434B5C;\n",
              "      --hover-fill-color: #FFFFFF;\n",
              "      --disabled-bg-color: #3B4455;\n",
              "      --disabled-fill-color: #666;\n",
              "  }\n",
              "\n",
              "  .colab-df-quickchart {\n",
              "    background-color: var(--bg-color);\n",
              "    border: none;\n",
              "    border-radius: 50%;\n",
              "    cursor: pointer;\n",
              "    display: none;\n",
              "    fill: var(--fill-color);\n",
              "    height: 32px;\n",
              "    padding: 0;\n",
              "    width: 32px;\n",
              "  }\n",
              "\n",
              "  .colab-df-quickchart:hover {\n",
              "    background-color: var(--hover-bg-color);\n",
              "    box-shadow: 0 1px 2px rgba(60, 64, 67, 0.3), 0 1px 3px 1px rgba(60, 64, 67, 0.15);\n",
              "    fill: var(--button-hover-fill-color);\n",
              "  }\n",
              "\n",
              "  .colab-df-quickchart-complete:disabled,\n",
              "  .colab-df-quickchart-complete:disabled:hover {\n",
              "    background-color: var(--disabled-bg-color);\n",
              "    fill: var(--disabled-fill-color);\n",
              "    box-shadow: none;\n",
              "  }\n",
              "\n",
              "  .colab-df-spinner {\n",
              "    border: 2px solid var(--fill-color);\n",
              "    border-color: transparent;\n",
              "    border-bottom-color: var(--fill-color);\n",
              "    animation:\n",
              "      spin 1s steps(1) infinite;\n",
              "  }\n",
              "\n",
              "  @keyframes spin {\n",
              "    0% {\n",
              "      border-color: transparent;\n",
              "      border-bottom-color: var(--fill-color);\n",
              "      border-left-color: var(--fill-color);\n",
              "    }\n",
              "    20% {\n",
              "      border-color: transparent;\n",
              "      border-left-color: var(--fill-color);\n",
              "      border-top-color: var(--fill-color);\n",
              "    }\n",
              "    30% {\n",
              "      border-color: transparent;\n",
              "      border-left-color: var(--fill-color);\n",
              "      border-top-color: var(--fill-color);\n",
              "      border-right-color: var(--fill-color);\n",
              "    }\n",
              "    40% {\n",
              "      border-color: transparent;\n",
              "      border-right-color: var(--fill-color);\n",
              "      border-top-color: var(--fill-color);\n",
              "    }\n",
              "    60% {\n",
              "      border-color: transparent;\n",
              "      border-right-color: var(--fill-color);\n",
              "    }\n",
              "    80% {\n",
              "      border-color: transparent;\n",
              "      border-right-color: var(--fill-color);\n",
              "      border-bottom-color: var(--fill-color);\n",
              "    }\n",
              "    90% {\n",
              "      border-color: transparent;\n",
              "      border-bottom-color: var(--fill-color);\n",
              "    }\n",
              "  }\n",
              "</style>\n",
              "\n",
              "  <script>\n",
              "    async function quickchart(key) {\n",
              "      const quickchartButtonEl =\n",
              "        document.querySelector('#' + key + ' button');\n",
              "      quickchartButtonEl.disabled = true;  // To prevent multiple clicks.\n",
              "      quickchartButtonEl.classList.add('colab-df-spinner');\n",
              "      try {\n",
              "        const charts = await google.colab.kernel.invokeFunction(\n",
              "            'suggestCharts', [key], {});\n",
              "      } catch (error) {\n",
              "        console.error('Error during call to suggestCharts:', error);\n",
              "      }\n",
              "      quickchartButtonEl.classList.remove('colab-df-spinner');\n",
              "      quickchartButtonEl.classList.add('colab-df-quickchart-complete');\n",
              "    }\n",
              "    (() => {\n",
              "      let quickchartButtonEl =\n",
              "        document.querySelector('#df-ea582315-b655-42f7-a2c5-0da7885ca90b button');\n",
              "      quickchartButtonEl.style.display =\n",
              "        google.colab.kernel.accessAllowed ? 'block' : 'none';\n",
              "    })();\n",
              "  </script>\n",
              "</div>\n",
              "\n",
              "    </div>\n",
              "  </div>\n"
            ],
            "application/vnd.google.colaboratory.intrinsic+json": {
              "type": "dataframe",
              "summary": "{\n  \"name\": \"data\",\n  \"rows\": 8,\n  \"fields\": [\n    {\n      \"column\": \"Su\",\n      \"properties\": {\n        \"dtype\": \"number\",\n        \"std\": 653.5572070806417,\n        \"min\": 69.0,\n        \"max\": 2220.0,\n        \"num_unique_values\": 8,\n        \"samples\": [\n          630.8192019950125,\n          574.5,\n          802.0\n        ],\n        \"semantic_type\": \"\",\n        \"description\": \"\"\n      }\n    },\n    {\n      \"column\": \"E\",\n      \"properties\": {\n        \"dtype\": \"number\",\n        \"std\": 82353.44790717965,\n        \"min\": 802.0,\n        \"max\": 219000.0,\n        \"num_unique_values\": 7,\n        \"samples\": [\n          802.0,\n          159251.8703241895,\n          206000.0\n        ],\n        \"semantic_type\": \"\",\n        \"description\": \"\"\n      }\n    },\n    {\n      \"column\": \"G\",\n      \"properties\": {\n        \"dtype\": \"number\",\n        \"std\": 253070.00486582442,\n        \"min\": 802.0,\n        \"max\": 769000.0,\n        \"num_unique_values\": 7,\n        \"samples\": [\n          802.0,\n          103849.12718204489,\n          80000.0\n        ],\n        \"semantic_type\": \"\",\n        \"description\": \"\"\n      }\n    },\n    {\n      \"column\": \"mu\",\n      \"properties\": {\n        \"dtype\": \"number\",\n        \"std\": 283.4551522715589,\n        \"min\": 0.015660306163976293,\n        \"max\": 802.0,\n        \"num_unique_values\": 6,\n        \"samples\": [\n          802.0,\n          0.30902743142144634,\n          0.33\n        ],\n        \"semantic_type\": \"\",\n        \"description\": \"\"\n      }\n    },\n    {\n      \"column\": \"Ro\",\n      \"properties\": {\n        \"dtype\": \"number\",\n        \"std\": 3187.143735636921,\n        \"min\": 802.0,\n        \"max\": 8800.0,\n        \"num_unique_values\": 8,\n        \"samples\": [\n          6045.145885286783,\n          7850.0,\n          802.0\n        ],\n        \"semantic_type\": \"\",\n        \"description\": \"\"\n      }\n    },\n    {\n      \"column\": \"yield_str\",\n      \"properties\": {\n        \"dtype\": \"Float64\",\n        \"num_unique_values\": 8,\n        \"samples\": [\n          446.6845386533666,\n          345.5,\n          802.0\n        ],\n        \"semantic_type\": \"\",\n        \"description\": \"\"\n      }\n    }\n  ]\n}"
            }
          },
          "metadata": {},
          "execution_count": 356
        }
      ]
    },
    {
      "cell_type": "code",
      "source": [
        "sns.displot(data['Su'])"
      ],
      "metadata": {
        "colab": {
          "base_uri": "https://localhost:8080/",
          "height": 0
        },
        "id": "i5sF7SkUTLQw",
        "outputId": "cd588f3a-e2d3-437c-cb6d-147f6f99120c"
      },
      "execution_count": 357,
      "outputs": [
        {
          "output_type": "execute_result",
          "data": {
            "text/plain": [
              "<seaborn.axisgrid.FacetGrid at 0x7f09e8614a60>"
            ]
          },
          "metadata": {},
          "execution_count": 357
        },
        {
          "output_type": "display_data",
          "data": {
            "text/plain": [
              "<Figure size 500x500 with 1 Axes>"
            ],
            "image/png": "[encoded data removed]"
          },
          "metadata": {}
        }
      ]
    },
    {
      "cell_type": "code",
      "source": [
        "sns.displot(data['E'])"
      ],
      "metadata": {
        "colab": {
          "base_uri": "https://localhost:8080/",
          "height": 0
        },
        "id": "i_H8_SctTVPc",
        "outputId": "beaeed43-e833-4f9d-eb4a-6c4051c3fa9e"
      },
      "execution_count": 358,
      "outputs": [
        {
          "output_type": "execute_result",
          "data": {
            "text/plain": [
              "<seaborn.axisgrid.FacetGrid at 0x7f09e8636500>"
            ]
          },
          "metadata": {},
          "execution_count": 358
        },
        {
          "output_type": "display_data",
          "data": {
            "text/plain": [
              "<Figure size 500x500 with 1 Axes>"
            ],
            "image/png": "[encoded data removed]"
          },
          "metadata": {}
        }
      ]
    },
    {
      "cell_type": "code",
      "source": [
        "sns.displot(data['G'])"
      ],
      "metadata": {
        "colab": {
          "base_uri": "https://localhost:8080/",
          "height": 0
        },
        "id": "tLlKVM_oTdMu",
        "outputId": "8220a417-65f5-4d3d-a0a4-5b5ccff7b36f"
      },
      "execution_count": 359,
      "outputs": [
        {
          "output_type": "execute_result",
          "data": {
            "text/plain": [
              "<seaborn.axisgrid.FacetGrid at 0x7f09e8886830>"
            ]
          },
          "metadata": {},
          "execution_count": 359
        },
        {
          "output_type": "display_data",
          "data": {
            "text/plain": [
              "<Figure size 500x500 with 1 Axes>"
            ],
            "image/png": "[encoded data removed]"
          },
          "metadata": {}
        }
      ]
    },
    {
      "cell_type": "code",
      "source": [
        "sns.displot(data['mu'])"
      ],
      "metadata": {
        "colab": {
          "base_uri": "https://localhost:8080/",
          "height": 0
        },
        "id": "rCK8qNPWTe--",
        "outputId": "2e161921-826b-4515-e96e-a97f9dba0043"
      },
      "execution_count": 360,
      "outputs": [
        {
          "output_type": "execute_result",
          "data": {
            "text/plain": [
              "<seaborn.axisgrid.FacetGrid at 0x7f09e866c430>"
            ]
          },
          "metadata": {},
          "execution_count": 360
        },
        {
          "output_type": "display_data",
          "data": {
            "text/plain": [
              "<Figure size 500x500 with 1 Axes>"
            ],
            "image/png": "[encoded data removed]"
          },
          "metadata": {}
        }
      ]
    },
    {
      "cell_type": "markdown",
      "source": [
        "# numeric_cols"
      ],
      "metadata": {
        "id": "LIHaB-yov8bU"
      }
    },
    {
      "cell_type": "code",
      "source": [
        "num_cols=data.select_dtypes(include=np.number)\n",
        "corr=num_cols.corr()\n",
        "sns.heatmap(corr ,annot=True)"
      ],
      "metadata": {
        "colab": {
          "base_uri": "https://localhost:8080/",
          "height": 0
        },
        "id": "uE3BoRYXv94G",
        "outputId": "1b4e5125-d835-41a1-a3c8-138d04905beb"
      },
      "execution_count": 361,
      "outputs": [
        {
          "output_type": "execute_result",
          "data": {
            "text/plain": [
              "<Axes: >"
            ]
          },
          "metadata": {},
          "execution_count": 361
        },
        {
          "output_type": "display_data",
          "data": {
            "text/plain": [
              "<Figure size 640x480 with 2 Axes>"
            ],
            "image/png": "[encoded data removed]"
          },
          "metadata": {}
        }
      ]
    },
    {
      "cell_type": "code",
      "source": [
        "data['E'].var()"
      ],
      "metadata": {
        "colab": {
          "base_uri": "https://localhost:8080/"
        },
        "id": "zGH92vCJwGa2",
        "outputId": "2a80bbfd-ef91-4d90-c5f4-51660ee20db6"
      },
      "execution_count": 362,
      "outputs": [
        {
          "output_type": "execute_result",
          "data": {
            "text/plain": [
              "3982515758.0455856"
            ]
          },
          "metadata": {},
          "execution_count": 362
        }
      ]
    },
    {
      "cell_type": "code",
      "source": [
        "data['Ro'].var()"
      ],
      "metadata": {
        "colab": {
          "base_uri": "https://localhost:8080/"
        },
        "id": "qqBQfXpewzMj",
        "outputId": "c1ffc7ad-327f-4c5f-c926-82168d51e541"
      },
      "execution_count": 363,
      "outputs": [
        {
          "output_type": "execute_result",
          "data": {
            "text/plain": [
              "6356542.2820617"
            ]
          },
          "metadata": {},
          "execution_count": 363
        }
      ]
    },
    {
      "cell_type": "code",
      "source": [
        "data['yield_str'].var()"
      ],
      "metadata": {
        "colab": {
          "base_uri": "https://localhost:8080/"
        },
        "id": "Vr4V18YGw3YA",
        "outputId": "e86d0124-8c49-46c2-a62d-a3fe509466bc"
      },
      "execution_count": 364,
      "outputs": [
        {
          "output_type": "execute_result",
          "data": {
            "text/plain": [
              "121696.56827500535"
            ]
          },
          "metadata": {},
          "execution_count": 364
        }
      ]
    },
    {
      "cell_type": "code",
      "source": [
        "data['Su'].var()"
      ],
      "metadata": {
        "colab": {
          "base_uri": "https://localhost:8080/"
        },
        "id": "YWKXY4RDw7Kc",
        "outputId": "cca4eec1-ffeb-4c23-8515-8b29e149bb08"
      },
      "execution_count": 365,
      "outputs": [
        {
          "output_type": "execute_result",
          "data": {
            "text/plain": [
              "155548.26814518013"
            ]
          },
          "metadata": {},
          "execution_count": 365
        }
      ]
    },
    {
      "cell_type": "code",
      "source": [
        "data=data.drop(columns='Ro')"
      ],
      "metadata": {
        "id": "sAa1Vg3gxANA"
      },
      "execution_count": 366,
      "outputs": []
    },
    {
      "cell_type": "code",
      "source": [
        "data=data.drop(columns='yield_str')"
      ],
      "metadata": {
        "id": "QPRgreETxSAe"
      },
      "execution_count": 367,
      "outputs": []
    },
    {
      "cell_type": "code",
      "source": [
        "data.shape"
      ],
      "metadata": {
        "colab": {
          "base_uri": "https://localhost:8080/"
        },
        "id": "y657dr6cxXua",
        "outputId": "07944dba-ca5b-47cc-9d6b-24931a4b4a8a"
      },
      "execution_count": 368,
      "outputs": [
        {
          "output_type": "execute_result",
          "data": {
            "text/plain": [
              "(802, 8)"
            ]
          },
          "metadata": {},
          "execution_count": 368
        }
      ]
    },
    {
      "cell_type": "code",
      "source": [
        "num_cols=data.select_dtypes(include=np.number)\n",
        "corr=num_cols.corr()\n",
        "sns.heatmap(corr ,annot=True)"
      ],
      "metadata": {
        "colab": {
          "base_uri": "https://localhost:8080/",
          "height": 0
        },
        "id": "jgW6oieGxZ1h",
        "outputId": "0feb8204-d6f0-417b-b0f1-c459acf5f673"
      },
      "execution_count": 369,
      "outputs": [
        {
          "output_type": "execute_result",
          "data": {
            "text/plain": [
              "<Axes: >"
            ]
          },
          "metadata": {},
          "execution_count": 369
        },
        {
          "output_type": "display_data",
          "data": {
            "text/plain": [
              "<Figure size 640x480 with 2 Axes>"
            ],
            "image/png": "[encoded data removed]"
          },
          "metadata": {}
        }
      ]
    },
    {
      "cell_type": "code",
      "source": [
        "num_cols.describe()"
      ],
      "metadata": {
        "colab": {
          "base_uri": "https://localhost:8080/",
          "height": 0
        },
        "id": "9C9pEkgsxfPe",
        "outputId": "35ffe0e4-86f8-40f1-dd9c-e9d906dff261"
      },
      "execution_count": 370,
      "outputs": [
        {
          "output_type": "execute_result",
          "data": {
            "text/plain": [
              "                Su              E              G          mu\n",
              "count   802.000000     802.000000     802.000000  802.000000\n",
              "mean    630.819202  159251.870324  103849.127182    0.309027\n",
              "std     394.396080   63107.176755  171462.457152    0.015660\n",
              "min      69.000000   73000.000000   26000.000000    0.290000\n",
              "25%     310.000000   73000.000000   26000.000000    0.300000\n",
              "50%     574.500000  204000.000000   79000.000000    0.300000\n",
              "75%     800.000000  206000.000000   80000.000000    0.330000\n",
              "max    2220.000000  219000.000000  769000.000000    0.330000"
            ],
            "text/html": [
              "\n",
              "  <div id=\"df-cd205b94-2461-4084-a38f-8da9e5deb82b\" class=\"colab-df-container\">\n",
              "    <div>\n",
              "<style scoped>\n",
              "    .dataframe tbody tr th:only-of-type {\n",
              "        vertical-align: middle;\n",
              "    }\n",
              "\n",
              "    .dataframe tbody tr th {\n",
              "        vertical-align: top;\n",
              "    }\n",
              "\n",
              "    .dataframe thead th {\n",
              "        text-align: right;\n",
              "    }\n",
              "</style>\n",
              "<table border=\"1\" class=\"dataframe\">\n",
              "  <thead>\n",
              "    <tr style=\"text-align: right;\">\n",
              "      <th></th>\n",
              "      <th>Su</th>\n",
              "      <th>E</th>\n",
              "      <th>G</th>\n",
              "      <th>mu</th>\n",
              "    </tr>\n",
              "  </thead>\n",
              "  <tbody>\n",
              "    <tr>\n",
              "      <th>count</th>\n",
              "      <td>802.000000</td>\n",
              "      <td>802.000000</td>\n",
              "      <td>802.000000</td>\n",
              "      <td>802.000000</td>\n",
              "    </tr>\n",
              "    <tr>\n",
              "      <th>mean</th>\n",
              "      <td>630.819202</td>\n",
              "      <td>159251.870324</td>\n",
              "      <td>103849.127182</td>\n",
              "      <td>0.309027</td>\n",
              "    </tr>\n",
              "    <tr>\n",
              "      <th>std</th>\n",
              "      <td>394.396080</td>\n",
              "      <td>63107.176755</td>\n",
              "      <td>171462.457152</td>\n",
              "      <td>0.015660</td>\n",
              "    </tr>\n",
              "    <tr>\n",
              "      <th>min</th>\n",
              "      <td>69.000000</td>\n",
              "      <td>73000.000000</td>\n",
              "      <td>26000.000000</td>\n",
              "      <td>0.290000</td>\n",
              "    </tr>\n",
              "    <tr>\n",
              "      <th>25%</th>\n",
              "      <td>310.000000</td>\n",
              "      <td>73000.000000</td>\n",
              "      <td>26000.000000</td>\n",
              "      <td>0.300000</td>\n",
              "    </tr>\n",
              "    <tr>\n",
              "      <th>50%</th>\n",
              "      <td>574.500000</td>\n",
              "      <td>204000.000000</td>\n",
              "      <td>79000.000000</td>\n",
              "      <td>0.300000</td>\n",
              "    </tr>\n",
              "    <tr>\n",
              "      <th>75%</th>\n",
              "      <td>800.000000</td>\n",
              "      <td>206000.000000</td>\n",
              "      <td>80000.000000</td>\n",
              "      <td>0.330000</td>\n",
              "    </tr>\n",
              "    <tr>\n",
              "      <th>max</th>\n",
              "      <td>2220.000000</td>\n",
              "      <td>219000.000000</td>\n",
              "      <td>769000.000000</td>\n",
              "      <td>0.330000</td>\n",
              "    </tr>\n",
              "  </tbody>\n",
              "</table>\n",
              "</div>\n",
              "    <div class=\"colab-df-buttons\">\n",
              "\n",
              "  <div class=\"colab-df-container\">\n",
              "    <button class=\"colab-df-convert\" onclick=\"convertToInteractive('df-cd205b94-2461-4084-a38f-8da9e5deb82b')\"\n",
              "            title=\"Convert this dataframe to an interactive table.\"\n",
              "            style=\"display:none;\">\n",
              "\n",
              "  <svg xmlns=\"http://www.w3.org/2000/svg\" height=\"24px\" viewBox=\"0 -960 960 960\">\n",
              "    <path d=\"M120-120v-720h720v720H120Zm60-500h600v-160H180v160Zm220 220h160v-160H400v160Zm0 220h160v-160H400v160ZM180-400h160v-160H180v160Zm440 0h160v-160H620v160ZM180-180h160v-160H180v160Zm440 0h160v-160H620v160Z\"/>\n",
              "  </svg>\n",
              "    </button>\n",
              "\n",
              "  <style>\n",
              "    .colab-df-container {\n",
              "      display:flex;\n",
              "      gap: 12px;\n",
              "    }\n",
              "\n",
              "    .colab-df-convert {\n",
              "      background-color: #E8F0FE;\n",
              "      border: none;\n",
              "      border-radius: 50%;\n",
              "      cursor: pointer;\n",
              "      display: none;\n",
              "      fill: #1967D2;\n",
              "      height: 32px;\n",
              "      padding: 0 0 0 0;\n",
              "      width: 32px;\n",
              "    }\n",
              "\n",
              "    .colab-df-convert:hover {\n",
              "      background-color: #E2EBFA;\n",
              "      box-shadow: 0px 1px 2px rgba(60, 64, 67, 0.3), 0px 1px 3px 1px rgba(60, 64, 67, 0.15);\n",
              "      fill: #174EA6;\n",
              "    }\n",
              "\n",
              "    .colab-df-buttons div {\n",
              "      margin-bottom: 4px;\n",
              "    }\n",
              "\n",
              "    [theme=dark] .colab-df-convert {\n",
              "      background-color: #3B4455;\n",
              "      fill: #D2E3FC;\n",
              "    }\n",
              "\n",
              "    [theme=dark] .colab-df-convert:hover {\n",
              "      background-color: #434B5C;\n",
              "      box-shadow: 0px 1px 3px 1px rgba(0, 0, 0, 0.15);\n",
              "      filter: drop-shadow(0px 1px 2px rgba(0, 0, 0, 0.3));\n",
              "      fill: #FFFFFF;\n",
              "    }\n",
              "  </style>\n",
              "\n",
              "    <script>\n",
              "      const buttonEl =\n",
              "        document.querySelector('#df-cd205b94-2461-4084-a38f-8da9e5deb82b button.colab-df-convert');\n",
              "      buttonEl.style.display =\n",
              "        google.colab.kernel.accessAllowed ? 'block' : 'none';\n",
              "\n",
              "      async function convertToInteractive(key) {\n",
              "        const element = document.querySelector('#df-cd205b94-2461-4084-a38f-8da9e5deb82b');\n",
              "        const dataTable =\n",
              "          await google.colab.kernel.invokeFunction('convertToInteractive',\n",
              "                                                    [key], {});\n",
              "        if (!dataTable) return;\n",
              "\n",
              "        const docLinkHtml = 'Like what you see? Visit the ' +\n",
              "          '<a target=\"_blank\" href=https://colab.research.google.com/notebooks/data_table.ipynb>data table notebook</a>'\n",
              "          + ' to learn more about interactive tables.';\n",
              "        element.innerHTML = '';\n",
              "        dataTable['output_type'] = 'display_data';\n",
              "        await google.colab.output.renderOutput(dataTable, element);\n",
              "        const docLink = document.createElement('div');\n",
              "        docLink.innerHTML = docLinkHtml;\n",
              "        element.appendChild(docLink);\n",
              "      }\n",
              "    </script>\n",
              "  </div>\n",
              "\n",
              "\n",
              "<div id=\"df-d5c3fbbc-d052-4267-aa4f-f656fbce532e\">\n",
              "  <button class=\"colab-df-quickchart\" onclick=\"quickchart('df-d5c3fbbc-d052-4267-aa4f-f656fbce532e')\"\n",
              "            title=\"Suggest charts\"\n",
              "            style=\"display:none;\">\n",
              "\n",
              "<svg xmlns=\"http://www.w3.org/2000/svg\" height=\"24px\"viewBox=\"0 0 24 24\"\n",
              "     width=\"24px\">\n",
              "    <g>\n",
              "        <path d=\"M19 3H5c-1.1 0-2 .9-2 2v14c0 1.1.9 2 2 2h14c1.1 0 2-.9 2-2V5c0-1.1-.9-2-2-2zM9 17H7v-7h2v7zm4 0h-2V7h2v10zm4 0h-2v-4h2v4z\"/>\n",
              "    </g>\n",
              "</svg>\n",
              "  </button>\n",
              "\n",
              "<style>\n",
              "  .colab-df-quickchart {\n",
              "      --bg-color: #E8F0FE;\n",
              "      --fill-color: #1967D2;\n",
              "      --hover-bg-color: #E2EBFA;\n",
              "      --hover-fill-color: #174EA6;\n",
              "      --disabled-fill-color: #AAA;\n",
              "      --disabled-bg-color: #DDD;\n",
              "  }\n",
              "\n",
              "  [theme=dark] .colab-df-quickchart {\n",
              "      --bg-color: #3B4455;\n",
              "      --fill-color: #D2E3FC;\n",
              "      --hover-bg-color: #434B5C;\n",
              "      --hover-fill-color: #FFFFFF;\n",
              "      --disabled-bg-color: #3B4455;\n",
              "      --disabled-fill-color: #666;\n",
              "  }\n",
              "\n",
              "  .colab-df-quickchart {\n",
              "    background-color: var(--bg-color);\n",
              "    border: none;\n",
              "    border-radius: 50%;\n",
              "    cursor: pointer;\n",
              "    display: none;\n",
              "    fill: var(--fill-color);\n",
              "    height: 32px;\n",
              "    padding: 0;\n",
              "    width: 32px;\n",
              "  }\n",
              "\n",
              "  .colab-df-quickchart:hover {\n",
              "    background-color: var(--hover-bg-color);\n",
              "    box-shadow: 0 1px 2px rgba(60, 64, 67, 0.3), 0 1px 3px 1px rgba(60, 64, 67, 0.15);\n",
              "    fill: var(--button-hover-fill-color);\n",
              "  }\n",
              "\n",
              "  .colab-df-quickchart-complete:disabled,\n",
              "  .colab-df-quickchart-complete:disabled:hover {\n",
              "    background-color: var(--disabled-bg-color);\n",
              "    fill: var(--disabled-fill-color);\n",
              "    box-shadow: none;\n",
              "  }\n",
              "\n",
              "  .colab-df-spinner {\n",
              "    border: 2px solid var(--fill-color);\n",
              "    border-color: transparent;\n",
              "    border-bottom-color: var(--fill-color);\n",
              "    animation:\n",
              "      spin 1s steps(1) infinite;\n",
              "  }\n",
              "\n",
              "  @keyframes spin {\n",
              "    0% {\n",
              "      border-color: transparent;\n",
              "      border-bottom-color: var(--fill-color);\n",
              "      border-left-color: var(--fill-color);\n",
              "    }\n",
              "    20% {\n",
              "      border-color: transparent;\n",
              "      border-left-color: var(--fill-color);\n",
              "      border-top-color: var(--fill-color);\n",
              "    }\n",
              "    30% {\n",
              "      border-color: transparent;\n",
              "      border-left-color: var(--fill-color);\n",
              "      border-top-color: var(--fill-color);\n",
              "      border-right-color: var(--fill-color);\n",
              "    }\n",
              "    40% {\n",
              "      border-color: transparent;\n",
              "      border-right-color: var(--fill-color);\n",
              "      border-top-color: var(--fill-color);\n",
              "    }\n",
              "    60% {\n",
              "      border-color: transparent;\n",
              "      border-right-color: var(--fill-color);\n",
              "    }\n",
              "    80% {\n",
              "      border-color: transparent;\n",
              "      border-right-color: var(--fill-color);\n",
              "      border-bottom-color: var(--fill-color);\n",
              "    }\n",
              "    90% {\n",
              "      border-color: transparent;\n",
              "      border-bottom-color: var(--fill-color);\n",
              "    }\n",
              "  }\n",
              "</style>\n",
              "\n",
              "  <script>\n",
              "    async function quickchart(key) {\n",
              "      const quickchartButtonEl =\n",
              "        document.querySelector('#' + key + ' button');\n",
              "      quickchartButtonEl.disabled = true;  // To prevent multiple clicks.\n",
              "      quickchartButtonEl.classList.add('colab-df-spinner');\n",
              "      try {\n",
              "        const charts = await google.colab.kernel.invokeFunction(\n",
              "            'suggestCharts', [key], {});\n",
              "      } catch (error) {\n",
              "        console.error('Error during call to suggestCharts:', error);\n",
              "      }\n",
              "      quickchartButtonEl.classList.remove('colab-df-spinner');\n",
              "      quickchartButtonEl.classList.add('colab-df-quickchart-complete');\n",
              "    }\n",
              "    (() => {\n",
              "      let quickchartButtonEl =\n",
              "        document.querySelector('#df-d5c3fbbc-d052-4267-aa4f-f656fbce532e button');\n",
              "      quickchartButtonEl.style.display =\n",
              "        google.colab.kernel.accessAllowed ? 'block' : 'none';\n",
              "    })();\n",
              "  </script>\n",
              "</div>\n",
              "\n",
              "    </div>\n",
              "  </div>\n"
            ],
            "application/vnd.google.colaboratory.intrinsic+json": {
              "type": "dataframe",
              "summary": "{\n  \"name\": \"num_cols\",\n  \"rows\": 8,\n  \"fields\": [\n    {\n      \"column\": \"Su\",\n      \"properties\": {\n        \"dtype\": \"number\",\n        \"std\": 653.5572070806417,\n        \"min\": 69.0,\n        \"max\": 2220.0,\n        \"num_unique_values\": 8,\n        \"samples\": [\n          630.8192019950125,\n          574.5,\n          802.0\n        ],\n        \"semantic_type\": \"\",\n        \"description\": \"\"\n      }\n    },\n    {\n      \"column\": \"E\",\n      \"properties\": {\n        \"dtype\": \"number\",\n        \"std\": 82353.44790717965,\n        \"min\": 802.0,\n        \"max\": 219000.0,\n        \"num_unique_values\": 7,\n        \"samples\": [\n          802.0,\n          159251.8703241895,\n          206000.0\n        ],\n        \"semantic_type\": \"\",\n        \"description\": \"\"\n      }\n    },\n    {\n      \"column\": \"G\",\n      \"properties\": {\n        \"dtype\": \"number\",\n        \"std\": 253070.00486582442,\n        \"min\": 802.0,\n        \"max\": 769000.0,\n        \"num_unique_values\": 7,\n        \"samples\": [\n          802.0,\n          103849.12718204489,\n          80000.0\n        ],\n        \"semantic_type\": \"\",\n        \"description\": \"\"\n      }\n    },\n    {\n      \"column\": \"mu\",\n      \"properties\": {\n        \"dtype\": \"number\",\n        \"std\": 283.4551522715589,\n        \"min\": 0.015660306163976293,\n        \"max\": 802.0,\n        \"num_unique_values\": 6,\n        \"samples\": [\n          802.0,\n          0.30902743142144634,\n          0.33\n        ],\n        \"semantic_type\": \"\",\n        \"description\": \"\"\n      }\n    }\n  ]\n}"
            }
          },
          "metadata": {},
          "execution_count": 370
        }
      ]
    },
    {
      "cell_type": "code",
      "source": [
        "from sklearn.preprocessing import StandardScaler\n",
        "scaler = StandardScaler()\n",
        "norm_data = scaler.fit_transform(num_cols)\n",
        "norm_data = pd.DataFrame(norm_data, columns=num_cols.columns)\n",
        "norm_data.head()"
      ],
      "metadata": {
        "colab": {
          "base_uri": "https://localhost:8080/",
          "height": 0
        },
        "id": "9kINNgb9mvqg",
        "outputId": "82934dce-bdaf-4903-d7a6-c55d7792b624"
      },
      "execution_count": 371,
      "outputs": [
        {
          "output_type": "execute_result",
          "data": {
            "text/plain": [
              "         Su         E         G        mu\n",
              "0 -0.532333  0.757092 -0.145015 -0.576813\n",
              "1 -0.524722  0.757092 -0.145015 -0.576813\n",
              "2 -0.621132  0.757092 -0.145015 -0.576813\n",
              "3 -0.463831  0.757092 -0.145015 -0.576813\n",
              "4 -0.481591  0.757092 -0.145015 -0.576813"
            ],
            "text/html": [
              "\n",
              "  <div id=\"df-4484af39-f2e8-4191-b3fc-8127404a0198\" class=\"colab-df-container\">\n",
              "    <div>\n",
              "<style scoped>\n",
              "    .dataframe tbody tr th:only-of-type {\n",
              "        vertical-align: middle;\n",
              "    }\n",
              "\n",
              "    .dataframe tbody tr th {\n",
              "        vertical-align: top;\n",
              "    }\n",
              "\n",
              "    .dataframe thead th {\n",
              "        text-align: right;\n",
              "    }\n",
              "</style>\n",
              "<table border=\"1\" class=\"dataframe\">\n",
              "  <thead>\n",
              "    <tr style=\"text-align: right;\">\n",
              "      <th></th>\n",
              "      <th>Su</th>\n",
              "      <th>E</th>\n",
              "      <th>G</th>\n",
              "      <th>mu</th>\n",
              "    </tr>\n",
              "  </thead>\n",
              "  <tbody>\n",
              "    <tr>\n",
              "      <th>0</th>\n",
              "      <td>-0.532333</td>\n",
              "      <td>0.757092</td>\n",
              "      <td>-0.145015</td>\n",
              "      <td>-0.576813</td>\n",
              "    </tr>\n",
              "    <tr>\n",
              "      <th>1</th>\n",
              "      <td>-0.524722</td>\n",
              "      <td>0.757092</td>\n",
              "      <td>-0.145015</td>\n",
              "      <td>-0.576813</td>\n",
              "    </tr>\n",
              "    <tr>\n",
              "      <th>2</th>\n",
              "      <td>-0.621132</td>\n",
              "      <td>0.757092</td>\n",
              "      <td>-0.145015</td>\n",
              "      <td>-0.576813</td>\n",
              "    </tr>\n",
              "    <tr>\n",
              "      <th>3</th>\n",
              "      <td>-0.463831</td>\n",
              "      <td>0.757092</td>\n",
              "      <td>-0.145015</td>\n",
              "      <td>-0.576813</td>\n",
              "    </tr>\n",
              "    <tr>\n",
              "      <th>4</th>\n",
              "      <td>-0.481591</td>\n",
              "      <td>0.757092</td>\n",
              "      <td>-0.145015</td>\n",
              "      <td>-0.576813</td>\n",
              "    </tr>\n",
              "  </tbody>\n",
              "</table>\n",
              "</div>\n",
              "    <div class=\"colab-df-buttons\">\n",
              "\n",
              "  <div class=\"colab-df-container\">\n",
              "    <button class=\"colab-df-convert\" onclick=\"convertToInteractive('df-4484af39-f2e8-4191-b3fc-8127404a0198')\"\n",
              "            title=\"Convert this dataframe to an interactive table.\"\n",
              "            style=\"display:none;\">\n",
              "\n",
              "  <svg xmlns=\"http://www.w3.org/2000/svg\" height=\"24px\" viewBox=\"0 -960 960 960\">\n",
              "    <path d=\"M120-120v-720h720v720H120Zm60-500h600v-160H180v160Zm220 220h160v-160H400v160Zm0 220h160v-160H400v160ZM180-400h160v-160H180v160Zm440 0h160v-160H620v160ZM180-180h160v-160H180v160Zm440 0h160v-160H620v160Z\"/>\n",
              "  </svg>\n",
              "    </button>\n",
              "\n",
              "  <style>\n",
              "    .colab-df-container {\n",
              "      display:flex;\n",
              "      gap: 12px;\n",
              "    }\n",
              "\n",
              "    .colab-df-convert {\n",
              "      background-color: #E8F0FE;\n",
              "      border: none;\n",
              "      border-radius: 50%;\n",
              "      cursor: pointer;\n",
              "      display: none;\n",
              "      fill: #1967D2;\n",
              "      height: 32px;\n",
              "      padding: 0 0 0 0;\n",
              "      width: 32px;\n",
              "    }\n",
              "\n",
              "    .colab-df-convert:hover {\n",
              "      background-color: #E2EBFA;\n",
              "      box-shadow: 0px 1px 2px rgba(60, 64, 67, 0.3), 0px 1px 3px 1px rgba(60, 64, 67, 0.15);\n",
              "      fill: #174EA6;\n",
              "    }\n",
              "\n",
              "    .colab-df-buttons div {\n",
              "      margin-bottom: 4px;\n",
              "    }\n",
              "\n",
              "    [theme=dark] .colab-df-convert {\n",
              "      background-color: #3B4455;\n",
              "      fill: #D2E3FC;\n",
              "    }\n",
              "\n",
              "    [theme=dark] .colab-df-convert:hover {\n",
              "      background-color: #434B5C;\n",
              "      box-shadow: 0px 1px 3px 1px rgba(0, 0, 0, 0.15);\n",
              "      filter: drop-shadow(0px 1px 2px rgba(0, 0, 0, 0.3));\n",
              "      fill: #FFFFFF;\n",
              "    }\n",
              "  </style>\n",
              "\n",
              "    <script>\n",
              "      const buttonEl =\n",
              "        document.querySelector('#df-4484af39-f2e8-4191-b3fc-8127404a0198 button.colab-df-convert');\n",
              "      buttonEl.style.display =\n",
              "        google.colab.kernel.accessAllowed ? 'block' : 'none';\n",
              "\n",
              "      async function convertToInteractive(key) {\n",
              "        const element = document.querySelector('#df-4484af39-f2e8-4191-b3fc-8127404a0198');\n",
              "        const dataTable =\n",
              "          await google.colab.kernel.invokeFunction('convertToInteractive',\n",
              "                                                    [key], {});\n",
              "        if (!dataTable) return;\n",
              "\n",
              "        const docLinkHtml = 'Like what you see? Visit the ' +\n",
              "          '<a target=\"_blank\" href=https://colab.research.google.com/notebooks/data_table.ipynb>data table notebook</a>'\n",
              "          + ' to learn more about interactive tables.';\n",
              "        element.innerHTML = '';\n",
              "        dataTable['output_type'] = 'display_data';\n",
              "        await google.colab.output.renderOutput(dataTable, element);\n",
              "        const docLink = document.createElement('div');\n",
              "        docLink.innerHTML = docLinkHtml;\n",
              "        element.appendChild(docLink);\n",
              "      }\n",
              "    </script>\n",
              "  </div>\n",
              "\n",
              "\n",
              "<div id=\"df-1891c47c-a7c9-496e-9615-e3e6adc3470c\">\n",
              "  <button class=\"colab-df-quickchart\" onclick=\"quickchart('df-1891c47c-a7c9-496e-9615-e3e6adc3470c')\"\n",
              "            title=\"Suggest charts\"\n",
              "            style=\"display:none;\">\n",
              "\n",
              "<svg xmlns=\"http://www.w3.org/2000/svg\" height=\"24px\"viewBox=\"0 0 24 24\"\n",
              "     width=\"24px\">\n",
              "    <g>\n",
              "        <path d=\"M19 3H5c-1.1 0-2 .9-2 2v14c0 1.1.9 2 2 2h14c1.1 0 2-.9 2-2V5c0-1.1-.9-2-2-2zM9 17H7v-7h2v7zm4 0h-2V7h2v10zm4 0h-2v-4h2v4z\"/>\n",
              "    </g>\n",
              "</svg>\n",
              "  </button>\n",
              "\n",
              "<style>\n",
              "  .colab-df-quickchart {\n",
              "      --bg-color: #E8F0FE;\n",
              "      --fill-color: #1967D2;\n",
              "      --hover-bg-color: #E2EBFA;\n",
              "      --hover-fill-color: #174EA6;\n",
              "      --disabled-fill-color: #AAA;\n",
              "      --disabled-bg-color: #DDD;\n",
              "  }\n",
              "\n",
              "  [theme=dark] .colab-df-quickchart {\n",
              "      --bg-color: #3B4455;\n",
              "      --fill-color: #D2E3FC;\n",
              "      --hover-bg-color: #434B5C;\n",
              "      --hover-fill-color: #FFFFFF;\n",
              "      --disabled-bg-color: #3B4455;\n",
              "      --disabled-fill-color: #666;\n",
              "  }\n",
              "\n",
              "  .colab-df-quickchart {\n",
              "    background-color: var(--bg-color);\n",
              "    border: none;\n",
              "    border-radius: 50%;\n",
              "    cursor: pointer;\n",
              "    display: none;\n",
              "    fill: var(--fill-color);\n",
              "    height: 32px;\n",
              "    padding: 0;\n",
              "    width: 32px;\n",
              "  }\n",
              "\n",
              "  .colab-df-quickchart:hover {\n",
              "    background-color: var(--hover-bg-color);\n",
              "    box-shadow: 0 1px 2px rgba(60, 64, 67, 0.3), 0 1px 3px 1px rgba(60, 64, 67, 0.15);\n",
              "    fill: var(--button-hover-fill-color);\n",
              "  }\n",
              "\n",
              "  .colab-df-quickchart-complete:disabled,\n",
              "  .colab-df-quickchart-complete:disabled:hover {\n",
              "    background-color: var(--disabled-bg-color);\n",
              "    fill: var(--disabled-fill-color);\n",
              "    box-shadow: none;\n",
              "  }\n",
              "\n",
              "  .colab-df-spinner {\n",
              "    border: 2px solid var(--fill-color);\n",
              "    border-color: transparent;\n",
              "    border-bottom-color: var(--fill-color);\n",
              "    animation:\n",
              "      spin 1s steps(1) infinite;\n",
              "  }\n",
              "\n",
              "  @keyframes spin {\n",
              "    0% {\n",
              "      border-color: transparent;\n",
              "      border-bottom-color: var(--fill-color);\n",
              "      border-left-color: var(--fill-color);\n",
              "    }\n",
              "    20% {\n",
              "      border-color: transparent;\n",
              "      border-left-color: var(--fill-color);\n",
              "      border-top-color: var(--fill-color);\n",
              "    }\n",
              "    30% {\n",
              "      border-color: transparent;\n",
              "      border-left-color: var(--fill-color);\n",
              "      border-top-color: var(--fill-color);\n",
              "      border-right-color: var(--fill-color);\n",
              "    }\n",
              "    40% {\n",
              "      border-color: transparent;\n",
              "      border-right-color: var(--fill-color);\n",
              "      border-top-color: var(--fill-color);\n",
              "    }\n",
              "    60% {\n",
              "      border-color: transparent;\n",
              "      border-right-color: var(--fill-color);\n",
              "    }\n",
              "    80% {\n",
              "      border-color: transparent;\n",
              "      border-right-color: var(--fill-color);\n",
              "      border-bottom-color: var(--fill-color);\n",
              "    }\n",
              "    90% {\n",
              "      border-color: transparent;\n",
              "      border-bottom-color: var(--fill-color);\n",
              "    }\n",
              "  }\n",
              "</style>\n",
              "\n",
              "  <script>\n",
              "    async function quickchart(key) {\n",
              "      const quickchartButtonEl =\n",
              "        document.querySelector('#' + key + ' button');\n",
              "      quickchartButtonEl.disabled = true;  // To prevent multiple clicks.\n",
              "      quickchartButtonEl.classList.add('colab-df-spinner');\n",
              "      try {\n",
              "        const charts = await google.colab.kernel.invokeFunction(\n",
              "            'suggestCharts', [key], {});\n",
              "      } catch (error) {\n",
              "        console.error('Error during call to suggestCharts:', error);\n",
              "      }\n",
              "      quickchartButtonEl.classList.remove('colab-df-spinner');\n",
              "      quickchartButtonEl.classList.add('colab-df-quickchart-complete');\n",
              "    }\n",
              "    (() => {\n",
              "      let quickchartButtonEl =\n",
              "        document.querySelector('#df-1891c47c-a7c9-496e-9615-e3e6adc3470c button');\n",
              "      quickchartButtonEl.style.display =\n",
              "        google.colab.kernel.accessAllowed ? 'block' : 'none';\n",
              "    })();\n",
              "  </script>\n",
              "</div>\n",
              "\n",
              "    </div>\n",
              "  </div>\n"
            ],
            "application/vnd.google.colaboratory.intrinsic+json": {
              "type": "dataframe",
              "variable_name": "norm_data",
              "summary": "{\n  \"name\": \"norm_data\",\n  \"rows\": 802,\n  \"fields\": [\n    {\n      \"column\": \"Su\",\n      \"properties\": {\n        \"dtype\": \"number\",\n        \"std\": 1.0006240250217293,\n        \"min\": -1.4253939613869555,\n        \"max\": 4.031917572387499,\n        \"num_unique_values\": 270,\n        \"samples\": [\n          0.06642341744120768,\n          -0.8139518044182696,\n          4.031917572387499\n        ],\n        \"semantic_type\": \"\",\n        \"description\": \"\"\n      }\n    },\n    {\n      \"column\": \"E\",\n      \"properties\": {\n        \"dtype\": \"number\",\n        \"std\": 1.0006240250217293,\n        \"min\": -1.3676050504345831,\n        \"max\": 0.9473631538833143,\n        \"num_unique_values\": 20,\n        \"samples\": [\n          0.757091794624309,\n          0.8522274742538116,\n          0.8205155810439774\n        ],\n        \"semantic_type\": \"\",\n        \"description\": \"\"\n      }\n    },\n    {\n      \"column\": \"G\",\n      \"properties\": {\n        \"dtype\": \"number\",\n        \"std\": 1.0006240250217295,\n        \"min\": -0.4543134880897749,\n        \"max\": 3.881700721309818,\n        \"num_unique_values\": 13,\n        \"samples\": [\n          -0.11583593203973937,\n          -0.12167175197163653,\n          -0.1450150316992252\n        ],\n        \"semantic_type\": \"\",\n        \"description\": \"\"\n      }\n    },\n    {\n      \"column\": \"mu\",\n      \"properties\": {\n        \"dtype\": \"number\",\n        \"std\": 1.0006240250217295,\n        \"min\": -1.2157683774119992,\n        \"max\": 1.3400540044606755,\n        \"num_unique_values\": 4,\n        \"samples\": [\n          0.7010984089925067,\n          -1.2157683774119992,\n          -0.5768127819438306\n        ],\n        \"semantic_type\": \"\",\n        \"description\": \"\"\n      }\n    }\n  ]\n}"
            }
          },
          "metadata": {},
          "execution_count": 371
        }
      ]
    },
    {
      "cell_type": "code",
      "source": [
        "data[num_cols.columns]=norm_data"
      ],
      "metadata": {
        "id": "wikUOR-2nMeP"
      },
      "execution_count": 372,
      "outputs": []
    },
    {
      "cell_type": "code",
      "source": [
        "data.head()"
      ],
      "metadata": {
        "colab": {
          "base_uri": "https://localhost:8080/",
          "height": 0
        },
        "id": "dPfW3Bl2nRZj",
        "outputId": "6365db84-6366-42a8-8049-2fd0bda0c014"
      },
      "execution_count": 373,
      "outputs": [
        {
          "output_type": "execute_result",
          "data": {
            "text/plain": [
              "    Std        Material Heat treatment        Su         E         G  \\\n",
              "0  ANSI  Steel SAE 1015      as-rolled -0.532333  0.757092 -0.145015   \n",
              "1  ANSI  Steel SAE 1015     normalized -0.524722  0.757092 -0.145015   \n",
              "2  ANSI  Steel SAE 1015       annealed -0.621132  0.757092 -0.145015   \n",
              "3  ANSI  Steel SAE 1020      as-rolled -0.463831  0.757092 -0.145015   \n",
              "4  ANSI  Steel SAE 1020     normalized -0.481591  0.757092 -0.145015   \n",
              "\n",
              "         mu   use  \n",
              "0 -0.576813  True  \n",
              "1 -0.576813  True  \n",
              "2 -0.576813  True  \n",
              "3 -0.576813  True  \n",
              "4 -0.576813  True  "
            ],
            "text/html": [
              "\n",
              "  <div id=\"df-62fcdf52-89a4-4715-9d38-b8b50be89901\" class=\"colab-df-container\">\n",
              "    <div>\n",
              "<style scoped>\n",
              "    .dataframe tbody tr th:only-of-type {\n",
              "        vertical-align: middle;\n",
              "    }\n",
              "\n",
              "    .dataframe tbody tr th {\n",
              "        vertical-align: top;\n",
              "    }\n",
              "\n",
              "    .dataframe thead th {\n",
              "        text-align: right;\n",
              "    }\n",
              "</style>\n",
              "<table border=\"1\" class=\"dataframe\">\n",
              "  <thead>\n",
              "    <tr style=\"text-align: right;\">\n",
              "      <th></th>\n",
              "      <th>Std</th>\n",
              "      <th>Material</th>\n",
              "      <th>Heat treatment</th>\n",
              "      <th>Su</th>\n",
              "      <th>E</th>\n",
              "      <th>G</th>\n",
              "      <th>mu</th>\n",
              "      <th>use</th>\n",
              "    </tr>\n",
              "  </thead>\n",
              "  <tbody>\n",
              "    <tr>\n",
              "      <th>0</th>\n",
              "      <td>ANSI</td>\n",
              "      <td>Steel SAE 1015</td>\n",
              "      <td>as-rolled</td>\n",
              "      <td>-0.532333</td>\n",
              "      <td>0.757092</td>\n",
              "      <td>-0.145015</td>\n",
              "      <td>-0.576813</td>\n",
              "      <td>True</td>\n",
              "    </tr>\n",
              "    <tr>\n",
              "      <th>1</th>\n",
              "      <td>ANSI</td>\n",
              "      <td>Steel SAE 1015</td>\n",
              "      <td>normalized</td>\n",
              "      <td>-0.524722</td>\n",
              "      <td>0.757092</td>\n",
              "      <td>-0.145015</td>\n",
              "      <td>-0.576813</td>\n",
              "      <td>True</td>\n",
              "    </tr>\n",
              "    <tr>\n",
              "      <th>2</th>\n",
              "      <td>ANSI</td>\n",
              "      <td>Steel SAE 1015</td>\n",
              "      <td>annealed</td>\n",
              "      <td>-0.621132</td>\n",
              "      <td>0.757092</td>\n",
              "      <td>-0.145015</td>\n",
              "      <td>-0.576813</td>\n",
              "      <td>True</td>\n",
              "    </tr>\n",
              "    <tr>\n",
              "      <th>3</th>\n",
              "      <td>ANSI</td>\n",
              "      <td>Steel SAE 1020</td>\n",
              "      <td>as-rolled</td>\n",
              "      <td>-0.463831</td>\n",
              "      <td>0.757092</td>\n",
              "      <td>-0.145015</td>\n",
              "      <td>-0.576813</td>\n",
              "      <td>True</td>\n",
              "    </tr>\n",
              "    <tr>\n",
              "      <th>4</th>\n",
              "      <td>ANSI</td>\n",
              "      <td>Steel SAE 1020</td>\n",
              "      <td>normalized</td>\n",
              "      <td>-0.481591</td>\n",
              "      <td>0.757092</td>\n",
              "      <td>-0.145015</td>\n",
              "      <td>-0.576813</td>\n",
              "      <td>True</td>\n",
              "    </tr>\n",
              "  </tbody>\n",
              "</table>\n",
              "</div>\n",
              "    <div class=\"colab-df-buttons\">\n",
              "\n",
              "  <div class=\"colab-df-container\">\n",
              "    <button class=\"colab-df-convert\" onclick=\"convertToInteractive('df-62fcdf52-89a4-4715-9d38-b8b50be89901')\"\n",
              "            title=\"Convert this dataframe to an interactive table.\"\n",
              "            style=\"display:none;\">\n",
              "\n",
              "  <svg xmlns=\"http://www.w3.org/2000/svg\" height=\"24px\" viewBox=\"0 -960 960 960\">\n",
              "    <path d=\"M120-120v-720h720v720H120Zm60-500h600v-160H180v160Zm220 220h160v-160H400v160Zm0 220h160v-160H400v160ZM180-400h160v-160H180v160Zm440 0h160v-160H620v160ZM180-180h160v-160H180v160Zm440 0h160v-160H620v160Z\"/>\n",
              "  </svg>\n",
              "    </button>\n",
              "\n",
              "  <style>\n",
              "    .colab-df-container {\n",
              "      display:flex;\n",
              "      gap: 12px;\n",
              "    }\n",
              "\n",
              "    .colab-df-convert {\n",
              "      background-color: #E8F0FE;\n",
              "      border: none;\n",
              "      border-radius: 50%;\n",
              "      cursor: pointer;\n",
              "      display: none;\n",
              "      fill: #1967D2;\n",
              "      height: 32px;\n",
              "      padding: 0 0 0 0;\n",
              "      width: 32px;\n",
              "    }\n",
              "\n",
              "    .colab-df-convert:hover {\n",
              "      background-color: #E2EBFA;\n",
              "      box-shadow: 0px 1px 2px rgba(60, 64, 67, 0.3), 0px 1px 3px 1px rgba(60, 64, 67, 0.15);\n",
              "      fill: #174EA6;\n",
              "    }\n",
              "\n",
              "    .colab-df-buttons div {\n",
              "      margin-bottom: 4px;\n",
              "    }\n",
              "\n",
              "    [theme=dark] .colab-df-convert {\n",
              "      background-color: #3B4455;\n",
              "      fill: #D2E3FC;\n",
              "    }\n",
              "\n",
              "    [theme=dark] .colab-df-convert:hover {\n",
              "      background-color: #434B5C;\n",
              "      box-shadow: 0px 1px 3px 1px rgba(0, 0, 0, 0.15);\n",
              "      filter: drop-shadow(0px 1px 2px rgba(0, 0, 0, 0.3));\n",
              "      fill: #FFFFFF;\n",
              "    }\n",
              "  </style>\n",
              "\n",
              "    <script>\n",
              "      const buttonEl =\n",
              "        document.querySelector('#df-62fcdf52-89a4-4715-9d38-b8b50be89901 button.colab-df-convert');\n",
              "      buttonEl.style.display =\n",
              "        google.colab.kernel.accessAllowed ? 'block' : 'none';\n",
              "\n",
              "      async function convertToInteractive(key) {\n",
              "        const element = document.querySelector('#df-62fcdf52-89a4-4715-9d38-b8b50be89901');\n",
              "        const dataTable =\n",
              "          await google.colab.kernel.invokeFunction('convertToInteractive',\n",
              "                                                    [key], {});\n",
              "        if (!dataTable) return;\n",
              "\n",
              "        const docLinkHtml = 'Like what you see? Visit the ' +\n",
              "          '<a target=\"_blank\" href=https://colab.research.google.com/notebooks/data_table.ipynb>data table notebook</a>'\n",
              "          + ' to learn more about interactive tables.';\n",
              "        element.innerHTML = '';\n",
              "        dataTable['output_type'] = 'display_data';\n",
              "        await google.colab.output.renderOutput(dataTable, element);\n",
              "        const docLink = document.createElement('div');\n",
              "        docLink.innerHTML = docLinkHtml;\n",
              "        element.appendChild(docLink);\n",
              "      }\n",
              "    </script>\n",
              "  </div>\n",
              "\n",
              "\n",
              "<div id=\"df-6da193ae-6373-4989-8d69-5107c86d063b\">\n",
              "  <button class=\"colab-df-quickchart\" onclick=\"quickchart('df-6da193ae-6373-4989-8d69-5107c86d063b')\"\n",
              "            title=\"Suggest charts\"\n",
              "            style=\"display:none;\">\n",
              "\n",
              "<svg xmlns=\"http://www.w3.org/2000/svg\" height=\"24px\"viewBox=\"0 0 24 24\"\n",
              "     width=\"24px\">\n",
              "    <g>\n",
              "        <path d=\"M19 3H5c-1.1 0-2 .9-2 2v14c0 1.1.9 2 2 2h14c1.1 0 2-.9 2-2V5c0-1.1-.9-2-2-2zM9 17H7v-7h2v7zm4 0h-2V7h2v10zm4 0h-2v-4h2v4z\"/>\n",
              "    </g>\n",
              "</svg>\n",
              "  </button>\n",
              "\n",
              "<style>\n",
              "  .colab-df-quickchart {\n",
              "      --bg-color: #E8F0FE;\n",
              "      --fill-color: #1967D2;\n",
              "      --hover-bg-color: #E2EBFA;\n",
              "      --hover-fill-color: #174EA6;\n",
              "      --disabled-fill-color: #AAA;\n",
              "      --disabled-bg-color: #DDD;\n",
              "  }\n",
              "\n",
              "  [theme=dark] .colab-df-quickchart {\n",
              "      --bg-color: #3B4455;\n",
              "      --fill-color: #D2E3FC;\n",
              "      --hover-bg-color: #434B5C;\n",
              "      --hover-fill-color: #FFFFFF;\n",
              "      --disabled-bg-color: #3B4455;\n",
              "      --disabled-fill-color: #666;\n",
              "  }\n",
              "\n",
              "  .colab-df-quickchart {\n",
              "    background-color: var(--bg-color);\n",
              "    border: none;\n",
              "    border-radius: 50%;\n",
              "    cursor: pointer;\n",
              "    display: none;\n",
              "    fill: var(--fill-color);\n",
              "    height: 32px;\n",
              "    padding: 0;\n",
              "    width: 32px;\n",
              "  }\n",
              "\n",
              "  .colab-df-quickchart:hover {\n",
              "    background-color: var(--hover-bg-color);\n",
              "    box-shadow: 0 1px 2px rgba(60, 64, 67, 0.3), 0 1px 3px 1px rgba(60, 64, 67, 0.15);\n",
              "    fill: var(--button-hover-fill-color);\n",
              "  }\n",
              "\n",
              "  .colab-df-quickchart-complete:disabled,\n",
              "  .colab-df-quickchart-complete:disabled:hover {\n",
              "    background-color: var(--disabled-bg-color);\n",
              "    fill: var(--disabled-fill-color);\n",
              "    box-shadow: none;\n",
              "  }\n",
              "\n",
              "  .colab-df-spinner {\n",
              "    border: 2px solid var(--fill-color);\n",
              "    border-color: transparent;\n",
              "    border-bottom-color: var(--fill-color);\n",
              "    animation:\n",
              "      spin 1s steps(1) infinite;\n",
              "  }\n",
              "\n",
              "  @keyframes spin {\n",
              "    0% {\n",
              "      border-color: transparent;\n",
              "      border-bottom-color: var(--fill-color);\n",
              "      border-left-color: var(--fill-color);\n",
              "    }\n",
              "    20% {\n",
              "      border-color: transparent;\n",
              "      border-left-color: var(--fill-color);\n",
              "      border-top-color: var(--fill-color);\n",
              "    }\n",
              "    30% {\n",
              "      border-color: transparent;\n",
              "      border-left-color: var(--fill-color);\n",
              "      border-top-color: var(--fill-color);\n",
              "      border-right-color: var(--fill-color);\n",
              "    }\n",
              "    40% {\n",
              "      border-color: transparent;\n",
              "      border-right-color: var(--fill-color);\n",
              "      border-top-color: var(--fill-color);\n",
              "    }\n",
              "    60% {\n",
              "      border-color: transparent;\n",
              "      border-right-color: var(--fill-color);\n",
              "    }\n",
              "    80% {\n",
              "      border-color: transparent;\n",
              "      border-right-color: var(--fill-color);\n",
              "      border-bottom-color: var(--fill-color);\n",
              "    }\n",
              "    90% {\n",
              "      border-color: transparent;\n",
              "      border-bottom-color: var(--fill-color);\n",
              "    }\n",
              "  }\n",
              "</style>\n",
              "\n",
              "  <script>\n",
              "    async function quickchart(key) {\n",
              "      const quickchartButtonEl =\n",
              "        document.querySelector('#' + key + ' button');\n",
              "      quickchartButtonEl.disabled = true;  // To prevent multiple clicks.\n",
              "      quickchartButtonEl.classList.add('colab-df-spinner');\n",
              "      try {\n",
              "        const charts = await google.colab.kernel.invokeFunction(\n",
              "            'suggestCharts', [key], {});\n",
              "      } catch (error) {\n",
              "        console.error('Error during call to suggestCharts:', error);\n",
              "      }\n",
              "      quickchartButtonEl.classList.remove('colab-df-spinner');\n",
              "      quickchartButtonEl.classList.add('colab-df-quickchart-complete');\n",
              "    }\n",
              "    (() => {\n",
              "      let quickchartButtonEl =\n",
              "        document.querySelector('#df-6da193ae-6373-4989-8d69-5107c86d063b button');\n",
              "      quickchartButtonEl.style.display =\n",
              "        google.colab.kernel.accessAllowed ? 'block' : 'none';\n",
              "    })();\n",
              "  </script>\n",
              "</div>\n",
              "\n",
              "    </div>\n",
              "  </div>\n"
            ],
            "application/vnd.google.colaboratory.intrinsic+json": {
              "type": "dataframe",
              "variable_name": "data",
              "summary": "{\n  \"name\": \"data\",\n  \"rows\": 802,\n  \"fields\": [\n    {\n      \"column\": \"Std\",\n      \"properties\": {\n        \"dtype\": \"category\",\n        \"num_unique_values\": 8,\n        \"samples\": [\n          \"ISO\",\n          \"GOST\",\n          \"ANSI\"\n        ],\n        \"semantic_type\": \"\",\n        \"description\": \"\"\n      }\n    },\n    {\n      \"column\": \"Material\",\n      \"properties\": {\n        \"dtype\": \"string\",\n        \"num_unique_values\": 545,\n        \"samples\": [\n          \"Magnesium Alloy ZE63A-T6\",\n          \"Aluminum Alloy 204.0\",\n          \"DIN 37Cr4\"\n        ],\n        \"semantic_type\": \"\",\n        \"description\": \"\"\n      }\n    },\n    {\n      \"column\": \"Heat treatment\",\n      \"properties\": {\n        \"dtype\": \"category\",\n        \"num_unique_values\": 44,\n        \"samples\": [\n          \"Improved\",\n          \"Cast (T53)\",\n          \"Wrought\"\n        ],\n        \"semantic_type\": \"\",\n        \"description\": \"\"\n      }\n    },\n    {\n      \"column\": \"Su\",\n      \"properties\": {\n        \"dtype\": \"number\",\n        \"std\": 1.0006240250217293,\n        \"min\": -1.4253939613869555,\n        \"max\": 4.031917572387499,\n        \"num_unique_values\": 270,\n        \"samples\": [\n          0.06642341744120768,\n          -0.8139518044182696,\n          4.031917572387499\n        ],\n        \"semantic_type\": \"\",\n        \"description\": \"\"\n      }\n    },\n    {\n      \"column\": \"E\",\n      \"properties\": {\n        \"dtype\": \"number\",\n        \"std\": 1.0006240250217293,\n        \"min\": -1.3676050504345831,\n        \"max\": 0.9473631538833143,\n        \"num_unique_values\": 20,\n        \"samples\": [\n          0.757091794624309,\n          0.8522274742538116,\n          0.8205155810439774\n        ],\n        \"semantic_type\": \"\",\n        \"description\": \"\"\n      }\n    },\n    {\n      \"column\": \"G\",\n      \"properties\": {\n        \"dtype\": \"number\",\n        \"std\": 1.0006240250217295,\n        \"min\": -0.4543134880897749,\n        \"max\": 3.881700721309818,\n        \"num_unique_values\": 13,\n        \"samples\": [\n          -0.11583593203973937,\n          -0.12167175197163653,\n          -0.1450150316992252\n        ],\n        \"semantic_type\": \"\",\n        \"description\": \"\"\n      }\n    },\n    {\n      \"column\": \"mu\",\n      \"properties\": {\n        \"dtype\": \"number\",\n        \"std\": 1.0006240250217295,\n        \"min\": -1.2157683774119992,\n        \"max\": 1.3400540044606755,\n        \"num_unique_values\": 4,\n        \"samples\": [\n          0.7010984089925067,\n          -1.2157683774119992,\n          -0.5768127819438306\n        ],\n        \"semantic_type\": \"\",\n        \"description\": \"\"\n      }\n    },\n    {\n      \"column\": \"use\",\n      \"properties\": {\n        \"dtype\": \"boolean\",\n        \"num_unique_values\": 2,\n        \"samples\": [\n          false,\n          true\n        ],\n        \"semantic_type\": \"\",\n        \"description\": \"\"\n      }\n    }\n  ]\n}"
            }
          },
          "metadata": {},
          "execution_count": 373
        }
      ]
    },
    {
      "cell_type": "code",
      "source": [
        "data.shape"
      ],
      "metadata": {
        "colab": {
          "base_uri": "https://localhost:8080/"
        },
        "id": "y3RKuV2onjtY",
        "outputId": "58088838-6a0d-4c8f-e662-39cbc081f0af"
      },
      "execution_count": 374,
      "outputs": [
        {
          "output_type": "execute_result",
          "data": {
            "text/plain": [
              "(802, 8)"
            ]
          },
          "metadata": {},
          "execution_count": 374
        }
      ]
    },
    {
      "cell_type": "code",
      "source": [
        "data.isnull().sum()"
      ],
      "metadata": {
        "colab": {
          "base_uri": "https://localhost:8080/"
        },
        "id": "TQUhufCVnlkH",
        "outputId": "6e336ba4-dcaa-4f8e-c0b6-6db3d80f2f88"
      },
      "execution_count": 375,
      "outputs": [
        {
          "output_type": "execute_result",
          "data": {
            "text/plain": [
              "Std               0\n",
              "Material          0\n",
              "Heat treatment    0\n",
              "Su                0\n",
              "E                 0\n",
              "G                 0\n",
              "mu                0\n",
              "use               0\n",
              "dtype: int64"
            ]
          },
          "metadata": {},
          "execution_count": 375
        }
      ]
    },
    {
      "cell_type": "markdown",
      "source": [
        "# categorical variables"
      ],
      "metadata": {
        "id": "aOgSY5Jwx_qq"
      }
    },
    {
      "cell_type": "code",
      "source": [
        "cate_cols=data.select_dtypes(include='object')\n",
        "cate_cols"
      ],
      "metadata": {
        "colab": {
          "base_uri": "https://localhost:8080/",
          "height": 423
        },
        "id": "Qm8MVb9GyCaF",
        "outputId": "7debce5e-a105-4337-b5d5-d76575b60b2d"
      },
      "execution_count": 376,
      "outputs": [
        {
          "output_type": "execute_result",
          "data": {
            "text/plain": [
              "      Std        Material Heat treatment\n",
              "0    ANSI  Steel SAE 1015      as-rolled\n",
              "1    ANSI  Steel SAE 1015     normalized\n",
              "2    ANSI  Steel SAE 1015       annealed\n",
              "3    ANSI  Steel SAE 1020      as-rolled\n",
              "4    ANSI  Steel SAE 1020     normalized\n",
              "..    ...             ...            ...\n",
              "797    NF       NF 30CD12       nitrided\n",
              "798    NF        NF 16NC6  case-hardened\n",
              "799    NF       NF 18NCD6  case-hardened\n",
              "800    NF       NF 30CND8   heat treated\n",
              "801   JIS        JIS SUP9   heat treated\n",
              "\n",
              "[802 rows x 3 columns]"
            ],
            "text/html": [
              "\n",
              "  <div id=\"df-b47f6858-61df-4bdb-bb3d-baa1df14298b\" class=\"colab-df-container\">\n",
              "    <div>\n",
              "<style scoped>\n",
              "    .dataframe tbody tr th:only-of-type {\n",
              "        vertical-align: middle;\n",
              "    }\n",
              "\n",
              "    .dataframe tbody tr th {\n",
              "        vertical-align: top;\n",
              "    }\n",
              "\n",
              "    .dataframe thead th {\n",
              "        text-align: right;\n",
              "    }\n",
              "</style>\n",
              "<table border=\"1\" class=\"dataframe\">\n",
              "  <thead>\n",
              "    <tr style=\"text-align: right;\">\n",
              "      <th></th>\n",
              "      <th>Std</th>\n",
              "      <th>Material</th>\n",
              "      <th>Heat treatment</th>\n",
              "    </tr>\n",
              "  </thead>\n",
              "  <tbody>\n",
              "    <tr>\n",
              "      <th>0</th>\n",
              "      <td>ANSI</td>\n",
              "      <td>Steel SAE 1015</td>\n",
              "      <td>as-rolled</td>\n",
              "    </tr>\n",
              "    <tr>\n",
              "      <th>1</th>\n",
              "      <td>ANSI</td>\n",
              "      <td>Steel SAE 1015</td>\n",
              "      <td>normalized</td>\n",
              "    </tr>\n",
              "    <tr>\n",
              "      <th>2</th>\n",
              "      <td>ANSI</td>\n",
              "      <td>Steel SAE 1015</td>\n",
              "      <td>annealed</td>\n",
              "    </tr>\n",
              "    <tr>\n",
              "      <th>3</th>\n",
              "      <td>ANSI</td>\n",
              "      <td>Steel SAE 1020</td>\n",
              "      <td>as-rolled</td>\n",
              "    </tr>\n",
              "    <tr>\n",
              "      <th>4</th>\n",
              "      <td>ANSI</td>\n",
              "      <td>Steel SAE 1020</td>\n",
              "      <td>normalized</td>\n",
              "    </tr>\n",
              "    <tr>\n",
              "      <th>...</th>\n",
              "      <td>...</td>\n",
              "      <td>...</td>\n",
              "      <td>...</td>\n",
              "    </tr>\n",
              "    <tr>\n",
              "      <th>797</th>\n",
              "      <td>NF</td>\n",
              "      <td>NF 30CD12</td>\n",
              "      <td>nitrided</td>\n",
              "    </tr>\n",
              "    <tr>\n",
              "      <th>798</th>\n",
              "      <td>NF</td>\n",
              "      <td>NF 16NC6</td>\n",
              "      <td>case-hardened</td>\n",
              "    </tr>\n",
              "    <tr>\n",
              "      <th>799</th>\n",
              "      <td>NF</td>\n",
              "      <td>NF 18NCD6</td>\n",
              "      <td>case-hardened</td>\n",
              "    </tr>\n",
              "    <tr>\n",
              "      <th>800</th>\n",
              "      <td>NF</td>\n",
              "      <td>NF 30CND8</td>\n",
              "      <td>heat treated</td>\n",
              "    </tr>\n",
              "    <tr>\n",
              "      <th>801</th>\n",
              "      <td>JIS</td>\n",
              "      <td>JIS SUP9</td>\n",
              "      <td>heat treated</td>\n",
              "    </tr>\n",
              "  </tbody>\n",
              "</table>\n",
              "<p>802 rows × 3 columns</p>\n",
              "</div>\n",
              "    <div class=\"colab-df-buttons\">\n",
              "\n",
              "  <div class=\"colab-df-container\">\n",
              "    <button class=\"colab-df-convert\" onclick=\"convertToInteractive('df-b47f6858-61df-4bdb-bb3d-baa1df14298b')\"\n",
              "            title=\"Convert this dataframe to an interactive table.\"\n",
              "            style=\"display:none;\">\n",
              "\n",
              "  <svg xmlns=\"http://www.w3.org/2000/svg\" height=\"24px\" viewBox=\"0 -960 960 960\">\n",
              "    <path d=\"M120-120v-720h720v720H120Zm60-500h600v-160H180v160Zm220 220h160v-160H400v160Zm0 220h160v-160H400v160ZM180-400h160v-160H180v160Zm440 0h160v-160H620v160ZM180-180h160v-160H180v160Zm440 0h160v-160H620v160Z\"/>\n",
              "  </svg>\n",
              "    </button>\n",
              "\n",
              "  <style>\n",
              "    .colab-df-container {\n",
              "      display:flex;\n",
              "      gap: 12px;\n",
              "    }\n",
              "\n",
              "    .colab-df-convert {\n",
              "      background-color: #E8F0FE;\n",
              "      border: none;\n",
              "      border-radius: 50%;\n",
              "      cursor: pointer;\n",
              "      display: none;\n",
              "      fill: #1967D2;\n",
              "      height: 32px;\n",
              "      padding: 0 0 0 0;\n",
              "      width: 32px;\n",
              "    }\n",
              "\n",
              "    .colab-df-convert:hover {\n",
              "      background-color: #E2EBFA;\n",
              "      box-shadow: 0px 1px 2px rgba(60, 64, 67, 0.3), 0px 1px 3px 1px rgba(60, 64, 67, 0.15);\n",
              "      fill: #174EA6;\n",
              "    }\n",
              "\n",
              "    .colab-df-buttons div {\n",
              "      margin-bottom: 4px;\n",
              "    }\n",
              "\n",
              "    [theme=dark] .colab-df-convert {\n",
              "      background-color: #3B4455;\n",
              "      fill: #D2E3FC;\n",
              "    }\n",
              "\n",
              "    [theme=dark] .colab-df-convert:hover {\n",
              "      background-color: #434B5C;\n",
              "      box-shadow: 0px 1px 3px 1px rgba(0, 0, 0, 0.15);\n",
              "      filter: drop-shadow(0px 1px 2px rgba(0, 0, 0, 0.3));\n",
              "      fill: #FFFFFF;\n",
              "    }\n",
              "  </style>\n",
              "\n",
              "    <script>\n",
              "      const buttonEl =\n",
              "        document.querySelector('#df-b47f6858-61df-4bdb-bb3d-baa1df14298b button.colab-df-convert');\n",
              "      buttonEl.style.display =\n",
              "        google.colab.kernel.accessAllowed ? 'block' : 'none';\n",
              "\n",
              "      async function convertToInteractive(key) {\n",
              "        const element = document.querySelector('#df-b47f6858-61df-4bdb-bb3d-baa1df14298b');\n",
              "        const dataTable =\n",
              "          await google.colab.kernel.invokeFunction('convertToInteractive',\n",
              "                                                    [key], {});\n",
              "        if (!dataTable) return;\n",
              "\n",
              "        const docLinkHtml = 'Like what you see? Visit the ' +\n",
              "          '<a target=\"_blank\" href=https://colab.research.google.com/notebooks/data_table.ipynb>data table notebook</a>'\n",
              "          + ' to learn more about interactive tables.';\n",
              "        element.innerHTML = '';\n",
              "        dataTable['output_type'] = 'display_data';\n",
              "        await google.colab.output.renderOutput(dataTable, element);\n",
              "        const docLink = document.createElement('div');\n",
              "        docLink.innerHTML = docLinkHtml;\n",
              "        element.appendChild(docLink);\n",
              "      }\n",
              "    </script>\n",
              "  </div>\n",
              "\n",
              "\n",
              "<div id=\"df-68275ca1-3df6-4588-b92c-237879949038\">\n",
              "  <button class=\"colab-df-quickchart\" onclick=\"quickchart('df-68275ca1-3df6-4588-b92c-237879949038')\"\n",
              "            title=\"Suggest charts\"\n",
              "            style=\"display:none;\">\n",
              "\n",
              "<svg xmlns=\"http://www.w3.org/2000/svg\" height=\"24px\"viewBox=\"0 0 24 24\"\n",
              "     width=\"24px\">\n",
              "    <g>\n",
              "        <path d=\"M19 3H5c-1.1 0-2 .9-2 2v14c0 1.1.9 2 2 2h14c1.1 0 2-.9 2-2V5c0-1.1-.9-2-2-2zM9 17H7v-7h2v7zm4 0h-2V7h2v10zm4 0h-2v-4h2v4z\"/>\n",
              "    </g>\n",
              "</svg>\n",
              "  </button>\n",
              "\n",
              "<style>\n",
              "  .colab-df-quickchart {\n",
              "      --bg-color: #E8F0FE;\n",
              "      --fill-color: #1967D2;\n",
              "      --hover-bg-color: #E2EBFA;\n",
              "      --hover-fill-color: #174EA6;\n",
              "      --disabled-fill-color: #AAA;\n",
              "      --disabled-bg-color: #DDD;\n",
              "  }\n",
              "\n",
              "  [theme=dark] .colab-df-quickchart {\n",
              "      --bg-color: #3B4455;\n",
              "      --fill-color: #D2E3FC;\n",
              "      --hover-bg-color: #434B5C;\n",
              "      --hover-fill-color: #FFFFFF;\n",
              "      --disabled-bg-color: #3B4455;\n",
              "      --disabled-fill-color: #666;\n",
              "  }\n",
              "\n",
              "  .colab-df-quickchart {\n",
              "    background-color: var(--bg-color);\n",
              "    border: none;\n",
              "    border-radius: 50%;\n",
              "    cursor: pointer;\n",
              "    display: none;\n",
              "    fill: var(--fill-color);\n",
              "    height: 32px;\n",
              "    padding: 0;\n",
              "    width: 32px;\n",
              "  }\n",
              "\n",
              "  .colab-df-quickchart:hover {\n",
              "    background-color: var(--hover-bg-color);\n",
              "    box-shadow: 0 1px 2px rgba(60, 64, 67, 0.3), 0 1px 3px 1px rgba(60, 64, 67, 0.15);\n",
              "    fill: var(--button-hover-fill-color);\n",
              "  }\n",
              "\n",
              "  .colab-df-quickchart-complete:disabled,\n",
              "  .colab-df-quickchart-complete:disabled:hover {\n",
              "    background-color: var(--disabled-bg-color);\n",
              "    fill: var(--disabled-fill-color);\n",
              "    box-shadow: none;\n",
              "  }\n",
              "\n",
              "  .colab-df-spinner {\n",
              "    border: 2px solid var(--fill-color);\n",
              "    border-color: transparent;\n",
              "    border-bottom-color: var(--fill-color);\n",
              "    animation:\n",
              "      spin 1s steps(1) infinite;\n",
              "  }\n",
              "\n",
              "  @keyframes spin {\n",
              "    0% {\n",
              "      border-color: transparent;\n",
              "      border-bottom-color: var(--fill-color);\n",
              "      border-left-color: var(--fill-color);\n",
              "    }\n",
              "    20% {\n",
              "      border-color: transparent;\n",
              "      border-left-color: var(--fill-color);\n",
              "      border-top-color: var(--fill-color);\n",
              "    }\n",
              "    30% {\n",
              "      border-color: transparent;\n",
              "      border-left-color: var(--fill-color);\n",
              "      border-top-color: var(--fill-color);\n",
              "      border-right-color: var(--fill-color);\n",
              "    }\n",
              "    40% {\n",
              "      border-color: transparent;\n",
              "      border-right-color: var(--fill-color);\n",
              "      border-top-color: var(--fill-color);\n",
              "    }\n",
              "    60% {\n",
              "      border-color: transparent;\n",
              "      border-right-color: var(--fill-color);\n",
              "    }\n",
              "    80% {\n",
              "      border-color: transparent;\n",
              "      border-right-color: var(--fill-color);\n",
              "      border-bottom-color: var(--fill-color);\n",
              "    }\n",
              "    90% {\n",
              "      border-color: transparent;\n",
              "      border-bottom-color: var(--fill-color);\n",
              "    }\n",
              "  }\n",
              "</style>\n",
              "\n",
              "  <script>\n",
              "    async function quickchart(key) {\n",
              "      const quickchartButtonEl =\n",
              "        document.querySelector('#' + key + ' button');\n",
              "      quickchartButtonEl.disabled = true;  // To prevent multiple clicks.\n",
              "      quickchartButtonEl.classList.add('colab-df-spinner');\n",
              "      try {\n",
              "        const charts = await google.colab.kernel.invokeFunction(\n",
              "            'suggestCharts', [key], {});\n",
              "      } catch (error) {\n",
              "        console.error('Error during call to suggestCharts:', error);\n",
              "      }\n",
              "      quickchartButtonEl.classList.remove('colab-df-spinner');\n",
              "      quickchartButtonEl.classList.add('colab-df-quickchart-complete');\n",
              "    }\n",
              "    (() => {\n",
              "      let quickchartButtonEl =\n",
              "        document.querySelector('#df-68275ca1-3df6-4588-b92c-237879949038 button');\n",
              "      quickchartButtonEl.style.display =\n",
              "        google.colab.kernel.accessAllowed ? 'block' : 'none';\n",
              "    })();\n",
              "  </script>\n",
              "</div>\n",
              "\n",
              "  <div id=\"id_deeec34f-09b2-4429-9e7c-f97bc52fac37\">\n",
              "    <style>\n",
              "      .colab-df-generate {\n",
              "        background-color: #E8F0FE;\n",
              "        border: none;\n",
              "        border-radius: 50%;\n",
              "        cursor: pointer;\n",
              "        display: none;\n",
              "        fill: #1967D2;\n",
              "        height: 32px;\n",
              "        padding: 0 0 0 0;\n",
              "        width: 32px;\n",
              "      }\n",
              "\n",
              "      .colab-df-generate:hover {\n",
              "        background-color: #E2EBFA;\n",
              "        box-shadow: 0px 1px 2px rgba(60, 64, 67, 0.3), 0px 1px 3px 1px rgba(60, 64, 67, 0.15);\n",
              "        fill: #174EA6;\n",
              "      }\n",
              "\n",
              "      [theme=dark] .colab-df-generate {\n",
              "        background-color: #3B4455;\n",
              "        fill: #D2E3FC;\n",
              "      }\n",
              "\n",
              "      [theme=dark] .colab-df-generate:hover {\n",
              "        background-color: #434B5C;\n",
              "        box-shadow: 0px 1px 3px 1px rgba(0, 0, 0, 0.15);\n",
              "        filter: drop-shadow(0px 1px 2px rgba(0, 0, 0, 0.3));\n",
              "        fill: #FFFFFF;\n",
              "      }\n",
              "    </style>\n",
              "    <button class=\"colab-df-generate\" onclick=\"generateWithVariable('cate_cols')\"\n",
              "            title=\"Generate code using this dataframe.\"\n",
              "            style=\"display:none;\">\n",
              "\n",
              "  <svg xmlns=\"http://www.w3.org/2000/svg\" height=\"24px\"viewBox=\"0 0 24 24\"\n",
              "       width=\"24px\">\n",
              "    <path d=\"M7,19H8.4L18.45,9,17,7.55,7,17.6ZM5,21V16.75L18.45,3.32a2,2,0,0,1,2.83,0l1.4,1.43a1.91,1.91,0,0,1,.58,1.4,1.91,1.91,0,0,1-.58,1.4L9.25,21ZM18.45,9,17,7.55Zm-12,3A5.31,5.31,0,0,0,4.9,8.1,5.31,5.31,0,0,0,1,6.5,5.31,5.31,0,0,0,4.9,4.9,5.31,5.31,0,0,0,6.5,1,5.31,5.31,0,0,0,8.1,4.9,5.31,5.31,0,0,0,12,6.5,5.46,5.46,0,0,0,6.5,12Z\"/>\n",
              "  </svg>\n",
              "    </button>\n",
              "    <script>\n",
              "      (() => {\n",
              "      const buttonEl =\n",
              "        document.querySelector('#id_deeec34f-09b2-4429-9e7c-f97bc52fac37 button.colab-df-generate');\n",
              "      buttonEl.style.display =\n",
              "        google.colab.kernel.accessAllowed ? 'block' : 'none';\n",
              "\n",
              "      buttonEl.onclick = () => {\n",
              "        google.colab.notebook.generateWithVariable('cate_cols');\n",
              "      }\n",
              "      })();\n",
              "    </script>\n",
              "  </div>\n",
              "\n",
              "    </div>\n",
              "  </div>\n"
            ],
            "application/vnd.google.colaboratory.intrinsic+json": {
              "type": "dataframe",
              "variable_name": "cate_cols",
              "summary": "{\n  \"name\": \"cate_cols\",\n  \"rows\": 802,\n  \"fields\": [\n    {\n      \"column\": \"Std\",\n      \"properties\": {\n        \"dtype\": \"category\",\n        \"num_unique_values\": 8,\n        \"samples\": [\n          \"ISO\",\n          \"GOST\",\n          \"ANSI\"\n        ],\n        \"semantic_type\": \"\",\n        \"description\": \"\"\n      }\n    },\n    {\n      \"column\": \"Material\",\n      \"properties\": {\n        \"dtype\": \"string\",\n        \"num_unique_values\": 545,\n        \"samples\": [\n          \"Magnesium Alloy ZE63A-T6\",\n          \"Aluminum Alloy 204.0\",\n          \"DIN 37Cr4\"\n        ],\n        \"semantic_type\": \"\",\n        \"description\": \"\"\n      }\n    },\n    {\n      \"column\": \"Heat treatment\",\n      \"properties\": {\n        \"dtype\": \"category\",\n        \"num_unique_values\": 44,\n        \"samples\": [\n          \"Improved\",\n          \"Cast (T53)\",\n          \"Wrought\"\n        ],\n        \"semantic_type\": \"\",\n        \"description\": \"\"\n      }\n    }\n  ]\n}"
            }
          },
          "metadata": {},
          "execution_count": 376
        }
      ]
    },
    {
      "cell_type": "code",
      "source": [
        "cate_cols.columns"
      ],
      "metadata": {
        "colab": {
          "base_uri": "https://localhost:8080/"
        },
        "id": "OXS9nnfQyJCd",
        "outputId": "7d070fa0-ed25-44d3-81a8-e9d067f1d11e"
      },
      "execution_count": 377,
      "outputs": [
        {
          "output_type": "execute_result",
          "data": {
            "text/plain": [
              "Index(['Std', 'Material', 'Heat treatment'], dtype='object')"
            ]
          },
          "metadata": {},
          "execution_count": 377
        }
      ]
    },
    {
      "cell_type": "code",
      "source": [
        "cate_cols.shape"
      ],
      "metadata": {
        "colab": {
          "base_uri": "https://localhost:8080/"
        },
        "id": "CK8bMQtKyMg1",
        "outputId": "6c4cf37a-cb01-45c6-8991-dc2fdf18acd8"
      },
      "execution_count": 378,
      "outputs": [
        {
          "output_type": "execute_result",
          "data": {
            "text/plain": [
              "(802, 3)"
            ]
          },
          "metadata": {},
          "execution_count": 378
        }
      ]
    },
    {
      "cell_type": "code",
      "source": [
        "data['Std'].nunique()"
      ],
      "metadata": {
        "colab": {
          "base_uri": "https://localhost:8080/"
        },
        "id": "Qkn-vEa3yMkV",
        "outputId": "51bbf71b-d6d9-455c-9a5b-71607186532e"
      },
      "execution_count": 379,
      "outputs": [
        {
          "output_type": "execute_result",
          "data": {
            "text/plain": [
              "8"
            ]
          },
          "metadata": {},
          "execution_count": 379
        }
      ]
    },
    {
      "cell_type": "code",
      "source": [
        "data['Std'].unique()"
      ],
      "metadata": {
        "colab": {
          "base_uri": "https://localhost:8080/"
        },
        "id": "sFvIZS7vzKSr",
        "outputId": "edbe333d-9661-4a91-cbfc-dfe1df2a865f"
      },
      "execution_count": 380,
      "outputs": [
        {
          "output_type": "execute_result",
          "data": {
            "text/plain": [
              "array(['ANSI', 'ISO', 'DIN', 'BS', 'CSN', 'GOST', 'NF', 'JIS'],\n",
              "      dtype=object)"
            ]
          },
          "metadata": {},
          "execution_count": 380
        }
      ]
    },
    {
      "cell_type": "code",
      "source": [
        "data['Std']=data['Std'].map({'ANSI':1, 'ISO':2, 'DIN':3, 'BS':4, 'CSN':5, 'GOST':6, 'NF':7, 'JIS':8})"
      ],
      "metadata": {
        "id": "fjFYo-X_zM4_"
      },
      "execution_count": 381,
      "outputs": []
    },
    {
      "cell_type": "code",
      "source": [
        "data['Heat treatment'].unique()"
      ],
      "metadata": {
        "colab": {
          "base_uri": "https://localhost:8080/"
        },
        "id": "-7LHeVjSzZ22",
        "outputId": "185e4c4f-388b-4936-866a-01d482800676"
      },
      "execution_count": 382,
      "outputs": [
        {
          "output_type": "execute_result",
          "data": {
            "text/plain": [
              "array(['as-rolled', 'normalized', 'annealed', 'tempered at 400 F',\n",
              "       'tempered at 600 F', 'tempered at 800 F', '1/4-hard', '1/2-hard',\n",
              "       '3/4-hard', 'Full-hard', 'As hot rolled', 'As extruded',\n",
              "       'Cast (T7)', 'Cast (T4)', 'Cast (F)', 'Cast (T61)', 'Cast (T77)',\n",
              "       'Cast (T6)', 'Cast (T62)', 'Cast (T51)', 'Cast (T71)',\n",
              "       'Cast (F or T5)', 'Cast (T5)', 'Cast (T52)', 'Cast (T53)',\n",
              "       'Wrought', 'sand casting', 'pressure die casting', 'heat treated',\n",
              "       'case-hardened', 'face hardened', 'nitro-carburized',\n",
              "       'nitro-case-hard.', 'nitrided', 'Heat-treatment nitrided steel',\n",
              "       'Cold working', 'Annealing or high tempering', 'Improved',\n",
              "       'Quenched and tempered', 'Quenching and cooling in the water',\n",
              "       'Quenching and cooling in the oil', 'Quenching and heating',\n",
              "       'Case hardening,quenching and cooling in the oil', 'Annealing'],\n",
              "      dtype=object)"
            ]
          },
          "metadata": {},
          "execution_count": 382
        }
      ]
    },
    {
      "cell_type": "code",
      "source": [
        " data['Heat treatment'].value_counts()\n"
      ],
      "metadata": {
        "colab": {
          "base_uri": "https://localhost:8080/"
        },
        "id": "GpH8EOhKzeLo",
        "outputId": "697d88af-2bc0-4280-fe2f-e1719ed7bee7"
      },
      "execution_count": 383,
      "outputs": [
        {
          "output_type": "execute_result",
          "data": {
            "text/plain": [
              "Heat treatment\n",
              "Wrought                                            203\n",
              "normalized                                         152\n",
              "Quenched and tempered                               71\n",
              "annealed                                            66\n",
              "heat treated                                        54\n",
              "tempered at 400 F                                   29\n",
              "Quenching and cooling in the oil                    25\n",
              "case-hardened                                       22\n",
              "sand casting                                        18\n",
              "as-rolled                                           14\n",
              "Quenching and cooling in the water                  13\n",
              "Improved                                            12\n",
              "As extruded                                         11\n",
              "face hardened                                       10\n",
              "Annealing or high tempering                          9\n",
              "Cold working                                         9\n",
              "Cast (T6)                                            8\n",
              "Cast (F)                                             7\n",
              "tempered at 600 F                                    6\n",
              "pressure die casting                                 6\n",
              "nitrided                                             5\n",
              "Cast (F or T5)                                       5\n",
              "Cast (T7)                                            4\n",
              "1/4-hard                                             4\n",
              "Case hardening,quenching and cooling in the oil      4\n",
              "Quenching and heating                                3\n",
              "Cast (T5)                                            3\n",
              "Cast (T71)                                           3\n",
              "Cast (T51)                                           3\n",
              "Cast (T4)                                            3\n",
              "tempered at 800 F                                    2\n",
              "nitro-case-hard.                                     2\n",
              "1/2-hard                                             2\n",
              "Heat-treatment nitrided steel                        2\n",
              "3/4-hard                                             2\n",
              "Full-hard                                            2\n",
              "Cast (T53)                                           1\n",
              "As hot rolled                                        1\n",
              "Cast (T77)                                           1\n",
              "Cast (T61)                                           1\n",
              "Cast (T52)                                           1\n",
              "Cast (T62)                                           1\n",
              "nitro-carburized                                     1\n",
              "Annealing                                            1\n",
              "Name: count, dtype: int64"
            ]
          },
          "metadata": {},
          "execution_count": 383
        }
      ]
    },
    {
      "cell_type": "code",
      "source": [
        "data = data[~data['Heat treatment'].isin(data['Heat treatment'].value_counts()[data['Heat treatment'].value_counts() < 3].index)]"
      ],
      "metadata": {
        "id": "ghnj-Xvp00FM"
      },
      "execution_count": 384,
      "outputs": []
    },
    {
      "cell_type": "code",
      "source": [
        "data['Heat treatment'].value_counts()"
      ],
      "metadata": {
        "colab": {
          "base_uri": "https://localhost:8080/"
        },
        "id": "TcMr9RIn01zF",
        "outputId": "13f2e941-710f-459f-97bf-8c26d1a02111"
      },
      "execution_count": 385,
      "outputs": [
        {
          "output_type": "execute_result",
          "data": {
            "text/plain": [
              "Heat treatment\n",
              "Wrought                                            203\n",
              "normalized                                         152\n",
              "Quenched and tempered                               71\n",
              "annealed                                            66\n",
              "heat treated                                        54\n",
              "tempered at 400 F                                   29\n",
              "Quenching and cooling in the oil                    25\n",
              "case-hardened                                       22\n",
              "sand casting                                        18\n",
              "as-rolled                                           14\n",
              "Quenching and cooling in the water                  13\n",
              "Improved                                            12\n",
              "As extruded                                         11\n",
              "face hardened                                       10\n",
              "Annealing or high tempering                          9\n",
              "Cold working                                         9\n",
              "Cast (T6)                                            8\n",
              "Cast (F)                                             7\n",
              "pressure die casting                                 6\n",
              "tempered at 600 F                                    6\n",
              "nitrided                                             5\n",
              "Cast (F or T5)                                       5\n",
              "Cast (T7)                                            4\n",
              "1/4-hard                                             4\n",
              "Case hardening,quenching and cooling in the oil      4\n",
              "Cast (T4)                                            3\n",
              "Cast (T51)                                           3\n",
              "Cast (T5)                                            3\n",
              "Cast (T71)                                           3\n",
              "Quenching and heating                                3\n",
              "Name: count, dtype: int64"
            ]
          },
          "metadata": {},
          "execution_count": 385
        }
      ]
    },
    {
      "cell_type": "code",
      "source": [
        "data.shape"
      ],
      "metadata": {
        "colab": {
          "base_uri": "https://localhost:8080/"
        },
        "id": "RycHHbxNeUmO",
        "outputId": "06d9ad0d-58e9-4eca-ee78-d6da74fc2754"
      },
      "execution_count": 386,
      "outputs": [
        {
          "output_type": "execute_result",
          "data": {
            "text/plain": [
              "(782, 8)"
            ]
          },
          "metadata": {},
          "execution_count": 386
        }
      ]
    },
    {
      "cell_type": "code",
      "source": [
        "data.isnull().sum()"
      ],
      "metadata": {
        "colab": {
          "base_uri": "https://localhost:8080/"
        },
        "id": "DeJTLC1keWzy",
        "outputId": "e46d328f-c81a-49e7-e677-0986670abf16"
      },
      "execution_count": 387,
      "outputs": [
        {
          "output_type": "execute_result",
          "data": {
            "text/plain": [
              "Std               0\n",
              "Material          0\n",
              "Heat treatment    0\n",
              "Su                0\n",
              "E                 0\n",
              "G                 0\n",
              "mu                0\n",
              "use               0\n",
              "dtype: int64"
            ]
          },
          "metadata": {},
          "execution_count": 387
        }
      ]
    },
    {
      "cell_type": "code",
      "source": [
        "import re\n",
        "cast_rows = data[data['Heat treatment'].str.split(' ').str.get(0) == 'Cast']\n",
        "print(cast_rows)"
      ],
      "metadata": {
        "colab": {
          "base_uri": "https://localhost:8080/"
        },
        "id": "WgyujXSv1NeV",
        "outputId": "f8e19295-ea4a-4cc9-bbd2-92fda1c15df9"
      },
      "execution_count": 388,
      "outputs": [
        {
          "output_type": "stream",
          "name": "stdout",
          "text": [
            "     Std               Material  Heat treatment        Su         E         G  \\\n",
            "163    1   Aluminum Alloy 201.0       Cast (T7) -0.550093 -1.367605 -0.454313   \n",
            "164    1   Aluminum Alloy 204.0       Cast (T4) -0.813952 -1.367605 -0.454313   \n",
            "165    1   Aluminum Alloy 208.0        Cast (F) -1.268093 -1.367605 -0.454313   \n",
            "168    1   Aluminum Alloy 295.0       Cast (T4) -1.093033 -1.367605 -0.454313   \n",
            "169    1   Aluminum Alloy 295.0       Cast (T6) -1.039754 -1.367605 -0.454313   \n",
            "171    1   Aluminum Alloy 295.0       Cast (T7) -1.093033 -1.367605 -0.454313   \n",
            "172    1   Aluminum Alloy 319.0        Cast (F) -1.197055 -1.367605 -0.454313   \n",
            "173    1   Aluminum Alloy 319.0       Cast (T6) -1.057514 -1.367605 -0.454313   \n",
            "174    1   Aluminum Alloy 328.0        Cast (F) -1.164072 -1.367605 -0.454313   \n",
            "175    1   Aluminum Alloy 328.0       Cast (T6) -1.006772 -1.367605 -0.454313   \n",
            "176    1   Aluminum Alloy 355.0      Cast (T51) -1.164072 -1.367605 -0.454313   \n",
            "177    1   Aluminum Alloy 355.0       Cast (T6) -1.039754 -1.367605 -0.454313   \n",
            "178    1   Aluminum Alloy 355.0      Cast (T71) -1.075274 -1.367605 -0.454313   \n",
            "179    1  Aluminum Alloy C355.0       Cast (T6) -0.971252 -1.367605 -0.454313   \n",
            "180    1   Aluminum Alloy 356.0      Cast (T51) -1.197055 -1.367605 -0.454313   \n",
            "181    1   Aluminum Alloy 356.0       Cast (T6) -1.075274 -1.367605 -0.454313   \n",
            "182    1   Aluminum Alloy 356.0       Cast (T7) -1.057514 -1.367605 -0.454313   \n",
            "183    1   Aluminum Alloy 356.0      Cast (T71) -1.164072 -1.367605 -0.454313   \n",
            "184    1  Aluminum Alloy A356.0       Cast (T6) -1.006772 -1.367605 -0.454313   \n",
            "185    1   Aluminum Alloy 443.0        Cast (F) -1.303613 -1.367605 -0.454313   \n",
            "186    1  Aluminum Alloy B443.0        Cast (F) -1.303613 -1.367605 -0.454313   \n",
            "187    1   Aluminum Alloy 512.0        Cast (F) -1.303613 -1.367605 -0.454313   \n",
            "188    1   Aluminum Alloy 514.0        Cast (F) -1.214814 -1.367605 -0.454313   \n",
            "189    1   Aluminum Alloy 520.0       Cast (T4) -0.864694 -1.367605 -0.454313   \n",
            "190    1   Aluminum Alloy 535.0  Cast (F or T5) -0.989012 -1.367605 -0.454313   \n",
            "191    1   Aluminum Alloy 705.0  Cast (F or T5) -1.075274 -1.367605 -0.454313   \n",
            "192    1   Aluminum Alloy 707.0       Cast (T5) -1.021994 -1.367605 -0.454313   \n",
            "193    1   Aluminum Alloy 707.0       Cast (T7) -0.953493 -1.367605 -0.454313   \n",
            "194    1   Aluminum Alloy 710.0  Cast (F or T5) -1.039754 -1.367605 -0.454313   \n",
            "195    1   Aluminum Alloy 712.0  Cast (F or T5) -1.006772 -1.367605 -0.454313   \n",
            "196    1   Aluminum Alloy 713.0  Cast (F or T5) -1.039754 -1.367605 -0.454313   \n",
            "197    1   Aluminum Alloy 771.0       Cast (T5) -0.864694 -1.367605 -0.454313   \n",
            "198    1   Aluminum Alloy 771.0      Cast (T51) -1.039754 -1.367605 -0.454313   \n",
            "201    1   Aluminum Alloy 771.0       Cast (T6) -0.864694 -1.367605 -0.454313   \n",
            "202    1   Aluminum Alloy 771.0      Cast (T71) -0.760673 -1.367605 -0.454313   \n",
            "203    1   Aluminum Alloy 852.0       Cast (T5) -1.181832 -1.367605 -0.454313   \n",
            "\n",
            "           mu    use  \n",
            "163  1.340054  False  \n",
            "164  1.340054  False  \n",
            "165  1.340054  False  \n",
            "168  1.340054  False  \n",
            "169  1.340054  False  \n",
            "171  1.340054  False  \n",
            "172  1.340054  False  \n",
            "173  1.340054  False  \n",
            "174  1.340054  False  \n",
            "175  1.340054  False  \n",
            "176  1.340054  False  \n",
            "177  1.340054  False  \n",
            "178  1.340054  False  \n",
            "179  1.340054  False  \n",
            "180  1.340054  False  \n",
            "181  1.340054  False  \n",
            "182  1.340054  False  \n",
            "183  1.340054  False  \n",
            "184  1.340054  False  \n",
            "185  1.340054  False  \n",
            "186  1.340054  False  \n",
            "187  1.340054  False  \n",
            "188  1.340054  False  \n",
            "189  1.340054  False  \n",
            "190  1.340054  False  \n",
            "191  1.340054  False  \n",
            "192  1.340054  False  \n",
            "193  1.340054  False  \n",
            "194  1.340054  False  \n",
            "195  1.340054  False  \n",
            "196  1.340054  False  \n",
            "197  1.340054  False  \n",
            "198  1.340054  False  \n",
            "201  1.340054  False  \n",
            "202  1.340054  False  \n",
            "203  1.340054  False  \n"
          ]
        }
      ]
    },
    {
      "cell_type": "code",
      "source": [
        "cast_rows.index"
      ],
      "metadata": {
        "colab": {
          "base_uri": "https://localhost:8080/"
        },
        "id": "FkY9SnI71VlT",
        "outputId": "a6b3b367-6301-4b9e-a164-0410efc14c19"
      },
      "execution_count": 389,
      "outputs": [
        {
          "output_type": "execute_result",
          "data": {
            "text/plain": [
              "Index([163, 164, 165, 168, 169, 171, 172, 173, 174, 175, 176, 177, 178, 179,\n",
              "       180, 181, 182, 183, 184, 185, 186, 187, 188, 189, 190, 191, 192, 193,\n",
              "       194, 195, 196, 197, 198, 201, 202, 203],\n",
              "      dtype='int64')"
            ]
          },
          "metadata": {},
          "execution_count": 389
        }
      ]
    },
    {
      "cell_type": "code",
      "source": [
        "data.columns"
      ],
      "metadata": {
        "colab": {
          "base_uri": "https://localhost:8080/"
        },
        "id": "PAV9frcs2Fa7",
        "outputId": "5417fc2e-a176-4ab2-b42d-05a084e0dc27"
      },
      "execution_count": 390,
      "outputs": [
        {
          "output_type": "execute_result",
          "data": {
            "text/plain": [
              "Index(['Std', 'Material', 'Heat treatment', 'Su', 'E', 'G', 'mu', 'use'], dtype='object')"
            ]
          },
          "metadata": {},
          "execution_count": 390
        }
      ]
    },
    {
      "cell_type": "code",
      "source": [
        "cast_rows"
      ],
      "metadata": {
        "colab": {
          "base_uri": "https://localhost:8080/",
          "height": 1000
        },
        "id": "6sLbK16QILyI",
        "outputId": "f9a2a4bd-d5c4-455a-df0c-9b1dcf839dfc"
      },
      "execution_count": 391,
      "outputs": [
        {
          "output_type": "execute_result",
          "data": {
            "text/plain": [
              "     Std               Material  Heat treatment        Su         E         G  \\\n",
              "163    1   Aluminum Alloy 201.0       Cast (T7) -0.550093 -1.367605 -0.454313   \n",
              "164    1   Aluminum Alloy 204.0       Cast (T4) -0.813952 -1.367605 -0.454313   \n",
              "165    1   Aluminum Alloy 208.0        Cast (F) -1.268093 -1.367605 -0.454313   \n",
              "168    1   Aluminum Alloy 295.0       Cast (T4) -1.093033 -1.367605 -0.454313   \n",
              "169    1   Aluminum Alloy 295.0       Cast (T6) -1.039754 -1.367605 -0.454313   \n",
              "171    1   Aluminum Alloy 295.0       Cast (T7) -1.093033 -1.367605 -0.454313   \n",
              "172    1   Aluminum Alloy 319.0        Cast (F) -1.197055 -1.367605 -0.454313   \n",
              "173    1   Aluminum Alloy 319.0       Cast (T6) -1.057514 -1.367605 -0.454313   \n",
              "174    1   Aluminum Alloy 328.0        Cast (F) -1.164072 -1.367605 -0.454313   \n",
              "175    1   Aluminum Alloy 328.0       Cast (T6) -1.006772 -1.367605 -0.454313   \n",
              "176    1   Aluminum Alloy 355.0      Cast (T51) -1.164072 -1.367605 -0.454313   \n",
              "177    1   Aluminum Alloy 355.0       Cast (T6) -1.039754 -1.367605 -0.454313   \n",
              "178    1   Aluminum Alloy 355.0      Cast (T71) -1.075274 -1.367605 -0.454313   \n",
              "179    1  Aluminum Alloy C355.0       Cast (T6) -0.971252 -1.367605 -0.454313   \n",
              "180    1   Aluminum Alloy 356.0      Cast (T51) -1.197055 -1.367605 -0.454313   \n",
              "181    1   Aluminum Alloy 356.0       Cast (T6) -1.075274 -1.367605 -0.454313   \n",
              "182    1   Aluminum Alloy 356.0       Cast (T7) -1.057514 -1.367605 -0.454313   \n",
              "183    1   Aluminum Alloy 356.0      Cast (T71) -1.164072 -1.367605 -0.454313   \n",
              "184    1  Aluminum Alloy A356.0       Cast (T6) -1.006772 -1.367605 -0.454313   \n",
              "185    1   Aluminum Alloy 443.0        Cast (F) -1.303613 -1.367605 -0.454313   \n",
              "186    1  Aluminum Alloy B443.0        Cast (F) -1.303613 -1.367605 -0.454313   \n",
              "187    1   Aluminum Alloy 512.0        Cast (F) -1.303613 -1.367605 -0.454313   \n",
              "188    1   Aluminum Alloy 514.0        Cast (F) -1.214814 -1.367605 -0.454313   \n",
              "189    1   Aluminum Alloy 520.0       Cast (T4) -0.864694 -1.367605 -0.454313   \n",
              "190    1   Aluminum Alloy 535.0  Cast (F or T5) -0.989012 -1.367605 -0.454313   \n",
              "191    1   Aluminum Alloy 705.0  Cast (F or T5) -1.075274 -1.367605 -0.454313   \n",
              "192    1   Aluminum Alloy 707.0       Cast (T5) -1.021994 -1.367605 -0.454313   \n",
              "193    1   Aluminum Alloy 707.0       Cast (T7) -0.953493 -1.367605 -0.454313   \n",
              "194    1   Aluminum Alloy 710.0  Cast (F or T5) -1.039754 -1.367605 -0.454313   \n",
              "195    1   Aluminum Alloy 712.0  Cast (F or T5) -1.006772 -1.367605 -0.454313   \n",
              "196    1   Aluminum Alloy 713.0  Cast (F or T5) -1.039754 -1.367605 -0.454313   \n",
              "197    1   Aluminum Alloy 771.0       Cast (T5) -0.864694 -1.367605 -0.454313   \n",
              "198    1   Aluminum Alloy 771.0      Cast (T51) -1.039754 -1.367605 -0.454313   \n",
              "201    1   Aluminum Alloy 771.0       Cast (T6) -0.864694 -1.367605 -0.454313   \n",
              "202    1   Aluminum Alloy 771.0      Cast (T71) -0.760673 -1.367605 -0.454313   \n",
              "203    1   Aluminum Alloy 852.0       Cast (T5) -1.181832 -1.367605 -0.454313   \n",
              "\n",
              "           mu    use  \n",
              "163  1.340054  False  \n",
              "164  1.340054  False  \n",
              "165  1.340054  False  \n",
              "168  1.340054  False  \n",
              "169  1.340054  False  \n",
              "171  1.340054  False  \n",
              "172  1.340054  False  \n",
              "173  1.340054  False  \n",
              "174  1.340054  False  \n",
              "175  1.340054  False  \n",
              "176  1.340054  False  \n",
              "177  1.340054  False  \n",
              "178  1.340054  False  \n",
              "179  1.340054  False  \n",
              "180  1.340054  False  \n",
              "181  1.340054  False  \n",
              "182  1.340054  False  \n",
              "183  1.340054  False  \n",
              "184  1.340054  False  \n",
              "185  1.340054  False  \n",
              "186  1.340054  False  \n",
              "187  1.340054  False  \n",
              "188  1.340054  False  \n",
              "189  1.340054  False  \n",
              "190  1.340054  False  \n",
              "191  1.340054  False  \n",
              "192  1.340054  False  \n",
              "193  1.340054  False  \n",
              "194  1.340054  False  \n",
              "195  1.340054  False  \n",
              "196  1.340054  False  \n",
              "197  1.340054  False  \n",
              "198  1.340054  False  \n",
              "201  1.340054  False  \n",
              "202  1.340054  False  \n",
              "203  1.340054  False  "
            ],
            "text/html": [
              "\n",
              "  <div id=\"df-124465f9-0e46-4f1f-8c59-7334dc865848\" class=\"colab-df-container\">\n",
              "    <div>\n",
              "<style scoped>\n",
              "    .dataframe tbody tr th:only-of-type {\n",
              "        vertical-align: middle;\n",
              "    }\n",
              "\n",
              "    .dataframe tbody tr th {\n",
              "        vertical-align: top;\n",
              "    }\n",
              "\n",
              "    .dataframe thead th {\n",
              "        text-align: right;\n",
              "    }\n",
              "</style>\n",
              "<table border=\"1\" class=\"dataframe\">\n",
              "  <thead>\n",
              "    <tr style=\"text-align: right;\">\n",
              "      <th></th>\n",
              "      <th>Std</th>\n",
              "      <th>Material</th>\n",
              "      <th>Heat treatment</th>\n",
              "      <th>Su</th>\n",
              "      <th>E</th>\n",
              "      <th>G</th>\n",
              "      <th>mu</th>\n",
              "      <th>use</th>\n",
              "    </tr>\n",
              "  </thead>\n",
              "  <tbody>\n",
              "    <tr>\n",
              "      <th>163</th>\n",
              "      <td>1</td>\n",
              "      <td>Aluminum Alloy 201.0</td>\n",
              "      <td>Cast (T7)</td>\n",
              "      <td>-0.550093</td>\n",
              "      <td>-1.367605</td>\n",
              "      <td>-0.454313</td>\n",
              "      <td>1.340054</td>\n",
              "      <td>False</td>\n",
              "    </tr>\n",
              "    <tr>\n",
              "      <th>164</th>\n",
              "      <td>1</td>\n",
              "      <td>Aluminum Alloy 204.0</td>\n",
              "      <td>Cast (T4)</td>\n",
              "      <td>-0.813952</td>\n",
              "      <td>-1.367605</td>\n",
              "      <td>-0.454313</td>\n",
              "      <td>1.340054</td>\n",
              "      <td>False</td>\n",
              "    </tr>\n",
              "    <tr>\n",
              "      <th>165</th>\n",
              "      <td>1</td>\n",
              "      <td>Aluminum Alloy 208.0</td>\n",
              "      <td>Cast (F)</td>\n",
              "      <td>-1.268093</td>\n",
              "      <td>-1.367605</td>\n",
              "      <td>-0.454313</td>\n",
              "      <td>1.340054</td>\n",
              "      <td>False</td>\n",
              "    </tr>\n",
              "    <tr>\n",
              "      <th>168</th>\n",
              "      <td>1</td>\n",
              "      <td>Aluminum Alloy 295.0</td>\n",
              "      <td>Cast (T4)</td>\n",
              "      <td>-1.093033</td>\n",
              "      <td>-1.367605</td>\n",
              "      <td>-0.454313</td>\n",
              "      <td>1.340054</td>\n",
              "      <td>False</td>\n",
              "    </tr>\n",
              "    <tr>\n",
              "      <th>169</th>\n",
              "      <td>1</td>\n",
              "      <td>Aluminum Alloy 295.0</td>\n",
              "      <td>Cast (T6)</td>\n",
              "      <td>-1.039754</td>\n",
              "      <td>-1.367605</td>\n",
              "      <td>-0.454313</td>\n",
              "      <td>1.340054</td>\n",
              "      <td>False</td>\n",
              "    </tr>\n",
              "    <tr>\n",
              "      <th>171</th>\n",
              "      <td>1</td>\n",
              "      <td>Aluminum Alloy 295.0</td>\n",
              "      <td>Cast (T7)</td>\n",
              "      <td>-1.093033</td>\n",
              "      <td>-1.367605</td>\n",
              "      <td>-0.454313</td>\n",
              "      <td>1.340054</td>\n",
              "      <td>False</td>\n",
              "    </tr>\n",
              "    <tr>\n",
              "      <th>172</th>\n",
              "      <td>1</td>\n",
              "      <td>Aluminum Alloy 319.0</td>\n",
              "      <td>Cast (F)</td>\n",
              "      <td>-1.197055</td>\n",
              "      <td>-1.367605</td>\n",
              "      <td>-0.454313</td>\n",
              "      <td>1.340054</td>\n",
              "      <td>False</td>\n",
              "    </tr>\n",
              "    <tr>\n",
              "      <th>173</th>\n",
              "      <td>1</td>\n",
              "      <td>Aluminum Alloy 319.0</td>\n",
              "      <td>Cast (T6)</td>\n",
              "      <td>-1.057514</td>\n",
              "      <td>-1.367605</td>\n",
              "      <td>-0.454313</td>\n",
              "      <td>1.340054</td>\n",
              "      <td>False</td>\n",
              "    </tr>\n",
              "    <tr>\n",
              "      <th>174</th>\n",
              "      <td>1</td>\n",
              "      <td>Aluminum Alloy 328.0</td>\n",
              "      <td>Cast (F)</td>\n",
              "      <td>-1.164072</td>\n",
              "      <td>-1.367605</td>\n",
              "      <td>-0.454313</td>\n",
              "      <td>1.340054</td>\n",
              "      <td>False</td>\n",
              "    </tr>\n",
              "    <tr>\n",
              "      <th>175</th>\n",
              "      <td>1</td>\n",
              "      <td>Aluminum Alloy 328.0</td>\n",
              "      <td>Cast (T6)</td>\n",
              "      <td>-1.006772</td>\n",
              "      <td>-1.367605</td>\n",
              "      <td>-0.454313</td>\n",
              "      <td>1.340054</td>\n",
              "      <td>False</td>\n",
              "    </tr>\n",
              "    <tr>\n",
              "      <th>176</th>\n",
              "      <td>1</td>\n",
              "      <td>Aluminum Alloy 355.0</td>\n",
              "      <td>Cast (T51)</td>\n",
              "      <td>-1.164072</td>\n",
              "      <td>-1.367605</td>\n",
              "      <td>-0.454313</td>\n",
              "      <td>1.340054</td>\n",
              "      <td>False</td>\n",
              "    </tr>\n",
              "    <tr>\n",
              "      <th>177</th>\n",
              "      <td>1</td>\n",
              "      <td>Aluminum Alloy 355.0</td>\n",
              "      <td>Cast (T6)</td>\n",
              "      <td>-1.039754</td>\n",
              "      <td>-1.367605</td>\n",
              "      <td>-0.454313</td>\n",
              "      <td>1.340054</td>\n",
              "      <td>False</td>\n",
              "    </tr>\n",
              "    <tr>\n",
              "      <th>178</th>\n",
              "      <td>1</td>\n",
              "      <td>Aluminum Alloy 355.0</td>\n",
              "      <td>Cast (T71)</td>\n",
              "      <td>-1.075274</td>\n",
              "      <td>-1.367605</td>\n",
              "      <td>-0.454313</td>\n",
              "      <td>1.340054</td>\n",
              "      <td>False</td>\n",
              "    </tr>\n",
              "    <tr>\n",
              "      <th>179</th>\n",
              "      <td>1</td>\n",
              "      <td>Aluminum Alloy C355.0</td>\n",
              "      <td>Cast (T6)</td>\n",
              "      <td>-0.971252</td>\n",
              "      <td>-1.367605</td>\n",
              "      <td>-0.454313</td>\n",
              "      <td>1.340054</td>\n",
              "      <td>False</td>\n",
              "    </tr>\n",
              "    <tr>\n",
              "      <th>180</th>\n",
              "      <td>1</td>\n",
              "      <td>Aluminum Alloy 356.0</td>\n",
              "      <td>Cast (T51)</td>\n",
              "      <td>-1.197055</td>\n",
              "      <td>-1.367605</td>\n",
              "      <td>-0.454313</td>\n",
              "      <td>1.340054</td>\n",
              "      <td>False</td>\n",
              "    </tr>\n",
              "    <tr>\n",
              "      <th>181</th>\n",
              "      <td>1</td>\n",
              "      <td>Aluminum Alloy 356.0</td>\n",
              "      <td>Cast (T6)</td>\n",
              "      <td>-1.075274</td>\n",
              "      <td>-1.367605</td>\n",
              "      <td>-0.454313</td>\n",
              "      <td>1.340054</td>\n",
              "      <td>False</td>\n",
              "    </tr>\n",
              "    <tr>\n",
              "      <th>182</th>\n",
              "      <td>1</td>\n",
              "      <td>Aluminum Alloy 356.0</td>\n",
              "      <td>Cast (T7)</td>\n",
              "      <td>-1.057514</td>\n",
              "      <td>-1.367605</td>\n",
              "      <td>-0.454313</td>\n",
              "      <td>1.340054</td>\n",
              "      <td>False</td>\n",
              "    </tr>\n",
              "    <tr>\n",
              "      <th>183</th>\n",
              "      <td>1</td>\n",
              "      <td>Aluminum Alloy 356.0</td>\n",
              "      <td>Cast (T71)</td>\n",
              "      <td>-1.164072</td>\n",
              "      <td>-1.367605</td>\n",
              "      <td>-0.454313</td>\n",
              "      <td>1.340054</td>\n",
              "      <td>False</td>\n",
              "    </tr>\n",
              "    <tr>\n",
              "      <th>184</th>\n",
              "      <td>1</td>\n",
              "      <td>Aluminum Alloy A356.0</td>\n",
              "      <td>Cast (T6)</td>\n",
              "      <td>-1.006772</td>\n",
              "      <td>-1.367605</td>\n",
              "      <td>-0.454313</td>\n",
              "      <td>1.340054</td>\n",
              "      <td>False</td>\n",
              "    </tr>\n",
              "    <tr>\n",
              "      <th>185</th>\n",
              "      <td>1</td>\n",
              "      <td>Aluminum Alloy 443.0</td>\n",
              "      <td>Cast (F)</td>\n",
              "      <td>-1.303613</td>\n",
              "      <td>-1.367605</td>\n",
              "      <td>-0.454313</td>\n",
              "      <td>1.340054</td>\n",
              "      <td>False</td>\n",
              "    </tr>\n",
              "    <tr>\n",
              "      <th>186</th>\n",
              "      <td>1</td>\n",
              "      <td>Aluminum Alloy B443.0</td>\n",
              "      <td>Cast (F)</td>\n",
              "      <td>-1.303613</td>\n",
              "      <td>-1.367605</td>\n",
              "      <td>-0.454313</td>\n",
              "      <td>1.340054</td>\n",
              "      <td>False</td>\n",
              "    </tr>\n",
              "    <tr>\n",
              "      <th>187</th>\n",
              "      <td>1</td>\n",
              "      <td>Aluminum Alloy 512.0</td>\n",
              "      <td>Cast (F)</td>\n",
              "      <td>-1.303613</td>\n",
              "      <td>-1.367605</td>\n",
              "      <td>-0.454313</td>\n",
              "      <td>1.340054</td>\n",
              "      <td>False</td>\n",
              "    </tr>\n",
              "    <tr>\n",
              "      <th>188</th>\n",
              "      <td>1</td>\n",
              "      <td>Aluminum Alloy 514.0</td>\n",
              "      <td>Cast (F)</td>\n",
              "      <td>-1.214814</td>\n",
              "      <td>-1.367605</td>\n",
              "      <td>-0.454313</td>\n",
              "      <td>1.340054</td>\n",
              "      <td>False</td>\n",
              "    </tr>\n",
              "    <tr>\n",
              "      <th>189</th>\n",
              "      <td>1</td>\n",
              "      <td>Aluminum Alloy 520.0</td>\n",
              "      <td>Cast (T4)</td>\n",
              "      <td>-0.864694</td>\n",
              "      <td>-1.367605</td>\n",
              "      <td>-0.454313</td>\n",
              "      <td>1.340054</td>\n",
              "      <td>False</td>\n",
              "    </tr>\n",
              "    <tr>\n",
              "      <th>190</th>\n",
              "      <td>1</td>\n",
              "      <td>Aluminum Alloy 535.0</td>\n",
              "      <td>Cast (F or T5)</td>\n",
              "      <td>-0.989012</td>\n",
              "      <td>-1.367605</td>\n",
              "      <td>-0.454313</td>\n",
              "      <td>1.340054</td>\n",
              "      <td>False</td>\n",
              "    </tr>\n",
              "    <tr>\n",
              "      <th>191</th>\n",
              "      <td>1</td>\n",
              "      <td>Aluminum Alloy 705.0</td>\n",
              "      <td>Cast (F or T5)</td>\n",
              "      <td>-1.075274</td>\n",
              "      <td>-1.367605</td>\n",
              "      <td>-0.454313</td>\n",
              "      <td>1.340054</td>\n",
              "      <td>False</td>\n",
              "    </tr>\n",
              "    <tr>\n",
              "      <th>192</th>\n",
              "      <td>1</td>\n",
              "      <td>Aluminum Alloy 707.0</td>\n",
              "      <td>Cast (T5)</td>\n",
              "      <td>-1.021994</td>\n",
              "      <td>-1.367605</td>\n",
              "      <td>-0.454313</td>\n",
              "      <td>1.340054</td>\n",
              "      <td>False</td>\n",
              "    </tr>\n",
              "    <tr>\n",
              "      <th>193</th>\n",
              "      <td>1</td>\n",
              "      <td>Aluminum Alloy 707.0</td>\n",
              "      <td>Cast (T7)</td>\n",
              "      <td>-0.953493</td>\n",
              "      <td>-1.367605</td>\n",
              "      <td>-0.454313</td>\n",
              "      <td>1.340054</td>\n",
              "      <td>False</td>\n",
              "    </tr>\n",
              "    <tr>\n",
              "      <th>194</th>\n",
              "      <td>1</td>\n",
              "      <td>Aluminum Alloy 710.0</td>\n",
              "      <td>Cast (F or T5)</td>\n",
              "      <td>-1.039754</td>\n",
              "      <td>-1.367605</td>\n",
              "      <td>-0.454313</td>\n",
              "      <td>1.340054</td>\n",
              "      <td>False</td>\n",
              "    </tr>\n",
              "    <tr>\n",
              "      <th>195</th>\n",
              "      <td>1</td>\n",
              "      <td>Aluminum Alloy 712.0</td>\n",
              "      <td>Cast (F or T5)</td>\n",
              "      <td>-1.006772</td>\n",
              "      <td>-1.367605</td>\n",
              "      <td>-0.454313</td>\n",
              "      <td>1.340054</td>\n",
              "      <td>False</td>\n",
              "    </tr>\n",
              "    <tr>\n",
              "      <th>196</th>\n",
              "      <td>1</td>\n",
              "      <td>Aluminum Alloy 713.0</td>\n",
              "      <td>Cast (F or T5)</td>\n",
              "      <td>-1.039754</td>\n",
              "      <td>-1.367605</td>\n",
              "      <td>-0.454313</td>\n",
              "      <td>1.340054</td>\n",
              "      <td>False</td>\n",
              "    </tr>\n",
              "    <tr>\n",
              "      <th>197</th>\n",
              "      <td>1</td>\n",
              "      <td>Aluminum Alloy 771.0</td>\n",
              "      <td>Cast (T5)</td>\n",
              "      <td>-0.864694</td>\n",
              "      <td>-1.367605</td>\n",
              "      <td>-0.454313</td>\n",
              "      <td>1.340054</td>\n",
              "      <td>False</td>\n",
              "    </tr>\n",
              "    <tr>\n",
              "      <th>198</th>\n",
              "      <td>1</td>\n",
              "      <td>Aluminum Alloy 771.0</td>\n",
              "      <td>Cast (T51)</td>\n",
              "      <td>-1.039754</td>\n",
              "      <td>-1.367605</td>\n",
              "      <td>-0.454313</td>\n",
              "      <td>1.340054</td>\n",
              "      <td>False</td>\n",
              "    </tr>\n",
              "    <tr>\n",
              "      <th>201</th>\n",
              "      <td>1</td>\n",
              "      <td>Aluminum Alloy 771.0</td>\n",
              "      <td>Cast (T6)</td>\n",
              "      <td>-0.864694</td>\n",
              "      <td>-1.367605</td>\n",
              "      <td>-0.454313</td>\n",
              "      <td>1.340054</td>\n",
              "      <td>False</td>\n",
              "    </tr>\n",
              "    <tr>\n",
              "      <th>202</th>\n",
              "      <td>1</td>\n",
              "      <td>Aluminum Alloy 771.0</td>\n",
              "      <td>Cast (T71)</td>\n",
              "      <td>-0.760673</td>\n",
              "      <td>-1.367605</td>\n",
              "      <td>-0.454313</td>\n",
              "      <td>1.340054</td>\n",
              "      <td>False</td>\n",
              "    </tr>\n",
              "    <tr>\n",
              "      <th>203</th>\n",
              "      <td>1</td>\n",
              "      <td>Aluminum Alloy 852.0</td>\n",
              "      <td>Cast (T5)</td>\n",
              "      <td>-1.181832</td>\n",
              "      <td>-1.367605</td>\n",
              "      <td>-0.454313</td>\n",
              "      <td>1.340054</td>\n",
              "      <td>False</td>\n",
              "    </tr>\n",
              "  </tbody>\n",
              "</table>\n",
              "</div>\n",
              "    <div class=\"colab-df-buttons\">\n",
              "\n",
              "  <div class=\"colab-df-container\">\n",
              "    <button class=\"colab-df-convert\" onclick=\"convertToInteractive('df-124465f9-0e46-4f1f-8c59-7334dc865848')\"\n",
              "            title=\"Convert this dataframe to an interactive table.\"\n",
              "            style=\"display:none;\">\n",
              "\n",
              "  <svg xmlns=\"http://www.w3.org/2000/svg\" height=\"24px\" viewBox=\"0 -960 960 960\">\n",
              "    <path d=\"M120-120v-720h720v720H120Zm60-500h600v-160H180v160Zm220 220h160v-160H400v160Zm0 220h160v-160H400v160ZM180-400h160v-160H180v160Zm440 0h160v-160H620v160ZM180-180h160v-160H180v160Zm440 0h160v-160H620v160Z\"/>\n",
              "  </svg>\n",
              "    </button>\n",
              "\n",
              "  <style>\n",
              "    .colab-df-container {\n",
              "      display:flex;\n",
              "      gap: 12px;\n",
              "    }\n",
              "\n",
              "    .colab-df-convert {\n",
              "      background-color: #E8F0FE;\n",
              "      border: none;\n",
              "      border-radius: 50%;\n",
              "      cursor: pointer;\n",
              "      display: none;\n",
              "      fill: #1967D2;\n",
              "      height: 32px;\n",
              "      padding: 0 0 0 0;\n",
              "      width: 32px;\n",
              "    }\n",
              "\n",
              "    .colab-df-convert:hover {\n",
              "      background-color: #E2EBFA;\n",
              "      box-shadow: 0px 1px 2px rgba(60, 64, 67, 0.3), 0px 1px 3px 1px rgba(60, 64, 67, 0.15);\n",
              "      fill: #174EA6;\n",
              "    }\n",
              "\n",
              "    .colab-df-buttons div {\n",
              "      margin-bottom: 4px;\n",
              "    }\n",
              "\n",
              "    [theme=dark] .colab-df-convert {\n",
              "      background-color: #3B4455;\n",
              "      fill: #D2E3FC;\n",
              "    }\n",
              "\n",
              "    [theme=dark] .colab-df-convert:hover {\n",
              "      background-color: #434B5C;\n",
              "      box-shadow: 0px 1px 3px 1px rgba(0, 0, 0, 0.15);\n",
              "      filter: drop-shadow(0px 1px 2px rgba(0, 0, 0, 0.3));\n",
              "      fill: #FFFFFF;\n",
              "    }\n",
              "  </style>\n",
              "\n",
              "    <script>\n",
              "      const buttonEl =\n",
              "        document.querySelector('#df-124465f9-0e46-4f1f-8c59-7334dc865848 button.colab-df-convert');\n",
              "      buttonEl.style.display =\n",
              "        google.colab.kernel.accessAllowed ? 'block' : 'none';\n",
              "\n",
              "      async function convertToInteractive(key) {\n",
              "        const element = document.querySelector('#df-124465f9-0e46-4f1f-8c59-7334dc865848');\n",
              "        const dataTable =\n",
              "          await google.colab.kernel.invokeFunction('convertToInteractive',\n",
              "                                                    [key], {});\n",
              "        if (!dataTable) return;\n",
              "\n",
              "        const docLinkHtml = 'Like what you see? Visit the ' +\n",
              "          '<a target=\"_blank\" href=https://colab.research.google.com/notebooks/data_table.ipynb>data table notebook</a>'\n",
              "          + ' to learn more about interactive tables.';\n",
              "        element.innerHTML = '';\n",
              "        dataTable['output_type'] = 'display_data';\n",
              "        await google.colab.output.renderOutput(dataTable, element);\n",
              "        const docLink = document.createElement('div');\n",
              "        docLink.innerHTML = docLinkHtml;\n",
              "        element.appendChild(docLink);\n",
              "      }\n",
              "    </script>\n",
              "  </div>\n",
              "\n",
              "\n",
              "<div id=\"df-a9806d02-87b8-46a1-a0bf-42c195939710\">\n",
              "  <button class=\"colab-df-quickchart\" onclick=\"quickchart('df-a9806d02-87b8-46a1-a0bf-42c195939710')\"\n",
              "            title=\"Suggest charts\"\n",
              "            style=\"display:none;\">\n",
              "\n",
              "<svg xmlns=\"http://www.w3.org/2000/svg\" height=\"24px\"viewBox=\"0 0 24 24\"\n",
              "     width=\"24px\">\n",
              "    <g>\n",
              "        <path d=\"M19 3H5c-1.1 0-2 .9-2 2v14c0 1.1.9 2 2 2h14c1.1 0 2-.9 2-2V5c0-1.1-.9-2-2-2zM9 17H7v-7h2v7zm4 0h-2V7h2v10zm4 0h-2v-4h2v4z\"/>\n",
              "    </g>\n",
              "</svg>\n",
              "  </button>\n",
              "\n",
              "<style>\n",
              "  .colab-df-quickchart {\n",
              "      --bg-color: #E8F0FE;\n",
              "      --fill-color: #1967D2;\n",
              "      --hover-bg-color: #E2EBFA;\n",
              "      --hover-fill-color: #174EA6;\n",
              "      --disabled-fill-color: #AAA;\n",
              "      --disabled-bg-color: #DDD;\n",
              "  }\n",
              "\n",
              "  [theme=dark] .colab-df-quickchart {\n",
              "      --bg-color: #3B4455;\n",
              "      --fill-color: #D2E3FC;\n",
              "      --hover-bg-color: #434B5C;\n",
              "      --hover-fill-color: #FFFFFF;\n",
              "      --disabled-bg-color: #3B4455;\n",
              "      --disabled-fill-color: #666;\n",
              "  }\n",
              "\n",
              "  .colab-df-quickchart {\n",
              "    background-color: var(--bg-color);\n",
              "    border: none;\n",
              "    border-radius: 50%;\n",
              "    cursor: pointer;\n",
              "    display: none;\n",
              "    fill: var(--fill-color);\n",
              "    height: 32px;\n",
              "    padding: 0;\n",
              "    width: 32px;\n",
              "  }\n",
              "\n",
              "  .colab-df-quickchart:hover {\n",
              "    background-color: var(--hover-bg-color);\n",
              "    box-shadow: 0 1px 2px rgba(60, 64, 67, 0.3), 0 1px 3px 1px rgba(60, 64, 67, 0.15);\n",
              "    fill: var(--button-hover-fill-color);\n",
              "  }\n",
              "\n",
              "  .colab-df-quickchart-complete:disabled,\n",
              "  .colab-df-quickchart-complete:disabled:hover {\n",
              "    background-color: var(--disabled-bg-color);\n",
              "    fill: var(--disabled-fill-color);\n",
              "    box-shadow: none;\n",
              "  }\n",
              "\n",
              "  .colab-df-spinner {\n",
              "    border: 2px solid var(--fill-color);\n",
              "    border-color: transparent;\n",
              "    border-bottom-color: var(--fill-color);\n",
              "    animation:\n",
              "      spin 1s steps(1) infinite;\n",
              "  }\n",
              "\n",
              "  @keyframes spin {\n",
              "    0% {\n",
              "      border-color: transparent;\n",
              "      border-bottom-color: var(--fill-color);\n",
              "      border-left-color: var(--fill-color);\n",
              "    }\n",
              "    20% {\n",
              "      border-color: transparent;\n",
              "      border-left-color: var(--fill-color);\n",
              "      border-top-color: var(--fill-color);\n",
              "    }\n",
              "    30% {\n",
              "      border-color: transparent;\n",
              "      border-left-color: var(--fill-color);\n",
              "      border-top-color: var(--fill-color);\n",
              "      border-right-color: var(--fill-color);\n",
              "    }\n",
              "    40% {\n",
              "      border-color: transparent;\n",
              "      border-right-color: var(--fill-color);\n",
              "      border-top-color: var(--fill-color);\n",
              "    }\n",
              "    60% {\n",
              "      border-color: transparent;\n",
              "      border-right-color: var(--fill-color);\n",
              "    }\n",
              "    80% {\n",
              "      border-color: transparent;\n",
              "      border-right-color: var(--fill-color);\n",
              "      border-bottom-color: var(--fill-color);\n",
              "    }\n",
              "    90% {\n",
              "      border-color: transparent;\n",
              "      border-bottom-color: var(--fill-color);\n",
              "    }\n",
              "  }\n",
              "</style>\n",
              "\n",
              "  <script>\n",
              "    async function quickchart(key) {\n",
              "      const quickchartButtonEl =\n",
              "        document.querySelector('#' + key + ' button');\n",
              "      quickchartButtonEl.disabled = true;  // To prevent multiple clicks.\n",
              "      quickchartButtonEl.classList.add('colab-df-spinner');\n",
              "      try {\n",
              "        const charts = await google.colab.kernel.invokeFunction(\n",
              "            'suggestCharts', [key], {});\n",
              "      } catch (error) {\n",
              "        console.error('Error during call to suggestCharts:', error);\n",
              "      }\n",
              "      quickchartButtonEl.classList.remove('colab-df-spinner');\n",
              "      quickchartButtonEl.classList.add('colab-df-quickchart-complete');\n",
              "    }\n",
              "    (() => {\n",
              "      let quickchartButtonEl =\n",
              "        document.querySelector('#df-a9806d02-87b8-46a1-a0bf-42c195939710 button');\n",
              "      quickchartButtonEl.style.display =\n",
              "        google.colab.kernel.accessAllowed ? 'block' : 'none';\n",
              "    })();\n",
              "  </script>\n",
              "</div>\n",
              "\n",
              "  <div id=\"id_b2ba6685-3939-4ef6-80cb-0fda7d947082\">\n",
              "    <style>\n",
              "      .colab-df-generate {\n",
              "        background-color: #E8F0FE;\n",
              "        border: none;\n",
              "        border-radius: 50%;\n",
              "        cursor: pointer;\n",
              "        display: none;\n",
              "        fill: #1967D2;\n",
              "        height: 32px;\n",
              "        padding: 0 0 0 0;\n",
              "        width: 32px;\n",
              "      }\n",
              "\n",
              "      .colab-df-generate:hover {\n",
              "        background-color: #E2EBFA;\n",
              "        box-shadow: 0px 1px 2px rgba(60, 64, 67, 0.3), 0px 1px 3px 1px rgba(60, 64, 67, 0.15);\n",
              "        fill: #174EA6;\n",
              "      }\n",
              "\n",
              "      [theme=dark] .colab-df-generate {\n",
              "        background-color: #3B4455;\n",
              "        fill: #D2E3FC;\n",
              "      }\n",
              "\n",
              "      [theme=dark] .colab-df-generate:hover {\n",
              "        background-color: #434B5C;\n",
              "        box-shadow: 0px 1px 3px 1px rgba(0, 0, 0, 0.15);\n",
              "        filter: drop-shadow(0px 1px 2px rgba(0, 0, 0, 0.3));\n",
              "        fill: #FFFFFF;\n",
              "      }\n",
              "    </style>\n",
              "    <button class=\"colab-df-generate\" onclick=\"generateWithVariable('cast_rows')\"\n",
              "            title=\"Generate code using this dataframe.\"\n",
              "            style=\"display:none;\">\n",
              "\n",
              "  <svg xmlns=\"http://www.w3.org/2000/svg\" height=\"24px\"viewBox=\"0 0 24 24\"\n",
              "       width=\"24px\">\n",
              "    <path d=\"M7,19H8.4L18.45,9,17,7.55,7,17.6ZM5,21V16.75L18.45,3.32a2,2,0,0,1,2.83,0l1.4,1.43a1.91,1.91,0,0,1,.58,1.4,1.91,1.91,0,0,1-.58,1.4L9.25,21ZM18.45,9,17,7.55Zm-12,3A5.31,5.31,0,0,0,4.9,8.1,5.31,5.31,0,0,0,1,6.5,5.31,5.31,0,0,0,4.9,4.9,5.31,5.31,0,0,0,6.5,1,5.31,5.31,0,0,0,8.1,4.9,5.31,5.31,0,0,0,12,6.5,5.46,5.46,0,0,0,6.5,12Z\"/>\n",
              "  </svg>\n",
              "    </button>\n",
              "    <script>\n",
              "      (() => {\n",
              "      const buttonEl =\n",
              "        document.querySelector('#id_b2ba6685-3939-4ef6-80cb-0fda7d947082 button.colab-df-generate');\n",
              "      buttonEl.style.display =\n",
              "        google.colab.kernel.accessAllowed ? 'block' : 'none';\n",
              "\n",
              "      buttonEl.onclick = () => {\n",
              "        google.colab.notebook.generateWithVariable('cast_rows');\n",
              "      }\n",
              "      })();\n",
              "    </script>\n",
              "  </div>\n",
              "\n",
              "    </div>\n",
              "  </div>\n"
            ],
            "application/vnd.google.colaboratory.intrinsic+json": {
              "type": "dataframe",
              "variable_name": "cast_rows",
              "summary": "{\n  \"name\": \"cast_rows\",\n  \"rows\": 36,\n  \"fields\": [\n    {\n      \"column\": \"Std\",\n      \"properties\": {\n        \"dtype\": \"number\",\n        \"std\": 0,\n        \"min\": 1,\n        \"max\": 1,\n        \"num_unique_values\": 1,\n        \"samples\": [\n          1\n        ],\n        \"semantic_type\": \"\",\n        \"description\": \"\"\n      }\n    },\n    {\n      \"column\": \"Material\",\n      \"properties\": {\n        \"dtype\": \"string\",\n        \"num_unique_values\": 23,\n        \"samples\": [\n          \"Aluminum Alloy 535.0\"\n        ],\n        \"semantic_type\": \"\",\n        \"description\": \"\"\n      }\n    },\n    {\n      \"column\": \"Heat treatment\",\n      \"properties\": {\n        \"dtype\": \"category\",\n        \"num_unique_values\": 8,\n        \"samples\": [\n          \"Cast (T4)\"\n        ],\n        \"semantic_type\": \"\",\n        \"description\": \"\"\n      }\n    },\n    {\n      \"column\": \"Su\",\n      \"properties\": {\n        \"dtype\": \"number\",\n        \"std\": 0.15959589243977979,\n        \"min\": -1.3036129508703709,\n        \"max\": -0.5500929482990027,\n        \"num_unique_values\": 19,\n        \"samples\": [\n          -0.5500929482990027\n        ],\n        \"semantic_type\": \"\",\n        \"description\": \"\"\n      }\n    },\n    {\n      \"column\": \"E\",\n      \"properties\": {\n        \"dtype\": \"number\",\n        \"std\": 0.0,\n        \"min\": -1.3676050504345831,\n        \"max\": -1.3676050504345831,\n        \"num_unique_values\": 1,\n        \"samples\": [\n          -1.3676050504345831\n        ],\n        \"semantic_type\": \"\",\n        \"description\": \"\"\n      }\n    },\n    {\n      \"column\": \"G\",\n      \"properties\": {\n        \"dtype\": \"number\",\n        \"std\": 1.1259716555514165e-16,\n        \"min\": -0.4543134880897749,\n        \"max\": -0.4543134880897749,\n        \"num_unique_values\": 1,\n        \"samples\": [\n          -0.4543134880897749\n        ],\n        \"semantic_type\": \"\",\n        \"description\": \"\"\n      }\n    },\n    {\n      \"column\": \"mu\",\n      \"properties\": {\n        \"dtype\": \"number\",\n        \"std\": 0.0,\n        \"min\": 1.3400540044606755,\n        \"max\": 1.3400540044606755,\n        \"num_unique_values\": 1,\n        \"samples\": [\n          1.3400540044606755\n        ],\n        \"semantic_type\": \"\",\n        \"description\": \"\"\n      }\n    },\n    {\n      \"column\": \"use\",\n      \"properties\": {\n        \"dtype\": \"boolean\",\n        \"num_unique_values\": 1,\n        \"samples\": [\n          false\n        ],\n        \"semantic_type\": \"\",\n        \"description\": \"\"\n      }\n    }\n  ]\n}"
            }
          },
          "metadata": {},
          "execution_count": 391
        }
      ]
    },
    {
      "cell_type": "code",
      "source": [
        "data['Heat treatment'].unique()"
      ],
      "metadata": {
        "colab": {
          "base_uri": "https://localhost:8080/"
        },
        "id": "Sff6T-oqKj_m",
        "outputId": "36a0aabd-e8cc-4adc-de88-f982dd49c387"
      },
      "execution_count": 392,
      "outputs": [
        {
          "output_type": "execute_result",
          "data": {
            "text/plain": [
              "array(['as-rolled', 'normalized', 'annealed', 'tempered at 400 F',\n",
              "       'tempered at 600 F', '1/4-hard', 'As extruded', 'Cast (T7)',\n",
              "       'Cast (T4)', 'Cast (F)', 'Cast (T6)', 'Cast (T51)', 'Cast (T71)',\n",
              "       'Cast (F or T5)', 'Cast (T5)', 'Wrought', 'sand casting',\n",
              "       'pressure die casting', 'heat treated', 'case-hardened',\n",
              "       'face hardened', 'nitrided', 'Cold working',\n",
              "       'Annealing or high tempering', 'Improved', 'Quenched and tempered',\n",
              "       'Quenching and cooling in the water',\n",
              "       'Quenching and cooling in the oil', 'Quenching and heating',\n",
              "       'Case hardening,quenching and cooling in the oil'], dtype=object)"
            ]
          },
          "metadata": {},
          "execution_count": 392
        }
      ]
    },
    {
      "cell_type": "code",
      "source": [
        "data['Heat treatment']=data['Heat treatment'].map({'as-rolled':1, 'normalized':2, 'annealed':3, 'tempered at 400 F':4,\n",
        "       'tempered at 600 F':5, '1/4-hard':6, 'As extruded':7, 'Cast (T7)':8,\n",
        "       'Cast (T4)':9, 'Cast (F)':10, 'Cast (T6)':11, 'Cast (T51)':12, 'Cast (T71)':13,\n",
        "       'Cast (F or T5)':14, 'Cast (T5)':15, 'Wrought':16, 'sand casting':17,\n",
        "       'pressure die casting':18, 'heat treated':19, 'case-hardened':20,\n",
        "       'face hardened':21, 'nitrided':22, 'Cold working':23,\n",
        "       'Annealing or high tempering':24, 'Improved':25, 'Quenched and tempered':26,\n",
        "       'Quenching and cooling in the water':27,\n",
        "       'Quenching and cooling in the oil':28, 'Quenching and heating':29,\n",
        "       'Case hardening,quenching and cooling in the oil':30})"
      ],
      "metadata": {
        "id": "TnUEFaVTKNxr"
      },
      "execution_count": 393,
      "outputs": []
    },
    {
      "cell_type": "code",
      "source": [
        "data['Heat treatment'].unique()"
      ],
      "metadata": {
        "colab": {
          "base_uri": "https://localhost:8080/"
        },
        "id": "69Va4Vx0LNzu",
        "outputId": "dbe90872-f19f-4a55-b0c8-1857330fdbe0"
      },
      "execution_count": 394,
      "outputs": [
        {
          "output_type": "execute_result",
          "data": {
            "text/plain": [
              "array([ 1,  2,  3,  4,  5,  6,  7,  8,  9, 10, 11, 12, 13, 14, 15, 16, 17,\n",
              "       18, 19, 20, 21, 22, 23, 24, 25, 26, 27, 28, 29, 30])"
            ]
          },
          "metadata": {},
          "execution_count": 394
        }
      ]
    },
    {
      "cell_type": "code",
      "source": [
        "cate_cols.columns"
      ],
      "metadata": {
        "colab": {
          "base_uri": "https://localhost:8080/"
        },
        "id": "L18UtT4GM8W6",
        "outputId": "b76180e1-20c5-40b4-c504-caf9fd031d35"
      },
      "execution_count": 395,
      "outputs": [
        {
          "output_type": "execute_result",
          "data": {
            "text/plain": [
              "Index(['Std', 'Material', 'Heat treatment'], dtype='object')"
            ]
          },
          "metadata": {},
          "execution_count": 395
        }
      ]
    },
    {
      "cell_type": "code",
      "source": [
        "data[['cate', 'subcate']] = data['Material'].str.split(n=1, expand=True)"
      ],
      "metadata": {
        "id": "bwQQLAk0Mz7g"
      },
      "execution_count": 396,
      "outputs": []
    },
    {
      "cell_type": "code",
      "source": [
        "data['cate'].unique()"
      ],
      "metadata": {
        "colab": {
          "base_uri": "https://localhost:8080/"
        },
        "id": "OEWg5PRANBkO",
        "outputId": "369c550d-21a7-410e-84d8-87c8b8123deb"
      },
      "execution_count": 397,
      "outputs": [
        {
          "output_type": "execute_result",
          "data": {
            "text/plain": [
              "array(['Steel', 'Architectural', 'Copper', 'Aluminum', 'Magnesium', 'EN',\n",
              "       'DIN', 'BS', 'CSN', 'NF', 'JIS'], dtype=object)"
            ]
          },
          "metadata": {},
          "execution_count": 397
        }
      ]
    },
    {
      "cell_type": "code",
      "source": [
        "data['cate']=data['cate'].map({'Steel':1, 'Architectural':2, 'Copper':3, 'Aluminum':4, 'Magnesium':5, 'EN':6,\n",
        "       'DIN':7, 'BS':8, 'CSN':9, 'NF':10, 'JIS':11})"
      ],
      "metadata": {
        "id": "ybp1_nylNPEk"
      },
      "execution_count": 398,
      "outputs": []
    },
    {
      "cell_type": "code",
      "source": [
        "data['subcate'].nunique()"
      ],
      "metadata": {
        "colab": {
          "base_uri": "https://localhost:8080/"
        },
        "id": "8EbjN8pEPrfP",
        "outputId": "ba7cd9e0-7f3b-4741-fabc-2e8d9ed986f3"
      },
      "execution_count": 399,
      "outputs": [
        {
          "output_type": "execute_result",
          "data": {
            "text/plain": [
              "537"
            ]
          },
          "metadata": {},
          "execution_count": 399
        }
      ]
    },
    {
      "cell_type": "code",
      "source": [
        "data.shape"
      ],
      "metadata": {
        "colab": {
          "base_uri": "https://localhost:8080/"
        },
        "id": "m6zFEoe1P0do",
        "outputId": "34046d67-8ef9-48e3-9469-33cb081792c7"
      },
      "execution_count": 400,
      "outputs": [
        {
          "output_type": "execute_result",
          "data": {
            "text/plain": [
              "(782, 10)"
            ]
          },
          "metadata": {},
          "execution_count": 400
        }
      ]
    },
    {
      "cell_type": "code",
      "source": [
        "data['subcate'].value_counts()"
      ],
      "metadata": {
        "colab": {
          "base_uri": "https://localhost:8080/"
        },
        "id": "zBu2ldpcP75M",
        "outputId": "5b83c67f-1e86-4fab-b2a4-d7f42b08fb5b"
      },
      "execution_count": 401,
      "outputs": [
        {
          "output_type": "execute_result",
          "data": {
            "text/plain": [
              "subcate\n",
              "45 GOST 1050-88    9\n",
              "55 GOST 1577-93    6\n",
              "45 GOST 1577-93    6\n",
              "40 GOST 1577-93    6\n",
              "35 GOST 1577-93    6\n",
              "                  ..\n",
              "Alloy 5086-H32     1\n",
              "Alloy 5086-O       1\n",
              "Alloy 5083-H321    1\n",
              "Alloy 5083-H116    1\n",
              "SUP9               1\n",
              "Name: count, Length: 537, dtype: int64"
            ]
          },
          "metadata": {},
          "execution_count": 401
        }
      ]
    },
    {
      "cell_type": "code",
      "source": [
        "data['subcate'].unique()"
      ],
      "metadata": {
        "colab": {
          "base_uri": "https://localhost:8080/"
        },
        "id": "RZvj1WojO8QD",
        "outputId": "2fe6e8be-248e-4d0c-a8d5-09ee897ba37c"
      },
      "execution_count": 402,
      "outputs": [
        {
          "output_type": "execute_result",
          "data": {
            "text/plain": [
              "array(['SAE 1015', 'SAE 1020', 'SAE 1022', 'SAE 1030', 'SAE 1040',\n",
              "       'SAE 1050', 'SAE 1060', 'SAE 1080', 'SAE 1095', 'SAE 1117',\n",
              "       'SAE 1118', 'SAE 1137', 'SAE 1141', 'SAE 1144', 'SAE 1340',\n",
              "       'SAE 3140', 'SAE 4037', 'SAE 4042', 'SAE 4130', 'SAE 4140',\n",
              "       'SAE 4150', 'SAE 4320', 'SAE 4340', 'SAE 4620', 'SAE 4820',\n",
              "       'SAE 5046', 'SAE 5130', 'SAE 5140', 'SAE 5150', 'SAE 5160',\n",
              "       'SAE 6150', 'SAE 8620', 'SAE 8630', 'SAE 8640', 'SAE 8650',\n",
              "       'SAE 8740', 'SAE 9255', 'SAE 9310', 'SAE 30201', 'SAE 30202',\n",
              "       'SAE 30301', 'SAE 30302', 'SAE 30302B', 'SAE 30303', 'SAE 30304',\n",
              "       'SAE 30304L', 'SAE 30305', 'SAE 30308', 'SAE 30309', 'SAE 30310',\n",
              "       'SAE 30314', 'SAE 30316', 'SAE 30316L', 'SAE 30317', 'SAE 30321',\n",
              "       'SAE 30347', 'SAE 30348', 'SAE 51403', 'SAE 51405', 'SAE 51410',\n",
              "       'SAE 51414', 'SAE 51416', 'SAE 51420', 'SAE 51430', 'SAE 51430F',\n",
              "       'SAE 51431', 'SAE 51440A', 'SAE 51440C', 'SAE 51446', 'SAE 51501',\n",
              "       'SAE 51502', 'bronze C38500', 'Alloy C62500', 'Alloy 201.0',\n",
              "       'Alloy 204.0', 'Alloy 208.0', 'Alloy 295.0', 'Alloy 319.0',\n",
              "       'Alloy 328.0', 'Alloy 355.0', 'Alloy C355.0', 'Alloy 356.0',\n",
              "       'Alloy A356.0', 'Alloy 443.0', 'Alloy B443.0', 'Alloy 512.0',\n",
              "       'Alloy 514.0', 'Alloy 520.0', 'Alloy 535.0', 'Alloy 705.0',\n",
              "       'Alloy 707.0', 'Alloy 710.0', 'Alloy 712.0', 'Alloy 713.0',\n",
              "       'Alloy 771.0', 'Alloy 852.0', 'Alloy 1060-O', 'Alloy 1060-H12',\n",
              "       'Alloy 1060-H14', 'Alloy 1060-H16', 'Alloy 1060-H18',\n",
              "       'Alloy 1100-O', 'Alloy 1100-H12', 'Alloy 1100-H14',\n",
              "       'Alloy 1100-H16', 'Alloy 1100-H18', 'Alloy 1350-O',\n",
              "       'Alloy 1350-H12', 'Alloy 1350-H14', 'Alloy 1350-H16',\n",
              "       'Alloy 1350-H19', 'Alloy 2011-T3', 'Alloy 2011-T8', 'Alloy 2014-O',\n",
              "       'Alloy 2014-T4', 'Alloy 2014-T451', 'Alloy 2014-T6',\n",
              "       'Alloy 2014-T651', 'Alloy Alclad 2014-O', 'Alloy Alclad 2014-T3',\n",
              "       'Alloy Alclad 2014-T4', 'Alloy Alclad 2014-T451',\n",
              "       'Alloy Alclad 2014-T6', 'Alloy Alclad 2014-T651', 'Alloy 2017-O',\n",
              "       'Alloy 2017-T4', 'Alloy 2017-T451', 'Alloy 2018-T61',\n",
              "       'Alloy 2024-O', 'Alloy 2024-T3', 'Alloy 2024-T351',\n",
              "       'Alloy 2024-T4', 'Alloy 2024-T361', 'Alloy Alclad 2024-O',\n",
              "       'Alloy Alclad 2024-T3', 'Alloy Alclad 2024-T351',\n",
              "       'Alloy Alclad 2024-T4', 'Alloy Alclad 202024-T361',\n",
              "       'Alloy Alclad 2024-T81', 'Alloy Alclad 2024-T851',\n",
              "       'Alloy Alclad 2024-T861', 'Alloy 2025-T6', 'Alloy 2036-T4',\n",
              "       'Alloy 2117-T4', 'Alloy 2218-T72', 'Alloy 2219-O',\n",
              "       'Alloy 2219-T42', 'Alloy 2219-T31', 'Alloy 2219-T351',\n",
              "       'Alloy 2219-T37', 'Alloy 2219-T62', 'Alloy 2219-T81',\n",
              "       'Alloy 2219-T851', 'Alloy 2219-T87', 'Alloy 3003-O',\n",
              "       'Alloy 3003-H12', 'Alloy 3003-H14', 'Alloy 3003-H16',\n",
              "       'Alloy 3003-H18', 'Alloy Alclad 3003-O', 'Alloy Alclad 3003-H12',\n",
              "       'Alloy Alclad 3003-H14', 'Alloy Alclad 3003-H16',\n",
              "       'Alloy Alclad 3003-H18', 'Alloy 3004-O', 'Alloy 3004-H32',\n",
              "       'Alloy 3004-H34', 'Alloy 3004-H36', 'Alloy 3004-H38',\n",
              "       'Alloy Alclad 3004-O', 'Alloy Alclad 3004-H32',\n",
              "       'Alloy Alclad 3004-H34', 'Alloy Alclad 3004-H36',\n",
              "       'Alloy Alclad 3004-H38', 'Alloy 3105-O', 'Alloy 3105-H12',\n",
              "       'Alloy 3105-H14', 'Alloy 3105-H16', 'Alloy 3105-H18',\n",
              "       'Alloy 3105-H25', 'Alloy 4032-T6', 'Alloy 5005-O',\n",
              "       'Alloy 5005-H12', 'Alloy 5005-H14', 'Alloy 5005-H16',\n",
              "       'Alloy 5005-H18', 'Alloy 5005-H32', 'Alloy 5005-H34',\n",
              "       'Alloy 5005-H36', 'Alloy 5005-H38', 'Alloy 5050-O',\n",
              "       'Alloy 5050-H32', 'Alloy 5050-H34', 'Alloy 5050-H36',\n",
              "       'Alloy 5050-H38', 'Alloy 5052-O', 'Alloy 5052-H32',\n",
              "       'Alloy 5052-H34', 'Alloy 5052-H36', 'Alloy 5052-H38',\n",
              "       'Alloy 5056-O', 'Alloy 5056-H18', 'Alloy 5056-H38', 'Alloy 5083-O',\n",
              "       'Alloy 5083-H116', 'Alloy 5083-H321', 'Alloy 5086-O',\n",
              "       'Alloy 5086-H32', 'Alloy 5086-H34', 'Alloy 5086-H112',\n",
              "       'Alloy 5086-H116', 'Alloy 5154-O', 'Alloy 5154-H32',\n",
              "       'Alloy 5154-H34', 'Alloy 5154-H36', 'Alloy 5154-H38',\n",
              "       'Alloy 5154-H112', 'Alloy 5252-H25', 'Alloy 5252-H28',\n",
              "       'Alloy 5252-H38', 'Alloy 5254-O', 'Alloy 5254-H32',\n",
              "       'Alloy 5254-H34', 'Alloy 5254-H36', 'Alloy 5254-H38',\n",
              "       'Alloy 5254-H112', 'Alloy 5454-O', 'Alloy 5454-H32',\n",
              "       'Alloy 5454-H34', 'Alloy 5454-H111', 'Alloy 5454-H112',\n",
              "       'Alloy 5456-O', 'Alloy 5456-H112', 'Alloy 5456-H116',\n",
              "       'Alloy 5456-H321', 'Alloy 5457-O', 'Alloy 5457-H25',\n",
              "       'Alloy 5457-H28', 'Alloy 5457-H38', 'Alloy 5652-O',\n",
              "       'Alloy 5652-H32', 'Alloy 5652-H34', 'Alloy 5652-H36',\n",
              "       'Alloy 5652-H38', 'Alloy 5657-H25', 'Alloy 5657-H28',\n",
              "       'Alloy 5657-H38', 'Alloy 6061-O', 'Alloy 6061-T4',\n",
              "       'Alloy 6061-T451', 'Alloy 6061-T6', 'Alloy 6061-T651',\n",
              "       'Alloy Alclad 6061-O', 'Alloy Alclad 6061-T4',\n",
              "       'Alloy Alclad 6061-T451', 'Alloy Alclad 6061-T6',\n",
              "       'Alloy Alclad 6061-T651', 'Alloy 6063-O', 'Alloy 6063-T1',\n",
              "       'Alloy 6063-T4', 'Alloy 6063-T5', 'Alloy 6063-T6',\n",
              "       'Alloy 6063-T83', 'Alloy 6063-T831', 'Alloy 6063-T832',\n",
              "       'Alloy 6066-O', 'Alloy 6066-T4', 'Alloy 6066-T451',\n",
              "       'Alloy 6066-T6', 'Alloy 6066-T651', 'Alloy 6070-T6',\n",
              "       'Alloy 6101-H111', 'Alloy 6101-T6', 'Alloy 6262-T9',\n",
              "       'Alloy 6351-T4', 'Alloy 6351-T6', 'Alloy 6463-T1', 'Alloy 6463-T5',\n",
              "       'Alloy 6463-T6', 'Alloy 7049-T73', 'Alloy 7049-T7352',\n",
              "       'Alloy 7050-T73510', 'Alloy 7050-T7451f', 'Alloy 7050-T7651',\n",
              "       'Alloy 7075-O', 'Alloy 7075-T6', 'Alloy 7075-T651',\n",
              "       'Alloy Alclad 7075-O', 'Alloy Alclad 7075-T6',\n",
              "       'Alloy Alclad 7075-T651', 'Alloy 7178-O', 'Alloy 7178-T6',\n",
              "       'Alloy 7178-T651', 'Alloy 7178-T76', 'Alloy 7178-T7651',\n",
              "       'Alloy Alclad 7178-O', 'Alloy Alclad 7178-T6',\n",
              "       'Alloy Alclad 7178-T651', 'Alloy 8176-H24', 'Alloy AM100A-T61',\n",
              "       'Alloy AZ63A-T6', 'Alloy AZ81A-T4', 'Alloy AZ91C-T6',\n",
              "       'Alloy AZ91E-T6', 'Alloy AZ92A-T6', 'Alloy EZ33A-T5',\n",
              "       'Alloy HK31A-T6', 'Alloy HZ32A-T6', 'Alloy K1A-F',\n",
              "       'Alloy QE22A-T6', 'Alloy QH21A-T6', 'Alloy ZE41A-T5',\n",
              "       'Alloy ZE63A-T6', 'Alloy ZH62A-T5', 'Alloy ZK51A-T5',\n",
              "       'Alloy ZK61A-T6', 'Alloy WE54A-F', 'Alloy AZ91A-F',\n",
              "       'Alloy AZ91B-FAZ91B-F', 'Alloy AZ91D-F', 'Alloy AM60A-F',\n",
              "       'Alloy AM60B-F', 'Alloy AS41A-F', 'Alloy AZ10A-F', 'Alloy AZ31B-F',\n",
              "       'Alloy AZ31C-F', 'Alloy AZ61A-F', 'Alloy AZ80A-T5',\n",
              "       'Alloy HM31A-F', 'Alloy M1A-F', 'Alloy ZK40A-T5', 'Alloy ZK60A-F',\n",
              "       'C45', 'C50', 'C55', 'C60', '28Mn6', '34Cr4', '37Cr4', '41Cr4',\n",
              "       '16MnCr5', '20MnCr5', '25CrMo4', '34CrMo4', '42CrMo4', '51CrV4',\n",
              "       '16NiCr4', '34CrNiMo6', '30CrNiMo8', 'Ck10', 'Ck15', 'Ck40',\n",
              "       'Ck45', 'Ck50', 'Ck55', 'Ck60', '55Cr3', '54SiCr6', '30CrV9',\n",
              "       '42CrV6', '50CrV4', '251A58', '530M40', '525A60', '708M40',\n",
              "       '735A51', '905M39', '722M24', '817M40', '11110', '11140', '11523',\n",
              "       '11600', '11700', '12010', '12020', '12050', '12061', '12071',\n",
              "       '13180', '13220', '13221', '13251', '13270', '14140', '14220',\n",
              "       '14223', '14230', '14260', '14262', '15222', '15230', '15241',\n",
              "       '16220', '16420', '16430', '16640', '17020', '17021', '17022',\n",
              "       '17023', '17040', '17041', '17113', '17115', '17125', '17145',\n",
              "       '17150', '17240', '17241', '17243', '17246', '17247', '17248',\n",
              "       '17249', '17251', '17253', '17255', '17256', '17259', '17265',\n",
              "       '17346', '17348', '17359', '17460', '17465', '17501',\n",
              "       '08 GOST 1050-88', '10 GOST 1050-88', '15 GOST 1050-88',\n",
              "       '20 GOST 1050-88', '25 GOST 1050-88', '30 GOST 1050-88',\n",
              "       '35 GOST 1050-88', '40 GOST 1050-88', '45 GOST 1050-88',\n",
              "       '50 GOST 1050-88', '55 GOST 1050-88', '60 GOST 1050-88',\n",
              "       '20G GOST 1050-88', '30G GOST 1050-88', '40G GOST 1050-88',\n",
              "       '50G GOST 1050-88', '65G GOST 1050-88', '20Ch GOST 4543-71',\n",
              "       '40Ch GOST 4543-71', '45Ch GOST 4543-71', '50Ch GOST 4543-71',\n",
              "       '10G2 GOST 4543-71', '35G2 GOST 4543-71', '40G2 GOST 4543-71',\n",
              "       '45G2 GOST 4543-71', '33ChS GOST 4543-71', '38ChS GOST 4543-71',\n",
              "       '30ChM GOST 4543-71', '35ChM GOST 4543-71', '18ChG GOST 4543-71',\n",
              "       '18ChGT GOST 4543-71', '30ChGT GOST 4543-71',\n",
              "       '20ChGSA GOST 4543-71', '20ChGNR GOST 4543-71',\n",
              "       '40ChFA GOST 4543-71', '40ChN GOST 4543-71', '12ChN2 GOST 4543-71',\n",
              "       '12ChN3A GOST 4543-71', '20Ch2N4A GOST 4543-71',\n",
              "       '30ChGSA GOST 4543-71', '38Ch210 GOST 4543-71',\n",
              "       '38ChA GOST 4543-71', '20 GOST 1577-93', '25 GOST 1577-93',\n",
              "       '30 GOST 1577-93', '35 GOST 1577-93', '40 GOST 1577-93',\n",
              "       '45 GOST 1577-93', '50 GOST 1577-93', '55 GOST 1577-93',\n",
              "       '60 GOST 1577-93', '30Ch GOST 1577-93', '38ChA GOST 1577-93',\n",
              "       '40Ch GOST 1577-93', '15L GOST 977-88', '20L GOST 977-88',\n",
              "       '25L GOST 977-88', '30L GOST 977-88', '35L GOST 977-88',\n",
              "       '40L GOST 977-88', '45L GOST 977-88', '50L GOST 977-88',\n",
              "       '20GL GOST 977-88', '35GL GOST 977-88', '20GSL GOST 977-88',\n",
              "       '30GSL GOST 977-88', '20G1FL GOST 977-88', '20FL GOST 977-88',\n",
              "       '30ChGSFL GOST 977-88', '45FL GOST 977-88', '20ChML GOST 977-88',\n",
              "       '20ChMFL GOST 977-88', '20GNMFL GOST 977-88', '35ChML GOST 977-88',\n",
              "       '30ChNML GOST 977-88', '35ChGSL GOST 977-88', '20DChL GOST 977-88',\n",
              "       '08GDNFL GOST 977-88', '13ChNDFTL GOST 977-88',\n",
              "       '12DN2FL GOST 977-88', '32Ch06L GOST 977-88', '35NGML GOST 977-88',\n",
              "       '12DChN1MFL GOST 977-88', '23ChGS2MFL GOST 977-88',\n",
              "       '12Ch7G3SL GOST 977-88', '25Ch2GNMFL1 GOST 977-88',\n",
              "       '25Ch2GNMFL2 GOST 977-88', '27Ch5GSML GOST 977-88',\n",
              "       '30Ch3S3GML GOST 977-88', '03N12Ch5M3TL GOST 977-88',\n",
              "       '03N12Ch5M3TJuL GOST 977-88', '40ChL GOST 977-88',\n",
              "       '50ChFA GOST 14959-79', '55S2 GOST 14959-79',\n",
              "       '50ChGA GOST 14959-79', '50ChGFA GOST 14959-79', 'XC48H1', '51S7',\n",
              "       '16MC5', '20MC5', '55C3', '42CD4', '42CD4TS', '50CV4', '40CAD612',\n",
              "       '30CD12', '16NC6', '18NCD6', '30CND8', 'SUP9'], dtype=object)"
            ]
          },
          "metadata": {},
          "execution_count": 402
        }
      ]
    },
    {
      "cell_type": "code",
      "source": [
        "data['subcate'] = pd.factorize(data['subcate'])[0] + 1"
      ],
      "metadata": {
        "id": "tXDhPzpXQgzP"
      },
      "execution_count": 403,
      "outputs": []
    },
    {
      "cell_type": "code",
      "source": [
        "data['subcate'].unique()"
      ],
      "metadata": {
        "colab": {
          "base_uri": "https://localhost:8080/"
        },
        "id": "LKNH2Qj7Qkec",
        "outputId": "48bce2e9-a13d-4fe9-c7ef-c614da3468da"
      },
      "execution_count": 404,
      "outputs": [
        {
          "output_type": "execute_result",
          "data": {
            "text/plain": [
              "array([  1,   2,   3,   4,   5,   6,   7,   8,   9,  10,  11,  12,  13,\n",
              "        14,  15,  16,  17,  18,  19,  20,  21,  22,  23,  24,  25,  26,\n",
              "        27,  28,  29,  30,  31,  32,  33,  34,  35,  36,  37,  38,  39,\n",
              "        40,  41,  42,  43,  44,  45,  46,  47,  48,  49,  50,  51,  52,\n",
              "        53,  54,  55,  56,  57,  58,  59,  60,  61,  62,  63,  64,  65,\n",
              "        66,  67,  68,  69,  70,  71,  72,  73,  74,  75,  76,  77,  78,\n",
              "        79,  80,  81,  82,  83,  84,  85,  86,  87,  88,  89,  90,  91,\n",
              "        92,  93,  94,  95,  96,  97,  98,  99, 100, 101, 102, 103, 104,\n",
              "       105, 106, 107, 108, 109, 110, 111, 112, 113, 114, 115, 116, 117,\n",
              "       118, 119, 120, 121, 122, 123, 124, 125, 126, 127, 128, 129, 130,\n",
              "       131, 132, 133, 134, 135, 136, 137, 138, 139, 140, 141, 142, 143,\n",
              "       144, 145, 146, 147, 148, 149, 150, 151, 152, 153, 154, 155, 156,\n",
              "       157, 158, 159, 160, 161, 162, 163, 164, 165, 166, 167, 168, 169,\n",
              "       170, 171, 172, 173, 174, 175, 176, 177, 178, 179, 180, 181, 182,\n",
              "       183, 184, 185, 186, 187, 188, 189, 190, 191, 192, 193, 194, 195,\n",
              "       196, 197, 198, 199, 200, 201, 202, 203, 204, 205, 206, 207, 208,\n",
              "       209, 210, 211, 212, 213, 214, 215, 216, 217, 218, 219, 220, 221,\n",
              "       222, 223, 224, 225, 226, 227, 228, 229, 230, 231, 232, 233, 234,\n",
              "       235, 236, 237, 238, 239, 240, 241, 242, 243, 244, 245, 246, 247,\n",
              "       248, 249, 250, 251, 252, 253, 254, 255, 256, 257, 258, 259, 260,\n",
              "       261, 262, 263, 264, 265, 266, 267, 268, 269, 270, 271, 272, 273,\n",
              "       274, 275, 276, 277, 278, 279, 280, 281, 282, 283, 284, 285, 286,\n",
              "       287, 288, 289, 290, 291, 292, 293, 294, 295, 296, 297, 298, 299,\n",
              "       300, 301, 302, 303, 304, 305, 306, 307, 308, 309, 310, 311, 312,\n",
              "       313, 314, 315, 316, 317, 318, 319, 320, 321, 322, 323, 324, 325,\n",
              "       326, 327, 328, 329, 330, 331, 332, 333, 334, 335, 336, 337, 338,\n",
              "       339, 340, 341, 342, 343, 344, 345, 346, 347, 348, 349, 350, 351,\n",
              "       352, 353, 354, 355, 356, 357, 358, 359, 360, 361, 362, 363, 364,\n",
              "       365, 366, 367, 368, 369, 370, 371, 372, 373, 374, 375, 376, 377,\n",
              "       378, 379, 380, 381, 382, 383, 384, 385, 386, 387, 388, 389, 390,\n",
              "       391, 392, 393, 394, 395, 396, 397, 398, 399, 400, 401, 402, 403,\n",
              "       404, 405, 406, 407, 408, 409, 410, 411, 412, 413, 414, 415, 416,\n",
              "       417, 418, 419, 420, 421, 422, 423, 424, 425, 426, 427, 428, 429,\n",
              "       430, 431, 432, 433, 434, 435, 436, 437, 438, 439, 440, 441, 442,\n",
              "       443, 444, 445, 446, 447, 448, 449, 450, 451, 452, 453, 454, 455,\n",
              "       456, 457, 458, 459, 460, 461, 462, 463, 464, 465, 466, 467, 468,\n",
              "       469, 470, 471, 472, 473, 474, 475, 476, 477, 478, 479, 480, 481,\n",
              "       482, 483, 484, 485, 486, 487, 488, 489, 490, 491, 492, 493, 494,\n",
              "       495, 496, 497, 498, 499, 500, 501, 502, 503, 504, 505, 506, 507,\n",
              "       508, 509, 510, 511, 512, 513, 514, 515, 516, 517, 518, 519, 520,\n",
              "       521, 522, 523, 524, 525, 526, 527, 528, 529, 530, 531, 532, 533,\n",
              "       534, 535, 536, 537])"
            ]
          },
          "metadata": {},
          "execution_count": 404
        }
      ]
    },
    {
      "cell_type": "code",
      "source": [
        "data=data.drop(columns='Material',axis=1)"
      ],
      "metadata": {
        "id": "Q76ffTlUQw_t"
      },
      "execution_count": 405,
      "outputs": []
    },
    {
      "cell_type": "code",
      "source": [
        "mapping = {True: 1, False: 0}\n",
        "data['use'] = data['use'].map(mapping)"
      ],
      "metadata": {
        "id": "wtmRdweEaao6"
      },
      "execution_count": 406,
      "outputs": []
    },
    {
      "cell_type": "code",
      "source": [
        "data['use'].value_counts()"
      ],
      "metadata": {
        "colab": {
          "base_uri": "https://localhost:8080/"
        },
        "id": "8dm8fcZxrwhh",
        "outputId": "263eddb7-7bf1-4401-981c-a1f4aea2c0a0"
      },
      "execution_count": 407,
      "outputs": [
        {
          "output_type": "execute_result",
          "data": {
            "text/plain": [
              "use\n",
              "0    742\n",
              "1     40\n",
              "Name: count, dtype: int64"
            ]
          },
          "metadata": {},
          "execution_count": 407
        }
      ]
    },
    {
      "cell_type": "code",
      "source": [
        "data.head()"
      ],
      "metadata": {
        "colab": {
          "base_uri": "https://localhost:8080/",
          "height": 206
        },
        "id": "NV9JzwFfr-kM",
        "outputId": "af7ff5f1-eaa4-4ab8-a6af-0685ca1594aa"
      },
      "execution_count": 408,
      "outputs": [
        {
          "output_type": "execute_result",
          "data": {
            "text/plain": [
              "   Std  Heat treatment        Su         E         G        mu  use  cate  \\\n",
              "0    1               1 -0.532333  0.757092 -0.145015 -0.576813    1     1   \n",
              "1    1               2 -0.524722  0.757092 -0.145015 -0.576813    1     1   \n",
              "2    1               3 -0.621132  0.757092 -0.145015 -0.576813    1     1   \n",
              "3    1               1 -0.463831  0.757092 -0.145015 -0.576813    1     1   \n",
              "4    1               2 -0.481591  0.757092 -0.145015 -0.576813    1     1   \n",
              "\n",
              "   subcate  \n",
              "0        1  \n",
              "1        1  \n",
              "2        1  \n",
              "3        2  \n",
              "4        2  "
            ],
            "text/html": [
              "\n",
              "  <div id=\"df-558836b8-30e6-4532-b249-f4da6228ef29\" class=\"colab-df-container\">\n",
              "    <div>\n",
              "<style scoped>\n",
              "    .dataframe tbody tr th:only-of-type {\n",
              "        vertical-align: middle;\n",
              "    }\n",
              "\n",
              "    .dataframe tbody tr th {\n",
              "        vertical-align: top;\n",
              "    }\n",
              "\n",
              "    .dataframe thead th {\n",
              "        text-align: right;\n",
              "    }\n",
              "</style>\n",
              "<table border=\"1\" class=\"dataframe\">\n",
              "  <thead>\n",
              "    <tr style=\"text-align: right;\">\n",
              "      <th></th>\n",
              "      <th>Std</th>\n",
              "      <th>Heat treatment</th>\n",
              "      <th>Su</th>\n",
              "      <th>E</th>\n",
              "      <th>G</th>\n",
              "      <th>mu</th>\n",
              "      <th>use</th>\n",
              "      <th>cate</th>\n",
              "      <th>subcate</th>\n",
              "    </tr>\n",
              "  </thead>\n",
              "  <tbody>\n",
              "    <tr>\n",
              "      <th>0</th>\n",
              "      <td>1</td>\n",
              "      <td>1</td>\n",
              "      <td>-0.532333</td>\n",
              "      <td>0.757092</td>\n",
              "      <td>-0.145015</td>\n",
              "      <td>-0.576813</td>\n",
              "      <td>1</td>\n",
              "      <td>1</td>\n",
              "      <td>1</td>\n",
              "    </tr>\n",
              "    <tr>\n",
              "      <th>1</th>\n",
              "      <td>1</td>\n",
              "      <td>2</td>\n",
              "      <td>-0.524722</td>\n",
              "      <td>0.757092</td>\n",
              "      <td>-0.145015</td>\n",
              "      <td>-0.576813</td>\n",
              "      <td>1</td>\n",
              "      <td>1</td>\n",
              "      <td>1</td>\n",
              "    </tr>\n",
              "    <tr>\n",
              "      <th>2</th>\n",
              "      <td>1</td>\n",
              "      <td>3</td>\n",
              "      <td>-0.621132</td>\n",
              "      <td>0.757092</td>\n",
              "      <td>-0.145015</td>\n",
              "      <td>-0.576813</td>\n",
              "      <td>1</td>\n",
              "      <td>1</td>\n",
              "      <td>1</td>\n",
              "    </tr>\n",
              "    <tr>\n",
              "      <th>3</th>\n",
              "      <td>1</td>\n",
              "      <td>1</td>\n",
              "      <td>-0.463831</td>\n",
              "      <td>0.757092</td>\n",
              "      <td>-0.145015</td>\n",
              "      <td>-0.576813</td>\n",
              "      <td>1</td>\n",
              "      <td>1</td>\n",
              "      <td>2</td>\n",
              "    </tr>\n",
              "    <tr>\n",
              "      <th>4</th>\n",
              "      <td>1</td>\n",
              "      <td>2</td>\n",
              "      <td>-0.481591</td>\n",
              "      <td>0.757092</td>\n",
              "      <td>-0.145015</td>\n",
              "      <td>-0.576813</td>\n",
              "      <td>1</td>\n",
              "      <td>1</td>\n",
              "      <td>2</td>\n",
              "    </tr>\n",
              "  </tbody>\n",
              "</table>\n",
              "</div>\n",
              "    <div class=\"colab-df-buttons\">\n",
              "\n",
              "  <div class=\"colab-df-container\">\n",
              "    <button class=\"colab-df-convert\" onclick=\"convertToInteractive('df-558836b8-30e6-4532-b249-f4da6228ef29')\"\n",
              "            title=\"Convert this dataframe to an interactive table.\"\n",
              "            style=\"display:none;\">\n",
              "\n",
              "  <svg xmlns=\"http://www.w3.org/2000/svg\" height=\"24px\" viewBox=\"0 -960 960 960\">\n",
              "    <path d=\"M120-120v-720h720v720H120Zm60-500h600v-160H180v160Zm220 220h160v-160H400v160Zm0 220h160v-160H400v160ZM180-400h160v-160H180v160Zm440 0h160v-160H620v160ZM180-180h160v-160H180v160Zm440 0h160v-160H620v160Z\"/>\n",
              "  </svg>\n",
              "    </button>\n",
              "\n",
              "  <style>\n",
              "    .colab-df-container {\n",
              "      display:flex;\n",
              "      gap: 12px;\n",
              "    }\n",
              "\n",
              "    .colab-df-convert {\n",
              "      background-color: #E8F0FE;\n",
              "      border: none;\n",
              "      border-radius: 50%;\n",
              "      cursor: pointer;\n",
              "      display: none;\n",
              "      fill: #1967D2;\n",
              "      height: 32px;\n",
              "      padding: 0 0 0 0;\n",
              "      width: 32px;\n",
              "    }\n",
              "\n",
              "    .colab-df-convert:hover {\n",
              "      background-color: #E2EBFA;\n",
              "      box-shadow: 0px 1px 2px rgba(60, 64, 67, 0.3), 0px 1px 3px 1px rgba(60, 64, 67, 0.15);\n",
              "      fill: #174EA6;\n",
              "    }\n",
              "\n",
              "    .colab-df-buttons div {\n",
              "      margin-bottom: 4px;\n",
              "    }\n",
              "\n",
              "    [theme=dark] .colab-df-convert {\n",
              "      background-color: #3B4455;\n",
              "      fill: #D2E3FC;\n",
              "    }\n",
              "\n",
              "    [theme=dark] .colab-df-convert:hover {\n",
              "      background-color: #434B5C;\n",
              "      box-shadow: 0px 1px 3px 1px rgba(0, 0, 0, 0.15);\n",
              "      filter: drop-shadow(0px 1px 2px rgba(0, 0, 0, 0.3));\n",
              "      fill: #FFFFFF;\n",
              "    }\n",
              "  </style>\n",
              "\n",
              "    <script>\n",
              "      const buttonEl =\n",
              "        document.querySelector('#df-558836b8-30e6-4532-b249-f4da6228ef29 button.colab-df-convert');\n",
              "      buttonEl.style.display =\n",
              "        google.colab.kernel.accessAllowed ? 'block' : 'none';\n",
              "\n",
              "      async function convertToInteractive(key) {\n",
              "        const element = document.querySelector('#df-558836b8-30e6-4532-b249-f4da6228ef29');\n",
              "        const dataTable =\n",
              "          await google.colab.kernel.invokeFunction('convertToInteractive',\n",
              "                                                    [key], {});\n",
              "        if (!dataTable) return;\n",
              "\n",
              "        const docLinkHtml = 'Like what you see? Visit the ' +\n",
              "          '<a target=\"_blank\" href=https://colab.research.google.com/notebooks/data_table.ipynb>data table notebook</a>'\n",
              "          + ' to learn more about interactive tables.';\n",
              "        element.innerHTML = '';\n",
              "        dataTable['output_type'] = 'display_data';\n",
              "        await google.colab.output.renderOutput(dataTable, element);\n",
              "        const docLink = document.createElement('div');\n",
              "        docLink.innerHTML = docLinkHtml;\n",
              "        element.appendChild(docLink);\n",
              "      }\n",
              "    </script>\n",
              "  </div>\n",
              "\n",
              "\n",
              "<div id=\"df-7a806aa9-111d-4b91-9667-e728801cbc8c\">\n",
              "  <button class=\"colab-df-quickchart\" onclick=\"quickchart('df-7a806aa9-111d-4b91-9667-e728801cbc8c')\"\n",
              "            title=\"Suggest charts\"\n",
              "            style=\"display:none;\">\n",
              "\n",
              "<svg xmlns=\"http://www.w3.org/2000/svg\" height=\"24px\"viewBox=\"0 0 24 24\"\n",
              "     width=\"24px\">\n",
              "    <g>\n",
              "        <path d=\"M19 3H5c-1.1 0-2 .9-2 2v14c0 1.1.9 2 2 2h14c1.1 0 2-.9 2-2V5c0-1.1-.9-2-2-2zM9 17H7v-7h2v7zm4 0h-2V7h2v10zm4 0h-2v-4h2v4z\"/>\n",
              "    </g>\n",
              "</svg>\n",
              "  </button>\n",
              "\n",
              "<style>\n",
              "  .colab-df-quickchart {\n",
              "      --bg-color: #E8F0FE;\n",
              "      --fill-color: #1967D2;\n",
              "      --hover-bg-color: #E2EBFA;\n",
              "      --hover-fill-color: #174EA6;\n",
              "      --disabled-fill-color: #AAA;\n",
              "      --disabled-bg-color: #DDD;\n",
              "  }\n",
              "\n",
              "  [theme=dark] .colab-df-quickchart {\n",
              "      --bg-color: #3B4455;\n",
              "      --fill-color: #D2E3FC;\n",
              "      --hover-bg-color: #434B5C;\n",
              "      --hover-fill-color: #FFFFFF;\n",
              "      --disabled-bg-color: #3B4455;\n",
              "      --disabled-fill-color: #666;\n",
              "  }\n",
              "\n",
              "  .colab-df-quickchart {\n",
              "    background-color: var(--bg-color);\n",
              "    border: none;\n",
              "    border-radius: 50%;\n",
              "    cursor: pointer;\n",
              "    display: none;\n",
              "    fill: var(--fill-color);\n",
              "    height: 32px;\n",
              "    padding: 0;\n",
              "    width: 32px;\n",
              "  }\n",
              "\n",
              "  .colab-df-quickchart:hover {\n",
              "    background-color: var(--hover-bg-color);\n",
              "    box-shadow: 0 1px 2px rgba(60, 64, 67, 0.3), 0 1px 3px 1px rgba(60, 64, 67, 0.15);\n",
              "    fill: var(--button-hover-fill-color);\n",
              "  }\n",
              "\n",
              "  .colab-df-quickchart-complete:disabled,\n",
              "  .colab-df-quickchart-complete:disabled:hover {\n",
              "    background-color: var(--disabled-bg-color);\n",
              "    fill: var(--disabled-fill-color);\n",
              "    box-shadow: none;\n",
              "  }\n",
              "\n",
              "  .colab-df-spinner {\n",
              "    border: 2px solid var(--fill-color);\n",
              "    border-color: transparent;\n",
              "    border-bottom-color: var(--fill-color);\n",
              "    animation:\n",
              "      spin 1s steps(1) infinite;\n",
              "  }\n",
              "\n",
              "  @keyframes spin {\n",
              "    0% {\n",
              "      border-color: transparent;\n",
              "      border-bottom-color: var(--fill-color);\n",
              "      border-left-color: var(--fill-color);\n",
              "    }\n",
              "    20% {\n",
              "      border-color: transparent;\n",
              "      border-left-color: var(--fill-color);\n",
              "      border-top-color: var(--fill-color);\n",
              "    }\n",
              "    30% {\n",
              "      border-color: transparent;\n",
              "      border-left-color: var(--fill-color);\n",
              "      border-top-color: var(--fill-color);\n",
              "      border-right-color: var(--fill-color);\n",
              "    }\n",
              "    40% {\n",
              "      border-color: transparent;\n",
              "      border-right-color: var(--fill-color);\n",
              "      border-top-color: var(--fill-color);\n",
              "    }\n",
              "    60% {\n",
              "      border-color: transparent;\n",
              "      border-right-color: var(--fill-color);\n",
              "    }\n",
              "    80% {\n",
              "      border-color: transparent;\n",
              "      border-right-color: var(--fill-color);\n",
              "      border-bottom-color: var(--fill-color);\n",
              "    }\n",
              "    90% {\n",
              "      border-color: transparent;\n",
              "      border-bottom-color: var(--fill-color);\n",
              "    }\n",
              "  }\n",
              "</style>\n",
              "\n",
              "  <script>\n",
              "    async function quickchart(key) {\n",
              "      const quickchartButtonEl =\n",
              "        document.querySelector('#' + key + ' button');\n",
              "      quickchartButtonEl.disabled = true;  // To prevent multiple clicks.\n",
              "      quickchartButtonEl.classList.add('colab-df-spinner');\n",
              "      try {\n",
              "        const charts = await google.colab.kernel.invokeFunction(\n",
              "            'suggestCharts', [key], {});\n",
              "      } catch (error) {\n",
              "        console.error('Error during call to suggestCharts:', error);\n",
              "      }\n",
              "      quickchartButtonEl.classList.remove('colab-df-spinner');\n",
              "      quickchartButtonEl.classList.add('colab-df-quickchart-complete');\n",
              "    }\n",
              "    (() => {\n",
              "      let quickchartButtonEl =\n",
              "        document.querySelector('#df-7a806aa9-111d-4b91-9667-e728801cbc8c button');\n",
              "      quickchartButtonEl.style.display =\n",
              "        google.colab.kernel.accessAllowed ? 'block' : 'none';\n",
              "    })();\n",
              "  </script>\n",
              "</div>\n",
              "\n",
              "    </div>\n",
              "  </div>\n"
            ],
            "application/vnd.google.colaboratory.intrinsic+json": {
              "type": "dataframe",
              "variable_name": "data",
              "summary": "{\n  \"name\": \"data\",\n  \"rows\": 782,\n  \"fields\": [\n    {\n      \"column\": \"Std\",\n      \"properties\": {\n        \"dtype\": \"number\",\n        \"std\": 2,\n        \"min\": 1,\n        \"max\": 8,\n        \"num_unique_values\": 8,\n        \"samples\": [\n          2,\n          6,\n          1\n        ],\n        \"semantic_type\": \"\",\n        \"description\": \"\"\n      }\n    },\n    {\n      \"column\": \"Heat treatment\",\n      \"properties\": {\n        \"dtype\": \"number\",\n        \"std\": 8,\n        \"min\": 1,\n        \"max\": 30,\n        \"num_unique_values\": 30,\n        \"samples\": [\n          28,\n          16,\n          24\n        ],\n        \"semantic_type\": \"\",\n        \"description\": \"\"\n      }\n    },\n    {\n      \"column\": \"Su\",\n      \"properties\": {\n        \"dtype\": \"number\",\n        \"std\": 0.9826081298992372,\n        \"min\": -1.4253939613869555,\n        \"max\": 4.031917572387499,\n        \"num_unique_values\": 263,\n        \"samples\": [\n          -1.1970545666683592,\n          -0.9712522763355249,\n          2.8800721812514682\n        ],\n        \"semantic_type\": \"\",\n        \"description\": \"\"\n      }\n    },\n    {\n      \"column\": \"E\",\n      \"properties\": {\n        \"dtype\": \"number\",\n        \"std\": 1.0029197022443526,\n        \"min\": -1.3676050504345831,\n        \"max\": 0.9473631538833143,\n        \"num_unique_values\": 20,\n        \"samples\": [\n          0.757091794624309,\n          0.8522274742538116,\n          0.8205155810439774\n        ],\n        \"semantic_type\": \"\",\n        \"description\": \"\"\n      }\n    },\n    {\n      \"column\": \"G\",\n      \"properties\": {\n        \"dtype\": \"number\",\n        \"std\": 0.9579871757496979,\n        \"min\": -0.4543134880897749,\n        \"max\": 3.881700721309818,\n        \"num_unique_values\": 13,\n        \"samples\": [\n          -0.11583593203973937,\n          -0.12167175197163653,\n          -0.1450150316992252\n        ],\n        \"semantic_type\": \"\",\n        \"description\": \"\"\n      }\n    },\n    {\n      \"column\": \"mu\",\n      \"properties\": {\n        \"dtype\": \"number\",\n        \"std\": 1.0043893263291033,\n        \"min\": -1.2157683774119992,\n        \"max\": 1.3400540044606755,\n        \"num_unique_values\": 4,\n        \"samples\": [\n          0.7010984089925067,\n          -1.2157683774119992,\n          -0.5768127819438306\n        ],\n        \"semantic_type\": \"\",\n        \"description\": \"\"\n      }\n    },\n    {\n      \"column\": \"use\",\n      \"properties\": {\n        \"dtype\": \"number\",\n        \"std\": 0,\n        \"min\": 0,\n        \"max\": 1,\n        \"num_unique_values\": 2,\n        \"samples\": [\n          0,\n          1\n        ],\n        \"semantic_type\": \"\",\n        \"description\": \"\"\n      }\n    },\n    {\n      \"column\": \"cate\",\n      \"properties\": {\n        \"dtype\": \"number\",\n        \"std\": 2,\n        \"min\": 1,\n        \"max\": 11,\n        \"num_unique_values\": 11,\n        \"samples\": [\n          6,\n          1\n        ],\n        \"semantic_type\": \"\",\n        \"description\": \"\"\n      }\n    },\n    {\n      \"column\": \"subcate\",\n      \"properties\": {\n        \"dtype\": \"number\",\n        \"std\": 173,\n        \"min\": 1,\n        \"max\": 537,\n        \"num_unique_values\": 537,\n        \"samples\": [\n          493,\n          74\n        ],\n        \"semantic_type\": \"\",\n        \"description\": \"\"\n      }\n    }\n  ]\n}"
            }
          },
          "metadata": {},
          "execution_count": 408
        }
      ]
    },
    {
      "cell_type": "code",
      "source": [
        "data.shape"
      ],
      "metadata": {
        "colab": {
          "base_uri": "https://localhost:8080/"
        },
        "id": "kE_7lyB9QvIZ",
        "outputId": "e3242128-3ef7-466a-e81e-3507b3e701db"
      },
      "execution_count": 409,
      "outputs": [
        {
          "output_type": "execute_result",
          "data": {
            "text/plain": [
              "(782, 9)"
            ]
          },
          "metadata": {},
          "execution_count": 409
        }
      ]
    },
    {
      "cell_type": "code",
      "source": [
        "data.dtypes"
      ],
      "metadata": {
        "colab": {
          "base_uri": "https://localhost:8080/"
        },
        "id": "bpfzObdwQpHK",
        "outputId": "51b5770b-8593-406b-9de6-b2437c80f883"
      },
      "execution_count": 410,
      "outputs": [
        {
          "output_type": "execute_result",
          "data": {
            "text/plain": [
              "Std                 int64\n",
              "Heat treatment      int64\n",
              "Su                float64\n",
              "E                 float64\n",
              "G                 float64\n",
              "mu                float64\n",
              "use                 int64\n",
              "cate                int64\n",
              "subcate             int64\n",
              "dtype: object"
            ]
          },
          "metadata": {},
          "execution_count": 410
        }
      ]
    },
    {
      "cell_type": "code",
      "source": [
        "data.isnull().sum()"
      ],
      "metadata": {
        "colab": {
          "base_uri": "https://localhost:8080/"
        },
        "id": "dXUwTLRLeldJ",
        "outputId": "a7f5a9d4-0233-491e-c351-c4bf4db43589"
      },
      "execution_count": 411,
      "outputs": [
        {
          "output_type": "execute_result",
          "data": {
            "text/plain": [
              "Std               0\n",
              "Heat treatment    0\n",
              "Su                0\n",
              "E                 0\n",
              "G                 0\n",
              "mu                0\n",
              "use               0\n",
              "cate              0\n",
              "subcate           0\n",
              "dtype: int64"
            ]
          },
          "metadata": {},
          "execution_count": 411
        }
      ]
    },
    {
      "cell_type": "markdown",
      "source": [
        "#constructing final data frame"
      ],
      "metadata": {
        "id": "YeABQMKzRNgW"
      }
    },
    {
      "cell_type": "code",
      "source": [
        "data.shape"
      ],
      "metadata": {
        "colab": {
          "base_uri": "https://localhost:8080/"
        },
        "id": "kNGJ7tBenWap",
        "outputId": "62279f6e-71b9-482a-b425-fca337032554"
      },
      "execution_count": 412,
      "outputs": [
        {
          "output_type": "execute_result",
          "data": {
            "text/plain": [
              "(782, 9)"
            ]
          },
          "metadata": {},
          "execution_count": 412
        }
      ]
    },
    {
      "cell_type": "code",
      "source": [
        "data.isnull().sum()"
      ],
      "metadata": {
        "colab": {
          "base_uri": "https://localhost:8080/"
        },
        "id": "oGqE2BcTncAN",
        "outputId": "4c47b0f8-92ec-4f54-9351-b810a18ee892"
      },
      "execution_count": 413,
      "outputs": [
        {
          "output_type": "execute_result",
          "data": {
            "text/plain": [
              "Std               0\n",
              "Heat treatment    0\n",
              "Su                0\n",
              "E                 0\n",
              "G                 0\n",
              "mu                0\n",
              "use               0\n",
              "cate              0\n",
              "subcate           0\n",
              "dtype: int64"
            ]
          },
          "metadata": {},
          "execution_count": 413
        }
      ]
    },
    {
      "cell_type": "code",
      "source": [
        "data.head()"
      ],
      "metadata": {
        "colab": {
          "base_uri": "https://localhost:8080/",
          "height": 0
        },
        "id": "iK4qL4YupDRA",
        "outputId": "18c9441d-f419-4e1e-b496-67e00651f608"
      },
      "execution_count": 414,
      "outputs": [
        {
          "output_type": "execute_result",
          "data": {
            "text/plain": [
              "   Std  Heat treatment        Su         E         G        mu  use  cate  \\\n",
              "0    1               1 -0.532333  0.757092 -0.145015 -0.576813    1     1   \n",
              "1    1               2 -0.524722  0.757092 -0.145015 -0.576813    1     1   \n",
              "2    1               3 -0.621132  0.757092 -0.145015 -0.576813    1     1   \n",
              "3    1               1 -0.463831  0.757092 -0.145015 -0.576813    1     1   \n",
              "4    1               2 -0.481591  0.757092 -0.145015 -0.576813    1     1   \n",
              "\n",
              "   subcate  \n",
              "0        1  \n",
              "1        1  \n",
              "2        1  \n",
              "3        2  \n",
              "4        2  "
            ],
            "text/html": [
              "\n",
              "  <div id=\"df-ec1ba3c8-2023-4ae2-a425-63e984e82c1c\" class=\"colab-df-container\">\n",
              "    <div>\n",
              "<style scoped>\n",
              "    .dataframe tbody tr th:only-of-type {\n",
              "        vertical-align: middle;\n",
              "    }\n",
              "\n",
              "    .dataframe tbody tr th {\n",
              "        vertical-align: top;\n",
              "    }\n",
              "\n",
              "    .dataframe thead th {\n",
              "        text-align: right;\n",
              "    }\n",
              "</style>\n",
              "<table border=\"1\" class=\"dataframe\">\n",
              "  <thead>\n",
              "    <tr style=\"text-align: right;\">\n",
              "      <th></th>\n",
              "      <th>Std</th>\n",
              "      <th>Heat treatment</th>\n",
              "      <th>Su</th>\n",
              "      <th>E</th>\n",
              "      <th>G</th>\n",
              "      <th>mu</th>\n",
              "      <th>use</th>\n",
              "      <th>cate</th>\n",
              "      <th>subcate</th>\n",
              "    </tr>\n",
              "  </thead>\n",
              "  <tbody>\n",
              "    <tr>\n",
              "      <th>0</th>\n",
              "      <td>1</td>\n",
              "      <td>1</td>\n",
              "      <td>-0.532333</td>\n",
              "      <td>0.757092</td>\n",
              "      <td>-0.145015</td>\n",
              "      <td>-0.576813</td>\n",
              "      <td>1</td>\n",
              "      <td>1</td>\n",
              "      <td>1</td>\n",
              "    </tr>\n",
              "    <tr>\n",
              "      <th>1</th>\n",
              "      <td>1</td>\n",
              "      <td>2</td>\n",
              "      <td>-0.524722</td>\n",
              "      <td>0.757092</td>\n",
              "      <td>-0.145015</td>\n",
              "      <td>-0.576813</td>\n",
              "      <td>1</td>\n",
              "      <td>1</td>\n",
              "      <td>1</td>\n",
              "    </tr>\n",
              "    <tr>\n",
              "      <th>2</th>\n",
              "      <td>1</td>\n",
              "      <td>3</td>\n",
              "      <td>-0.621132</td>\n",
              "      <td>0.757092</td>\n",
              "      <td>-0.145015</td>\n",
              "      <td>-0.576813</td>\n",
              "      <td>1</td>\n",
              "      <td>1</td>\n",
              "      <td>1</td>\n",
              "    </tr>\n",
              "    <tr>\n",
              "      <th>3</th>\n",
              "      <td>1</td>\n",
              "      <td>1</td>\n",
              "      <td>-0.463831</td>\n",
              "      <td>0.757092</td>\n",
              "      <td>-0.145015</td>\n",
              "      <td>-0.576813</td>\n",
              "      <td>1</td>\n",
              "      <td>1</td>\n",
              "      <td>2</td>\n",
              "    </tr>\n",
              "    <tr>\n",
              "      <th>4</th>\n",
              "      <td>1</td>\n",
              "      <td>2</td>\n",
              "      <td>-0.481591</td>\n",
              "      <td>0.757092</td>\n",
              "      <td>-0.145015</td>\n",
              "      <td>-0.576813</td>\n",
              "      <td>1</td>\n",
              "      <td>1</td>\n",
              "      <td>2</td>\n",
              "    </tr>\n",
              "  </tbody>\n",
              "</table>\n",
              "</div>\n",
              "    <div class=\"colab-df-buttons\">\n",
              "\n",
              "  <div class=\"colab-df-container\">\n",
              "    <button class=\"colab-df-convert\" onclick=\"convertToInteractive('df-ec1ba3c8-2023-4ae2-a425-63e984e82c1c')\"\n",
              "            title=\"Convert this dataframe to an interactive table.\"\n",
              "            style=\"display:none;\">\n",
              "\n",
              "  <svg xmlns=\"http://www.w3.org/2000/svg\" height=\"24px\" viewBox=\"0 -960 960 960\">\n",
              "    <path d=\"M120-120v-720h720v720H120Zm60-500h600v-160H180v160Zm220 220h160v-160H400v160Zm0 220h160v-160H400v160ZM180-400h160v-160H180v160Zm440 0h160v-160H620v160ZM180-180h160v-160H180v160Zm440 0h160v-160H620v160Z\"/>\n",
              "  </svg>\n",
              "    </button>\n",
              "\n",
              "  <style>\n",
              "    .colab-df-container {\n",
              "      display:flex;\n",
              "      gap: 12px;\n",
              "    }\n",
              "\n",
              "    .colab-df-convert {\n",
              "      background-color: #E8F0FE;\n",
              "      border: none;\n",
              "      border-radius: 50%;\n",
              "      cursor: pointer;\n",
              "      display: none;\n",
              "      fill: #1967D2;\n",
              "      height: 32px;\n",
              "      padding: 0 0 0 0;\n",
              "      width: 32px;\n",
              "    }\n",
              "\n",
              "    .colab-df-convert:hover {\n",
              "      background-color: #E2EBFA;\n",
              "      box-shadow: 0px 1px 2px rgba(60, 64, 67, 0.3), 0px 1px 3px 1px rgba(60, 64, 67, 0.15);\n",
              "      fill: #174EA6;\n",
              "    }\n",
              "\n",
              "    .colab-df-buttons div {\n",
              "      margin-bottom: 4px;\n",
              "    }\n",
              "\n",
              "    [theme=dark] .colab-df-convert {\n",
              "      background-color: #3B4455;\n",
              "      fill: #D2E3FC;\n",
              "    }\n",
              "\n",
              "    [theme=dark] .colab-df-convert:hover {\n",
              "      background-color: #434B5C;\n",
              "      box-shadow: 0px 1px 3px 1px rgba(0, 0, 0, 0.15);\n",
              "      filter: drop-shadow(0px 1px 2px rgba(0, 0, 0, 0.3));\n",
              "      fill: #FFFFFF;\n",
              "    }\n",
              "  </style>\n",
              "\n",
              "    <script>\n",
              "      const buttonEl =\n",
              "        document.querySelector('#df-ec1ba3c8-2023-4ae2-a425-63e984e82c1c button.colab-df-convert');\n",
              "      buttonEl.style.display =\n",
              "        google.colab.kernel.accessAllowed ? 'block' : 'none';\n",
              "\n",
              "      async function convertToInteractive(key) {\n",
              "        const element = document.querySelector('#df-ec1ba3c8-2023-4ae2-a425-63e984e82c1c');\n",
              "        const dataTable =\n",
              "          await google.colab.kernel.invokeFunction('convertToInteractive',\n",
              "                                                    [key], {});\n",
              "        if (!dataTable) return;\n",
              "\n",
              "        const docLinkHtml = 'Like what you see? Visit the ' +\n",
              "          '<a target=\"_blank\" href=https://colab.research.google.com/notebooks/data_table.ipynb>data table notebook</a>'\n",
              "          + ' to learn more about interactive tables.';\n",
              "        element.innerHTML = '';\n",
              "        dataTable['output_type'] = 'display_data';\n",
              "        await google.colab.output.renderOutput(dataTable, element);\n",
              "        const docLink = document.createElement('div');\n",
              "        docLink.innerHTML = docLinkHtml;\n",
              "        element.appendChild(docLink);\n",
              "      }\n",
              "    </script>\n",
              "  </div>\n",
              "\n",
              "\n",
              "<div id=\"df-7f0d31ee-4758-46c0-b885-ad8116aed50d\">\n",
              "  <button class=\"colab-df-quickchart\" onclick=\"quickchart('df-7f0d31ee-4758-46c0-b885-ad8116aed50d')\"\n",
              "            title=\"Suggest charts\"\n",
              "            style=\"display:none;\">\n",
              "\n",
              "<svg xmlns=\"http://www.w3.org/2000/svg\" height=\"24px\"viewBox=\"0 0 24 24\"\n",
              "     width=\"24px\">\n",
              "    <g>\n",
              "        <path d=\"M19 3H5c-1.1 0-2 .9-2 2v14c0 1.1.9 2 2 2h14c1.1 0 2-.9 2-2V5c0-1.1-.9-2-2-2zM9 17H7v-7h2v7zm4 0h-2V7h2v10zm4 0h-2v-4h2v4z\"/>\n",
              "    </g>\n",
              "</svg>\n",
              "  </button>\n",
              "\n",
              "<style>\n",
              "  .colab-df-quickchart {\n",
              "      --bg-color: #E8F0FE;\n",
              "      --fill-color: #1967D2;\n",
              "      --hover-bg-color: #E2EBFA;\n",
              "      --hover-fill-color: #174EA6;\n",
              "      --disabled-fill-color: #AAA;\n",
              "      --disabled-bg-color: #DDD;\n",
              "  }\n",
              "\n",
              "  [theme=dark] .colab-df-quickchart {\n",
              "      --bg-color: #3B4455;\n",
              "      --fill-color: #D2E3FC;\n",
              "      --hover-bg-color: #434B5C;\n",
              "      --hover-fill-color: #FFFFFF;\n",
              "      --disabled-bg-color: #3B4455;\n",
              "      --disabled-fill-color: #666;\n",
              "  }\n",
              "\n",
              "  .colab-df-quickchart {\n",
              "    background-color: var(--bg-color);\n",
              "    border: none;\n",
              "    border-radius: 50%;\n",
              "    cursor: pointer;\n",
              "    display: none;\n",
              "    fill: var(--fill-color);\n",
              "    height: 32px;\n",
              "    padding: 0;\n",
              "    width: 32px;\n",
              "  }\n",
              "\n",
              "  .colab-df-quickchart:hover {\n",
              "    background-color: var(--hover-bg-color);\n",
              "    box-shadow: 0 1px 2px rgba(60, 64, 67, 0.3), 0 1px 3px 1px rgba(60, 64, 67, 0.15);\n",
              "    fill: var(--button-hover-fill-color);\n",
              "  }\n",
              "\n",
              "  .colab-df-quickchart-complete:disabled,\n",
              "  .colab-df-quickchart-complete:disabled:hover {\n",
              "    background-color: var(--disabled-bg-color);\n",
              "    fill: var(--disabled-fill-color);\n",
              "    box-shadow: none;\n",
              "  }\n",
              "\n",
              "  .colab-df-spinner {\n",
              "    border: 2px solid var(--fill-color);\n",
              "    border-color: transparent;\n",
              "    border-bottom-color: var(--fill-color);\n",
              "    animation:\n",
              "      spin 1s steps(1) infinite;\n",
              "  }\n",
              "\n",
              "  @keyframes spin {\n",
              "    0% {\n",
              "      border-color: transparent;\n",
              "      border-bottom-color: var(--fill-color);\n",
              "      border-left-color: var(--fill-color);\n",
              "    }\n",
              "    20% {\n",
              "      border-color: transparent;\n",
              "      border-left-color: var(--fill-color);\n",
              "      border-top-color: var(--fill-color);\n",
              "    }\n",
              "    30% {\n",
              "      border-color: transparent;\n",
              "      border-left-color: var(--fill-color);\n",
              "      border-top-color: var(--fill-color);\n",
              "      border-right-color: var(--fill-color);\n",
              "    }\n",
              "    40% {\n",
              "      border-color: transparent;\n",
              "      border-right-color: var(--fill-color);\n",
              "      border-top-color: var(--fill-color);\n",
              "    }\n",
              "    60% {\n",
              "      border-color: transparent;\n",
              "      border-right-color: var(--fill-color);\n",
              "    }\n",
              "    80% {\n",
              "      border-color: transparent;\n",
              "      border-right-color: var(--fill-color);\n",
              "      border-bottom-color: var(--fill-color);\n",
              "    }\n",
              "    90% {\n",
              "      border-color: transparent;\n",
              "      border-bottom-color: var(--fill-color);\n",
              "    }\n",
              "  }\n",
              "</style>\n",
              "\n",
              "  <script>\n",
              "    async function quickchart(key) {\n",
              "      const quickchartButtonEl =\n",
              "        document.querySelector('#' + key + ' button');\n",
              "      quickchartButtonEl.disabled = true;  // To prevent multiple clicks.\n",
              "      quickchartButtonEl.classList.add('colab-df-spinner');\n",
              "      try {\n",
              "        const charts = await google.colab.kernel.invokeFunction(\n",
              "            'suggestCharts', [key], {});\n",
              "      } catch (error) {\n",
              "        console.error('Error during call to suggestCharts:', error);\n",
              "      }\n",
              "      quickchartButtonEl.classList.remove('colab-df-spinner');\n",
              "      quickchartButtonEl.classList.add('colab-df-quickchart-complete');\n",
              "    }\n",
              "    (() => {\n",
              "      let quickchartButtonEl =\n",
              "        document.querySelector('#df-7f0d31ee-4758-46c0-b885-ad8116aed50d button');\n",
              "      quickchartButtonEl.style.display =\n",
              "        google.colab.kernel.accessAllowed ? 'block' : 'none';\n",
              "    })();\n",
              "  </script>\n",
              "</div>\n",
              "\n",
              "    </div>\n",
              "  </div>\n"
            ],
            "application/vnd.google.colaboratory.intrinsic+json": {
              "type": "dataframe",
              "variable_name": "data",
              "summary": "{\n  \"name\": \"data\",\n  \"rows\": 782,\n  \"fields\": [\n    {\n      \"column\": \"Std\",\n      \"properties\": {\n        \"dtype\": \"number\",\n        \"std\": 2,\n        \"min\": 1,\n        \"max\": 8,\n        \"num_unique_values\": 8,\n        \"samples\": [\n          2,\n          6,\n          1\n        ],\n        \"semantic_type\": \"\",\n        \"description\": \"\"\n      }\n    },\n    {\n      \"column\": \"Heat treatment\",\n      \"properties\": {\n        \"dtype\": \"number\",\n        \"std\": 8,\n        \"min\": 1,\n        \"max\": 30,\n        \"num_unique_values\": 30,\n        \"samples\": [\n          28,\n          16,\n          24\n        ],\n        \"semantic_type\": \"\",\n        \"description\": \"\"\n      }\n    },\n    {\n      \"column\": \"Su\",\n      \"properties\": {\n        \"dtype\": \"number\",\n        \"std\": 0.9826081298992372,\n        \"min\": -1.4253939613869555,\n        \"max\": 4.031917572387499,\n        \"num_unique_values\": 263,\n        \"samples\": [\n          -1.1970545666683592,\n          -0.9712522763355249,\n          2.8800721812514682\n        ],\n        \"semantic_type\": \"\",\n        \"description\": \"\"\n      }\n    },\n    {\n      \"column\": \"E\",\n      \"properties\": {\n        \"dtype\": \"number\",\n        \"std\": 1.0029197022443526,\n        \"min\": -1.3676050504345831,\n        \"max\": 0.9473631538833143,\n        \"num_unique_values\": 20,\n        \"samples\": [\n          0.757091794624309,\n          0.8522274742538116,\n          0.8205155810439774\n        ],\n        \"semantic_type\": \"\",\n        \"description\": \"\"\n      }\n    },\n    {\n      \"column\": \"G\",\n      \"properties\": {\n        \"dtype\": \"number\",\n        \"std\": 0.9579871757496979,\n        \"min\": -0.4543134880897749,\n        \"max\": 3.881700721309818,\n        \"num_unique_values\": 13,\n        \"samples\": [\n          -0.11583593203973937,\n          -0.12167175197163653,\n          -0.1450150316992252\n        ],\n        \"semantic_type\": \"\",\n        \"description\": \"\"\n      }\n    },\n    {\n      \"column\": \"mu\",\n      \"properties\": {\n        \"dtype\": \"number\",\n        \"std\": 1.0043893263291033,\n        \"min\": -1.2157683774119992,\n        \"max\": 1.3400540044606755,\n        \"num_unique_values\": 4,\n        \"samples\": [\n          0.7010984089925067,\n          -1.2157683774119992,\n          -0.5768127819438306\n        ],\n        \"semantic_type\": \"\",\n        \"description\": \"\"\n      }\n    },\n    {\n      \"column\": \"use\",\n      \"properties\": {\n        \"dtype\": \"number\",\n        \"std\": 0,\n        \"min\": 0,\n        \"max\": 1,\n        \"num_unique_values\": 2,\n        \"samples\": [\n          0,\n          1\n        ],\n        \"semantic_type\": \"\",\n        \"description\": \"\"\n      }\n    },\n    {\n      \"column\": \"cate\",\n      \"properties\": {\n        \"dtype\": \"number\",\n        \"std\": 2,\n        \"min\": 1,\n        \"max\": 11,\n        \"num_unique_values\": 11,\n        \"samples\": [\n          6,\n          1\n        ],\n        \"semantic_type\": \"\",\n        \"description\": \"\"\n      }\n    },\n    {\n      \"column\": \"subcate\",\n      \"properties\": {\n        \"dtype\": \"number\",\n        \"std\": 173,\n        \"min\": 1,\n        \"max\": 537,\n        \"num_unique_values\": 537,\n        \"samples\": [\n          493,\n          74\n        ],\n        \"semantic_type\": \"\",\n        \"description\": \"\"\n      }\n    }\n  ]\n}"
            }
          },
          "metadata": {},
          "execution_count": 414
        }
      ]
    },
    {
      "cell_type": "markdown",
      "source": [
        "# correlations with the target"
      ],
      "metadata": {
        "id": "lqbLbh5jcUPS"
      }
    },
    {
      "cell_type": "code",
      "source": [
        "import matplotlib.pyplot as plt\n",
        "corr_use = data.corr()['use'].sort_values(ascending=False)\n",
        "plt.figure(figsize=(10, 8))\n",
        "sns.barplot(x=corr_use.index, y=corr_use.values)\n",
        "plt.xticks(rotation=90)\n",
        "plt.show()\n"
      ],
      "metadata": {
        "colab": {
          "base_uri": "https://localhost:8080/",
          "height": 0
        },
        "id": "vbVHsmHdcjFV",
        "outputId": "1294f0bd-be8c-4049-ccb9-6e5aac773900"
      },
      "execution_count": 415,
      "outputs": [
        {
          "output_type": "display_data",
          "data": {
            "text/plain": [
              "<Figure size 1000x800 with 1 Axes>"
            ],
            "image/png": "[encoded data removed]"
          },
          "metadata": {}
        }
      ]
    },
    {
      "cell_type": "code",
      "source": [
        "data=data.drop(columns='subcate',axis=1)"
      ],
      "metadata": {
        "id": "HoM3Og6Nqz3z"
      },
      "execution_count": 416,
      "outputs": []
    },
    {
      "cell_type": "markdown",
      "source": [
        "# splitting data"
      ],
      "metadata": {
        "id": "_sw4U-6hc_ml"
      }
    },
    {
      "cell_type": "code",
      "source": [
        "x=data.drop(columns='use')\n",
        "y=data['use']"
      ],
      "metadata": {
        "id": "CXVUe7DjdUOM"
      },
      "execution_count": 417,
      "outputs": []
    },
    {
      "cell_type": "code",
      "source": [
        "x.shape"
      ],
      "metadata": {
        "colab": {
          "base_uri": "https://localhost:8080/"
        },
        "id": "F5xXSzRupSSH",
        "outputId": "e5348273-c0e6-4a4e-b1c8-4fe138d6810b"
      },
      "execution_count": 418,
      "outputs": [
        {
          "output_type": "execute_result",
          "data": {
            "text/plain": [
              "(782, 7)"
            ]
          },
          "metadata": {},
          "execution_count": 418
        }
      ]
    },
    {
      "cell_type": "code",
      "source": [
        "y.shape"
      ],
      "metadata": {
        "colab": {
          "base_uri": "https://localhost:8080/"
        },
        "id": "7I4yRsTOpT8X",
        "outputId": "2181060d-804e-45a8-b3d7-28a8ef703458"
      },
      "execution_count": 419,
      "outputs": [
        {
          "output_type": "execute_result",
          "data": {
            "text/plain": [
              "(782,)"
            ]
          },
          "metadata": {},
          "execution_count": 419
        }
      ]
    },
    {
      "cell_type": "code",
      "source": [
        "y.value_counts()"
      ],
      "metadata": {
        "colab": {
          "base_uri": "https://localhost:8080/"
        },
        "id": "y2GeNkhPNdk3",
        "outputId": "39185d9b-75c1-4e51-b6a6-c697ded4864f"
      },
      "execution_count": 420,
      "outputs": [
        {
          "output_type": "execute_result",
          "data": {
            "text/plain": [
              "use\n",
              "0    742\n",
              "1     40\n",
              "Name: count, dtype: int64"
            ]
          },
          "metadata": {},
          "execution_count": 420
        }
      ]
    },
    {
      "cell_type": "code",
      "source": [
        "x.isnull().sum()"
      ],
      "metadata": {
        "colab": {
          "base_uri": "https://localhost:8080/"
        },
        "id": "G1QAKNokpVm4",
        "outputId": "cc35a2f9-283a-4ee9-b296-3411adba4099"
      },
      "execution_count": 421,
      "outputs": [
        {
          "output_type": "execute_result",
          "data": {
            "text/plain": [
              "Std               0\n",
              "Heat treatment    0\n",
              "Su                0\n",
              "E                 0\n",
              "G                 0\n",
              "mu                0\n",
              "cate              0\n",
              "dtype: int64"
            ]
          },
          "metadata": {},
          "execution_count": 421
        }
      ]
    },
    {
      "cell_type": "code",
      "source": [
        "from sklearn.model_selection import train_test_split\n",
        "\n",
        "x_train, x_test, y_train, y_test = train_test_split(x, y, test_size=0.2, random_state=42)\n",
        "x_train, x_val, y_train, y_val = train_test_split(x_train, y_train, test_size=0.25, random_state=42)"
      ],
      "metadata": {
        "id": "Bxrd495MLqHX"
      },
      "execution_count": 422,
      "outputs": []
    },
    {
      "cell_type": "markdown",
      "source": [
        "# Ann Model"
      ],
      "metadata": {
        "id": "wTMe6zqKQJTX"
      }
    },
    {
      "cell_type": "code",
      "source": [
        "\n",
        "from tensorflow.keras.models import Sequential\n",
        "from tensorflow.keras.layers import Dense,Dropout\n",
        "from tensorflow.keras import regularizers\n",
        "\n",
        "model = Sequential([\n",
        "    Dense(4, activation='relu', input_shape=(7,)),\n",
        "    Dense(4, activation='relu' ,kernel_regularizer=regularizers.l2(0.001)),\n",
        "    Dropout(0.5),\n",
        "    Dense(2, activation='sigmoid')\n",
        "])\n",
        "\n",
        "model.compile(loss='sparse_categorical_crossentropy', optimizer='adam', metrics=['accuracy'])\n",
        "\n",
        "model.fit(x_train, y_train, epochs=30, batch_size=32, validation_data=(x_val, y_val))\n",
        "\n",
        "\n",
        "loss, accuracy = model.evaluate(x_val, y_val)\n",
        "print('Loss:', loss)\n",
        "print('Accuracy:', accuracy)"
      ],
      "metadata": {
        "colab": {
          "base_uri": "https://localhost:8080/"
        },
        "id": "vXYDtz9jLPxr",
        "outputId": "c484fead-442a-486c-862f-1d9f5ac802d0"
      },
      "execution_count": 423,
      "outputs": [
        {
          "output_type": "stream",
          "name": "stdout",
          "text": [
            "Epoch 1/30\n",
            "15/15 [==============================] - 6s 97ms/step - loss: 2.9170 - accuracy: 0.3419 - val_loss: 2.5791 - val_accuracy: 0.1210\n",
            "Epoch 2/30\n",
            "15/15 [==============================] - 0s 22ms/step - loss: 2.3660 - accuracy: 0.3568 - val_loss: 2.1133 - val_accuracy: 0.1274\n",
            "Epoch 3/30\n",
            "15/15 [==============================] - 0s 10ms/step - loss: 2.2022 - accuracy: 0.4594 - val_loss: 1.7593 - val_accuracy: 0.1783\n",
            "Epoch 4/30\n",
            "15/15 [==============================] - 0s 14ms/step - loss: 1.7331 - accuracy: 0.5342 - val_loss: 1.4916 - val_accuracy: 0.2420\n",
            "Epoch 5/30\n",
            "15/15 [==============================] - 0s 18ms/step - loss: 1.6074 - accuracy: 0.5449 - val_loss: 1.2711 - val_accuracy: 0.2803\n",
            "Epoch 6/30\n",
            "15/15 [==============================] - 0s 18ms/step - loss: 1.3683 - accuracy: 0.5556 - val_loss: 1.0809 - val_accuracy: 0.2994\n",
            "Epoch 7/30\n",
            "15/15 [==============================] - 0s 17ms/step - loss: 1.1234 - accuracy: 0.5983 - val_loss: 0.9373 - val_accuracy: 0.3439\n",
            "Epoch 8/30\n",
            "15/15 [==============================] - 0s 14ms/step - loss: 0.9671 - accuracy: 0.6132 - val_loss: 0.8208 - val_accuracy: 0.3631\n",
            "Epoch 9/30\n",
            "15/15 [==============================] - 0s 18ms/step - loss: 0.8413 - accuracy: 0.6197 - val_loss: 0.7188 - val_accuracy: 0.3885\n",
            "Epoch 10/30\n",
            "15/15 [==============================] - 0s 10ms/step - loss: 0.7585 - accuracy: 0.6175 - val_loss: 0.6324 - val_accuracy: 0.4395\n",
            "Epoch 11/30\n",
            "15/15 [==============================] - 0s 17ms/step - loss: 0.6488 - accuracy: 0.6645 - val_loss: 0.5546 - val_accuracy: 0.7325\n",
            "Epoch 12/30\n",
            "15/15 [==============================] - 0s 13ms/step - loss: 0.5989 - accuracy: 0.6453 - val_loss: 0.4906 - val_accuracy: 0.9618\n",
            "Epoch 13/30\n",
            "15/15 [==============================] - 0s 14ms/step - loss: 0.5092 - accuracy: 0.8825 - val_loss: 0.4290 - val_accuracy: 0.9618\n",
            "Epoch 14/30\n",
            "15/15 [==============================] - 0s 11ms/step - loss: 0.4611 - accuracy: 0.9466 - val_loss: 0.3518 - val_accuracy: 0.9618\n",
            "Epoch 15/30\n",
            "15/15 [==============================] - 0s 8ms/step - loss: 0.4318 - accuracy: 0.9466 - val_loss: 0.2469 - val_accuracy: 0.9618\n",
            "Epoch 16/30\n",
            "15/15 [==============================] - 0s 20ms/step - loss: 0.3546 - accuracy: 0.9466 - val_loss: 0.2109 - val_accuracy: 0.9618\n",
            "Epoch 17/30\n",
            "15/15 [==============================] - 0s 10ms/step - loss: 0.3488 - accuracy: 0.9466 - val_loss: 0.2011 - val_accuracy: 0.9618\n",
            "Epoch 18/30\n",
            "15/15 [==============================] - 0s 8ms/step - loss: 0.3406 - accuracy: 0.9466 - val_loss: 0.1961 - val_accuracy: 0.9618\n",
            "Epoch 19/30\n",
            "15/15 [==============================] - 0s 8ms/step - loss: 0.3767 - accuracy: 0.9466 - val_loss: 0.2003 - val_accuracy: 0.9618\n",
            "Epoch 20/30\n",
            "15/15 [==============================] - 0s 15ms/step - loss: 0.3329 - accuracy: 0.9466 - val_loss: 0.2043 - val_accuracy: 0.9618\n",
            "Epoch 21/30\n",
            "15/15 [==============================] - 0s 15ms/step - loss: 0.3538 - accuracy: 0.9466 - val_loss: 0.2050 - val_accuracy: 0.9618\n",
            "Epoch 22/30\n",
            "15/15 [==============================] - 0s 12ms/step - loss: 0.3103 - accuracy: 0.9466 - val_loss: 0.1969 - val_accuracy: 0.9618\n",
            "Epoch 23/30\n",
            "15/15 [==============================] - 0s 10ms/step - loss: 0.3075 - accuracy: 0.9466 - val_loss: 0.1886 - val_accuracy: 0.9618\n",
            "Epoch 24/30\n",
            "15/15 [==============================] - 0s 8ms/step - loss: 0.2752 - accuracy: 0.9466 - val_loss: 0.1759 - val_accuracy: 0.9618\n",
            "Epoch 25/30\n",
            "15/15 [==============================] - 0s 11ms/step - loss: 0.2823 - accuracy: 0.9466 - val_loss: 0.1681 - val_accuracy: 0.9618\n",
            "Epoch 26/30\n",
            "15/15 [==============================] - 0s 13ms/step - loss: 0.2762 - accuracy: 0.9466 - val_loss: 0.1654 - val_accuracy: 0.9618\n",
            "Epoch 27/30\n",
            "15/15 [==============================] - 0s 17ms/step - loss: 0.2774 - accuracy: 0.9466 - val_loss: 0.1636 - val_accuracy: 0.9618\n",
            "Epoch 28/30\n",
            "15/15 [==============================] - 0s 9ms/step - loss: 0.2598 - accuracy: 0.9466 - val_loss: 0.1616 - val_accuracy: 0.9618\n",
            "Epoch 29/30\n",
            "15/15 [==============================] - 0s 9ms/step - loss: 0.2726 - accuracy: 0.9466 - val_loss: 0.1613 - val_accuracy: 0.9618\n",
            "Epoch 30/30\n",
            "15/15 [==============================] - 0s 12ms/step - loss: 0.2446 - accuracy: 0.9466 - val_loss: 0.1572 - val_accuracy: 0.9618\n",
            "5/5 [==============================] - 0s 5ms/step - loss: 0.1572 - accuracy: 0.9618\n",
            "Loss: 0.15717613697052002\n",
            "Accuracy: 0.9617834687232971\n"
          ]
        }
      ]
    },
    {
      "cell_type": "code",
      "source": [
        "y_pred = model.predict(x_test)"
      ],
      "metadata": {
        "colab": {
          "base_uri": "https://localhost:8080/"
        },
        "id": "UDBGPcK--ZWt",
        "outputId": "f1ce5864-38b1-4226-e4e4-294ebce53023"
      },
      "execution_count": 424,
      "outputs": [
        {
          "output_type": "stream",
          "name": "stdout",
          "text": [
            "5/5 [==============================] - 0s 7ms/step\n"
          ]
        }
      ]
    },
    {
      "cell_type": "code",
      "source": [
        "predicted_classes = np.argmax(y_pred, axis=-1)"
      ],
      "metadata": {
        "id": "d-Zz9hrX-aXu"
      },
      "execution_count": 425,
      "outputs": []
    },
    {
      "cell_type": "code",
      "source": [
        "from sklearn.metrics import accuracy_score, confusion_matrix, classification_report , recall_score\n",
        "\n",
        "accuracy = accuracy_score(y_test, predicted_classes)\n",
        "confusion_matrix = confusion_matrix(y_test, predicted_classes)\n",
        "\n",
        "\n",
        "print(\"Accuracy:\", accuracy)\n",
        "print(\"Confusion Matrix:\\n\", confusion_matrix)\n",
        "mean_recall_score = recall_score(y_test,predicted_classes, average='macro')\n",
        "print(f\"\\nMean Recall Across Outputs: {mean_recall_score:.4f}\")"
      ],
      "metadata": {
        "colab": {
          "base_uri": "https://localhost:8080/"
        },
        "id": "fAPi8mi1--Cv",
        "outputId": "e108def0-720f-47a1-f967-4446c6dac932"
      },
      "execution_count": 426,
      "outputs": [
        {
          "output_type": "stream",
          "name": "stdout",
          "text": [
            "Accuracy: 0.9426751592356688\n",
            "Confusion Matrix:\n",
            " [[148   0]\n",
            " [  9   0]]\n",
            "\n",
            "Mean Recall Across Outputs: 0.5000\n"
          ]
        }
      ]
    },
    {
      "cell_type": "code",
      "source": [
        "import seaborn as sns\n",
        "import matplotlib.pyplot as plt\n",
        "\n",
        "ax = plt.subplot()\n",
        "sns.heatmap(confusion_matrix, annot=True, ax=ax)\n",
        "\n",
        "ax.set_xlabel('Predicted labels')\n",
        "ax.set_ylabel('True labels')\n",
        "ax.set_title('Confusion Matrix')\n",
        "ax.xaxis.set_ticklabels(['Class 0', 'Class 1'])\n",
        "ax.yaxis.set_ticklabels(['Class 0', 'Class 1'])\n",
        "\n",
        "plt.show()\n"
      ],
      "metadata": {
        "colab": {
          "base_uri": "https://localhost:8080/",
          "height": 472
        },
        "id": "ybyTU4Sg_JRt",
        "outputId": "31320980-2f1f-46a9-fa70-70641fef4e7b"
      },
      "execution_count": 427,
      "outputs": [
        {
          "output_type": "display_data",
          "data": {
            "text/plain": [
              "<Figure size 640x480 with 2 Axes>"
            ],
            "image/png": "[encoded data removed]"
          },
          "metadata": {}
        }
      ]
    },
    {
      "cell_type": "code",
      "source": [
        "x.columns"
      ],
      "metadata": {
        "colab": {
          "base_uri": "https://localhost:8080/"
        },
        "id": "OosLHuBBSz7o",
        "outputId": "863df13f-8486-491d-e58c-2292d03f55a1"
      },
      "execution_count": 428,
      "outputs": [
        {
          "output_type": "execute_result",
          "data": {
            "text/plain": [
              "Index(['Std', 'Heat treatment', 'Su', 'E', 'G', 'mu', 'cate'], dtype='object')"
            ]
          },
          "metadata": {},
          "execution_count": 428
        }
      ]
    },
    {
      "cell_type": "code",
      "source": [
        "x_test"
      ],
      "metadata": {
        "colab": {
          "base_uri": "https://localhost:8080/",
          "height": 423
        },
        "id": "SXtIKYgEdYH7",
        "outputId": "30b8d2be-2270-4ede-9814-52109f9c43ee"
      },
      "execution_count": 429,
      "outputs": [
        {
          "output_type": "execute_result",
          "data": {
            "text/plain": [
              "     Std  Heat treatment        Su         E         G        mu  cate\n",
              "615    6               2 -0.078192  0.899795 -0.121672 -0.576813     1\n",
              "607    6              27  0.124777  0.646100 -0.156687 -0.576813     1\n",
              "222    1              16 -0.517111 -1.367605 -0.454313  1.340054     4\n",
              "305    1              16 -0.935733 -1.367605 -0.454313  1.340054     4\n",
              "186    1              10 -1.303613 -1.367605 -0.454313  1.340054     4\n",
              "..   ...             ...       ...       ...       ...       ...   ...\n",
              "79     1               3 -0.149230  0.757092 -0.145015 -0.576813     1\n",
              "156    1               5  3.384956  0.646100  3.881701 -0.576813     1\n",
              "348    1              16 -1.021994 -1.367605 -0.454313  1.340054     4\n",
              "218    1              16 -1.128553 -1.367605 -0.454313  1.340054     4\n",
              "310    1              16 -0.550093 -1.367605 -0.454313  1.340054     4\n",
              "\n",
              "[157 rows x 7 columns]"
            ],
            "text/html": [
              "\n",
              "  <div id=\"df-32405d09-f8b2-45de-b45e-273913cb55a4\" class=\"colab-df-container\">\n",
              "    <div>\n",
              "<style scoped>\n",
              "    .dataframe tbody tr th:only-of-type {\n",
              "        vertical-align: middle;\n",
              "    }\n",
              "\n",
              "    .dataframe tbody tr th {\n",
              "        vertical-align: top;\n",
              "    }\n",
              "\n",
              "    .dataframe thead th {\n",
              "        text-align: right;\n",
              "    }\n",
              "</style>\n",
              "<table border=\"1\" class=\"dataframe\">\n",
              "  <thead>\n",
              "    <tr style=\"text-align: right;\">\n",
              "      <th></th>\n",
              "      <th>Std</th>\n",
              "      <th>Heat treatment</th>\n",
              "      <th>Su</th>\n",
              "      <th>E</th>\n",
              "      <th>G</th>\n",
              "      <th>mu</th>\n",
              "      <th>cate</th>\n",
              "    </tr>\n",
              "  </thead>\n",
              "  <tbody>\n",
              "    <tr>\n",
              "      <th>615</th>\n",
              "      <td>6</td>\n",
              "      <td>2</td>\n",
              "      <td>-0.078192</td>\n",
              "      <td>0.899795</td>\n",
              "      <td>-0.121672</td>\n",
              "      <td>-0.576813</td>\n",
              "      <td>1</td>\n",
              "    </tr>\n",
              "    <tr>\n",
              "      <th>607</th>\n",
              "      <td>6</td>\n",
              "      <td>27</td>\n",
              "      <td>0.124777</td>\n",
              "      <td>0.646100</td>\n",
              "      <td>-0.156687</td>\n",
              "      <td>-0.576813</td>\n",
              "      <td>1</td>\n",
              "    </tr>\n",
              "    <tr>\n",
              "      <th>222</th>\n",
              "      <td>1</td>\n",
              "      <td>16</td>\n",
              "      <td>-0.517111</td>\n",
              "      <td>-1.367605</td>\n",
              "      <td>-0.454313</td>\n",
              "      <td>1.340054</td>\n",
              "      <td>4</td>\n",
              "    </tr>\n",
              "    <tr>\n",
              "      <th>305</th>\n",
              "      <td>1</td>\n",
              "      <td>16</td>\n",
              "      <td>-0.935733</td>\n",
              "      <td>-1.367605</td>\n",
              "      <td>-0.454313</td>\n",
              "      <td>1.340054</td>\n",
              "      <td>4</td>\n",
              "    </tr>\n",
              "    <tr>\n",
              "      <th>186</th>\n",
              "      <td>1</td>\n",
              "      <td>10</td>\n",
              "      <td>-1.303613</td>\n",
              "      <td>-1.367605</td>\n",
              "      <td>-0.454313</td>\n",
              "      <td>1.340054</td>\n",
              "      <td>4</td>\n",
              "    </tr>\n",
              "    <tr>\n",
              "      <th>...</th>\n",
              "      <td>...</td>\n",
              "      <td>...</td>\n",
              "      <td>...</td>\n",
              "      <td>...</td>\n",
              "      <td>...</td>\n",
              "      <td>...</td>\n",
              "      <td>...</td>\n",
              "    </tr>\n",
              "    <tr>\n",
              "      <th>79</th>\n",
              "      <td>1</td>\n",
              "      <td>3</td>\n",
              "      <td>-0.149230</td>\n",
              "      <td>0.757092</td>\n",
              "      <td>-0.145015</td>\n",
              "      <td>-0.576813</td>\n",
              "      <td>1</td>\n",
              "    </tr>\n",
              "    <tr>\n",
              "      <th>156</th>\n",
              "      <td>1</td>\n",
              "      <td>5</td>\n",
              "      <td>3.384956</td>\n",
              "      <td>0.646100</td>\n",
              "      <td>3.881701</td>\n",
              "      <td>-0.576813</td>\n",
              "      <td>1</td>\n",
              "    </tr>\n",
              "    <tr>\n",
              "      <th>348</th>\n",
              "      <td>1</td>\n",
              "      <td>16</td>\n",
              "      <td>-1.021994</td>\n",
              "      <td>-1.367605</td>\n",
              "      <td>-0.454313</td>\n",
              "      <td>1.340054</td>\n",
              "      <td>4</td>\n",
              "    </tr>\n",
              "    <tr>\n",
              "      <th>218</th>\n",
              "      <td>1</td>\n",
              "      <td>16</td>\n",
              "      <td>-1.128553</td>\n",
              "      <td>-1.367605</td>\n",
              "      <td>-0.454313</td>\n",
              "      <td>1.340054</td>\n",
              "      <td>4</td>\n",
              "    </tr>\n",
              "    <tr>\n",
              "      <th>310</th>\n",
              "      <td>1</td>\n",
              "      <td>16</td>\n",
              "      <td>-0.550093</td>\n",
              "      <td>-1.367605</td>\n",
              "      <td>-0.454313</td>\n",
              "      <td>1.340054</td>\n",
              "      <td>4</td>\n",
              "    </tr>\n",
              "  </tbody>\n",
              "</table>\n",
              "<p>157 rows × 7 columns</p>\n",
              "</div>\n",
              "    <div class=\"colab-df-buttons\">\n",
              "\n",
              "  <div class=\"colab-df-container\">\n",
              "    <button class=\"colab-df-convert\" onclick=\"convertToInteractive('df-32405d09-f8b2-45de-b45e-273913cb55a4')\"\n",
              "            title=\"Convert this dataframe to an interactive table.\"\n",
              "            style=\"display:none;\">\n",
              "\n",
              "  <svg xmlns=\"http://www.w3.org/2000/svg\" height=\"24px\" viewBox=\"0 -960 960 960\">\n",
              "    <path d=\"M120-120v-720h720v720H120Zm60-500h600v-160H180v160Zm220 220h160v-160H400v160Zm0 220h160v-160H400v160ZM180-400h160v-160H180v160Zm440 0h160v-160H620v160ZM180-180h160v-160H180v160Zm440 0h160v-160H620v160Z\"/>\n",
              "  </svg>\n",
              "    </button>\n",
              "\n",
              "  <style>\n",
              "    .colab-df-container {\n",
              "      display:flex;\n",
              "      gap: 12px;\n",
              "    }\n",
              "\n",
              "    .colab-df-convert {\n",
              "      background-color: #E8F0FE;\n",
              "      border: none;\n",
              "      border-radius: 50%;\n",
              "      cursor: pointer;\n",
              "      display: none;\n",
              "      fill: #1967D2;\n",
              "      height: 32px;\n",
              "      padding: 0 0 0 0;\n",
              "      width: 32px;\n",
              "    }\n",
              "\n",
              "    .colab-df-convert:hover {\n",
              "      background-color: #E2EBFA;\n",
              "      box-shadow: 0px 1px 2px rgba(60, 64, 67, 0.3), 0px 1px 3px 1px rgba(60, 64, 67, 0.15);\n",
              "      fill: #174EA6;\n",
              "    }\n",
              "\n",
              "    .colab-df-buttons div {\n",
              "      margin-bottom: 4px;\n",
              "    }\n",
              "\n",
              "    [theme=dark] .colab-df-convert {\n",
              "      background-color: #3B4455;\n",
              "      fill: #D2E3FC;\n",
              "    }\n",
              "\n",
              "    [theme=dark] .colab-df-convert:hover {\n",
              "      background-color: #434B5C;\n",
              "      box-shadow: 0px 1px 3px 1px rgba(0, 0, 0, 0.15);\n",
              "      filter: drop-shadow(0px 1px 2px rgba(0, 0, 0, 0.3));\n",
              "      fill: #FFFFFF;\n",
              "    }\n",
              "  </style>\n",
              "\n",
              "    <script>\n",
              "      const buttonEl =\n",
              "        document.querySelector('#df-32405d09-f8b2-45de-b45e-273913cb55a4 button.colab-df-convert');\n",
              "      buttonEl.style.display =\n",
              "        google.colab.kernel.accessAllowed ? 'block' : 'none';\n",
              "\n",
              "      async function convertToInteractive(key) {\n",
              "        const element = document.querySelector('#df-32405d09-f8b2-45de-b45e-273913cb55a4');\n",
              "        const dataTable =\n",
              "          await google.colab.kernel.invokeFunction('convertToInteractive',\n",
              "                                                    [key], {});\n",
              "        if (!dataTable) return;\n",
              "\n",
              "        const docLinkHtml = 'Like what you see? Visit the ' +\n",
              "          '<a target=\"_blank\" href=https://colab.research.google.com/notebooks/data_table.ipynb>data table notebook</a>'\n",
              "          + ' to learn more about interactive tables.';\n",
              "        element.innerHTML = '';\n",
              "        dataTable['output_type'] = 'display_data';\n",
              "        await google.colab.output.renderOutput(dataTable, element);\n",
              "        const docLink = document.createElement('div');\n",
              "        docLink.innerHTML = docLinkHtml;\n",
              "        element.appendChild(docLink);\n",
              "      }\n",
              "    </script>\n",
              "  </div>\n",
              "\n",
              "\n",
              "<div id=\"df-7512f0ad-0246-459a-9612-96433bacc4e2\">\n",
              "  <button class=\"colab-df-quickchart\" onclick=\"quickchart('df-7512f0ad-0246-459a-9612-96433bacc4e2')\"\n",
              "            title=\"Suggest charts\"\n",
              "            style=\"display:none;\">\n",
              "\n",
              "<svg xmlns=\"http://www.w3.org/2000/svg\" height=\"24px\"viewBox=\"0 0 24 24\"\n",
              "     width=\"24px\">\n",
              "    <g>\n",
              "        <path d=\"M19 3H5c-1.1 0-2 .9-2 2v14c0 1.1.9 2 2 2h14c1.1 0 2-.9 2-2V5c0-1.1-.9-2-2-2zM9 17H7v-7h2v7zm4 0h-2V7h2v10zm4 0h-2v-4h2v4z\"/>\n",
              "    </g>\n",
              "</svg>\n",
              "  </button>\n",
              "\n",
              "<style>\n",
              "  .colab-df-quickchart {\n",
              "      --bg-color: #E8F0FE;\n",
              "      --fill-color: #1967D2;\n",
              "      --hover-bg-color: #E2EBFA;\n",
              "      --hover-fill-color: #174EA6;\n",
              "      --disabled-fill-color: #AAA;\n",
              "      --disabled-bg-color: #DDD;\n",
              "  }\n",
              "\n",
              "  [theme=dark] .colab-df-quickchart {\n",
              "      --bg-color: #3B4455;\n",
              "      --fill-color: #D2E3FC;\n",
              "      --hover-bg-color: #434B5C;\n",
              "      --hover-fill-color: #FFFFFF;\n",
              "      --disabled-bg-color: #3B4455;\n",
              "      --disabled-fill-color: #666;\n",
              "  }\n",
              "\n",
              "  .colab-df-quickchart {\n",
              "    background-color: var(--bg-color);\n",
              "    border: none;\n",
              "    border-radius: 50%;\n",
              "    cursor: pointer;\n",
              "    display: none;\n",
              "    fill: var(--fill-color);\n",
              "    height: 32px;\n",
              "    padding: 0;\n",
              "    width: 32px;\n",
              "  }\n",
              "\n",
              "  .colab-df-quickchart:hover {\n",
              "    background-color: var(--hover-bg-color);\n",
              "    box-shadow: 0 1px 2px rgba(60, 64, 67, 0.3), 0 1px 3px 1px rgba(60, 64, 67, 0.15);\n",
              "    fill: var(--button-hover-fill-color);\n",
              "  }\n",
              "\n",
              "  .colab-df-quickchart-complete:disabled,\n",
              "  .colab-df-quickchart-complete:disabled:hover {\n",
              "    background-color: var(--disabled-bg-color);\n",
              "    fill: var(--disabled-fill-color);\n",
              "    box-shadow: none;\n",
              "  }\n",
              "\n",
              "  .colab-df-spinner {\n",
              "    border: 2px solid var(--fill-color);\n",
              "    border-color: transparent;\n",
              "    border-bottom-color: var(--fill-color);\n",
              "    animation:\n",
              "      spin 1s steps(1) infinite;\n",
              "  }\n",
              "\n",
              "  @keyframes spin {\n",
              "    0% {\n",
              "      border-color: transparent;\n",
              "      border-bottom-color: var(--fill-color);\n",
              "      border-left-color: var(--fill-color);\n",
              "    }\n",
              "    20% {\n",
              "      border-color: transparent;\n",
              "      border-left-color: var(--fill-color);\n",
              "      border-top-color: var(--fill-color);\n",
              "    }\n",
              "    30% {\n",
              "      border-color: transparent;\n",
              "      border-left-color: var(--fill-color);\n",
              "      border-top-color: var(--fill-color);\n",
              "      border-right-color: var(--fill-color);\n",
              "    }\n",
              "    40% {\n",
              "      border-color: transparent;\n",
              "      border-right-color: var(--fill-color);\n",
              "      border-top-color: var(--fill-color);\n",
              "    }\n",
              "    60% {\n",
              "      border-color: transparent;\n",
              "      border-right-color: var(--fill-color);\n",
              "    }\n",
              "    80% {\n",
              "      border-color: transparent;\n",
              "      border-right-color: var(--fill-color);\n",
              "      border-bottom-color: var(--fill-color);\n",
              "    }\n",
              "    90% {\n",
              "      border-color: transparent;\n",
              "      border-bottom-color: var(--fill-color);\n",
              "    }\n",
              "  }\n",
              "</style>\n",
              "\n",
              "  <script>\n",
              "    async function quickchart(key) {\n",
              "      const quickchartButtonEl =\n",
              "        document.querySelector('#' + key + ' button');\n",
              "      quickchartButtonEl.disabled = true;  // To prevent multiple clicks.\n",
              "      quickchartButtonEl.classList.add('colab-df-spinner');\n",
              "      try {\n",
              "        const charts = await google.colab.kernel.invokeFunction(\n",
              "            'suggestCharts', [key], {});\n",
              "      } catch (error) {\n",
              "        console.error('Error during call to suggestCharts:', error);\n",
              "      }\n",
              "      quickchartButtonEl.classList.remove('colab-df-spinner');\n",
              "      quickchartButtonEl.classList.add('colab-df-quickchart-complete');\n",
              "    }\n",
              "    (() => {\n",
              "      let quickchartButtonEl =\n",
              "        document.querySelector('#df-7512f0ad-0246-459a-9612-96433bacc4e2 button');\n",
              "      quickchartButtonEl.style.display =\n",
              "        google.colab.kernel.accessAllowed ? 'block' : 'none';\n",
              "    })();\n",
              "  </script>\n",
              "</div>\n",
              "\n",
              "  <div id=\"id_cbde9bf3-c12f-48a8-8d59-be47b44c636e\">\n",
              "    <style>\n",
              "      .colab-df-generate {\n",
              "        background-color: #E8F0FE;\n",
              "        border: none;\n",
              "        border-radius: 50%;\n",
              "        cursor: pointer;\n",
              "        display: none;\n",
              "        fill: #1967D2;\n",
              "        height: 32px;\n",
              "        padding: 0 0 0 0;\n",
              "        width: 32px;\n",
              "      }\n",
              "\n",
              "      .colab-df-generate:hover {\n",
              "        background-color: #E2EBFA;\n",
              "        box-shadow: 0px 1px 2px rgba(60, 64, 67, 0.3), 0px 1px 3px 1px rgba(60, 64, 67, 0.15);\n",
              "        fill: #174EA6;\n",
              "      }\n",
              "\n",
              "      [theme=dark] .colab-df-generate {\n",
              "        background-color: #3B4455;\n",
              "        fill: #D2E3FC;\n",
              "      }\n",
              "\n",
              "      [theme=dark] .colab-df-generate:hover {\n",
              "        background-color: #434B5C;\n",
              "        box-shadow: 0px 1px 3px 1px rgba(0, 0, 0, 0.15);\n",
              "        filter: drop-shadow(0px 1px 2px rgba(0, 0, 0, 0.3));\n",
              "        fill: #FFFFFF;\n",
              "      }\n",
              "    </style>\n",
              "    <button class=\"colab-df-generate\" onclick=\"generateWithVariable('x_test')\"\n",
              "            title=\"Generate code using this dataframe.\"\n",
              "            style=\"display:none;\">\n",
              "\n",
              "  <svg xmlns=\"http://www.w3.org/2000/svg\" height=\"24px\"viewBox=\"0 0 24 24\"\n",
              "       width=\"24px\">\n",
              "    <path d=\"M7,19H8.4L18.45,9,17,7.55,7,17.6ZM5,21V16.75L18.45,3.32a2,2,0,0,1,2.83,0l1.4,1.43a1.91,1.91,0,0,1,.58,1.4,1.91,1.91,0,0,1-.58,1.4L9.25,21ZM18.45,9,17,7.55Zm-12,3A5.31,5.31,0,0,0,4.9,8.1,5.31,5.31,0,0,0,1,6.5,5.31,5.31,0,0,0,4.9,4.9,5.31,5.31,0,0,0,6.5,1,5.31,5.31,0,0,0,8.1,4.9,5.31,5.31,0,0,0,12,6.5,5.46,5.46,0,0,0,6.5,12Z\"/>\n",
              "  </svg>\n",
              "    </button>\n",
              "    <script>\n",
              "      (() => {\n",
              "      const buttonEl =\n",
              "        document.querySelector('#id_cbde9bf3-c12f-48a8-8d59-be47b44c636e button.colab-df-generate');\n",
              "      buttonEl.style.display =\n",
              "        google.colab.kernel.accessAllowed ? 'block' : 'none';\n",
              "\n",
              "      buttonEl.onclick = () => {\n",
              "        google.colab.notebook.generateWithVariable('x_test');\n",
              "      }\n",
              "      })();\n",
              "    </script>\n",
              "  </div>\n",
              "\n",
              "    </div>\n",
              "  </div>\n"
            ],
            "application/vnd.google.colaboratory.intrinsic+json": {
              "type": "dataframe",
              "variable_name": "x_test",
              "summary": "{\n  \"name\": \"x_test\",\n  \"rows\": 157,\n  \"fields\": [\n    {\n      \"column\": \"Std\",\n      \"properties\": {\n        \"dtype\": \"number\",\n        \"std\": 2,\n        \"min\": 1,\n        \"max\": 7,\n        \"num_unique_values\": 7,\n        \"samples\": [\n          6,\n          1,\n          3\n        ],\n        \"semantic_type\": \"\",\n        \"description\": \"\"\n      }\n    },\n    {\n      \"column\": \"Heat treatment\",\n      \"properties\": {\n        \"dtype\": \"number\",\n        \"std\": 8,\n        \"min\": 1,\n        \"max\": 28,\n        \"num_unique_values\": 22,\n        \"samples\": [\n          2,\n          25,\n          3\n        ],\n        \"semantic_type\": \"\",\n        \"description\": \"\"\n      }\n    },\n    {\n      \"column\": \"Su\",\n      \"properties\": {\n        \"dtype\": \"number\",\n        \"std\": 1.0133848491147577,\n        \"min\": -1.3721147692859499,\n        \"max\": 4.031917572387499,\n        \"num_unique_values\": 109,\n        \"samples\": [\n          -0.5856124096996732,\n          0.2668546639164201,\n          -1.3036129508703709\n        ],\n        \"semantic_type\": \"\",\n        \"description\": \"\"\n      }\n    },\n    {\n      \"column\": \"E\",\n      \"properties\": {\n        \"dtype\": \"number\",\n        \"std\": 1.0228041800077408,\n        \"min\": -1.3676050504345831,\n        \"max\": 0.9473631538833143,\n        \"num_unique_values\": 17,\n        \"samples\": [\n          0.899795314068563,\n          0.6461001683898893,\n          0.8522274742538116\n        ],\n        \"semantic_type\": \"\",\n        \"description\": \"\"\n      }\n    },\n    {\n      \"column\": \"G\",\n      \"properties\": {\n        \"dtype\": \"number\",\n        \"std\": 0.7294331539202956,\n        \"min\": -0.4543134880897749,\n        \"max\": 3.881700721309818,\n        \"num_unique_values\": 11,\n        \"samples\": [\n          -0.12750757190353368,\n          -0.12167175197163653,\n          -0.13334339183543087\n        ],\n        \"semantic_type\": \"\",\n        \"description\": \"\"\n      }\n    },\n    {\n      \"column\": \"mu\",\n      \"properties\": {\n        \"dtype\": \"number\",\n        \"std\": 1.0228544976946943,\n        \"min\": -1.2157683774119992,\n        \"max\": 1.3400540044606755,\n        \"num_unique_values\": 3,\n        \"samples\": [\n          -0.5768127819438306,\n          1.3400540044606755,\n          -1.2157683774119992\n        ],\n        \"semantic_type\": \"\",\n        \"description\": \"\"\n      }\n    },\n    {\n      \"column\": \"cate\",\n      \"properties\": {\n        \"dtype\": \"number\",\n        \"std\": 2,\n        \"min\": 1,\n        \"max\": 10,\n        \"num_unique_values\": 8,\n        \"samples\": [\n          4,\n          7,\n          1\n        ],\n        \"semantic_type\": \"\",\n        \"description\": \"\"\n      }\n    }\n  ]\n}"
            }
          },
          "metadata": {},
          "execution_count": 429
        }
      ]
    },
    {
      "cell_type": "markdown",
      "source": [
        "# Interface"
      ],
      "metadata": {
        "id": "YrlsVwPnPdxP"
      }
    },
    {
      "cell_type": "code",
      "source": [
        "!pip install gradio"
      ],
      "metadata": {
        "colab": {
          "base_uri": "https://localhost:8080/"
        },
        "id": "YKXJBvsdWZ8S",
        "outputId": "3b77b336-421c-4820-8422-60e25f5f1f9b"
      },
      "execution_count": 430,
      "outputs": [
        {
          "output_type": "stream",
          "name": "stdout",
          "text": [
            "Requirement already satisfied: gradio in /usr/local/lib/python3.10/dist-packages (4.37.2)\n",
            "Requirement already satisfied: aiofiles<24.0,>=22.0 in /usr/local/lib/python3.10/dist-packages (from gradio) (23.2.1)\n",
            "Requirement already satisfied: altair<6.0,>=4.2.0 in /usr/local/lib/python3.10/dist-packages (from gradio) (4.2.2)\n",
            "Requirement already satisfied: fastapi in /usr/local/lib/python3.10/dist-packages (from gradio) (0.111.0)\n",
            "Requirement already satisfied: ffmpy in /usr/local/lib/python3.10/dist-packages (from gradio) (0.3.2)\n",
            "Requirement already satisfied: gradio-client==1.0.2 in /usr/local/lib/python3.10/dist-packages (from gradio) (1.0.2)\n",
            "Requirement already satisfied: httpx>=0.24.1 in /usr/local/lib/python3.10/dist-packages (from gradio) (0.27.0)\n",
            "Requirement already satisfied: huggingface-hub>=0.19.3 in /usr/local/lib/python3.10/dist-packages (from gradio) (0.23.4)\n",
            "Requirement already satisfied: importlib-resources<7.0,>=1.3 in /usr/local/lib/python3.10/dist-packages (from gradio) (6.4.0)\n",
            "Requirement already satisfied: jinja2<4.0 in /usr/local/lib/python3.10/dist-packages (from gradio) (3.1.4)\n",
            "Requirement already satisfied: markupsafe~=2.0 in /usr/local/lib/python3.10/dist-packages (from gradio) (2.1.5)\n",
            "Requirement already satisfied: matplotlib~=3.0 in /usr/local/lib/python3.10/dist-packages (from gradio) (3.7.1)\n",
            "Requirement already satisfied: numpy<3.0,>=1.0 in /usr/local/lib/python3.10/dist-packages (from gradio) (1.25.2)\n",
            "Requirement already satisfied: orjson~=3.0 in /usr/local/lib/python3.10/dist-packages (from gradio) (3.10.6)\n",
            "Requirement already satisfied: packaging in /usr/local/lib/python3.10/dist-packages (from gradio) (24.1)\n",
            "Requirement already satisfied: pandas<3.0,>=1.0 in /usr/local/lib/python3.10/dist-packages (from gradio) (2.0.3)\n",
            "Requirement already satisfied: pillow<11.0,>=8.0 in /usr/local/lib/python3.10/dist-packages (from gradio) (9.4.0)\n",
            "Requirement already satisfied: pydantic>=2.0 in /usr/local/lib/python3.10/dist-packages (from gradio) (2.8.0)\n",
            "Requirement already satisfied: pydub in /usr/local/lib/python3.10/dist-packages (from gradio) (0.25.1)\n",
            "Requirement already satisfied: python-multipart>=0.0.9 in /usr/local/lib/python3.10/dist-packages (from gradio) (0.0.9)\n",
            "Requirement already satisfied: pyyaml<7.0,>=5.0 in /usr/local/lib/python3.10/dist-packages (from gradio) (6.0.1)\n",
            "Requirement already satisfied: ruff>=0.2.2 in /usr/local/lib/python3.10/dist-packages (from gradio) (0.5.1)\n",
            "Requirement already satisfied: semantic-version~=2.0 in /usr/local/lib/python3.10/dist-packages (from gradio) (2.10.0)\n",
            "Requirement already satisfied: tomlkit==0.12.0 in /usr/local/lib/python3.10/dist-packages (from gradio) (0.12.0)\n",
            "Requirement already satisfied: typer<1.0,>=0.12 in /usr/local/lib/python3.10/dist-packages (from gradio) (0.12.3)\n",
            "Requirement already satisfied: typing-extensions~=4.0 in /usr/local/lib/python3.10/dist-packages (from gradio) (4.12.2)\n",
            "Requirement already satisfied: urllib3~=2.0 in /usr/local/lib/python3.10/dist-packages (from gradio) (2.0.7)\n",
            "Requirement already satisfied: uvicorn>=0.14.0 in /usr/local/lib/python3.10/dist-packages (from gradio) (0.30.1)\n",
            "Requirement already satisfied: fsspec in /usr/local/lib/python3.10/dist-packages (from gradio-client==1.0.2->gradio) (2023.6.0)\n",
            "Requirement already satisfied: websockets<12.0,>=10.0 in /usr/local/lib/python3.10/dist-packages (from gradio-client==1.0.2->gradio) (11.0.3)\n",
            "Requirement already satisfied: entrypoints in /usr/local/lib/python3.10/dist-packages (from altair<6.0,>=4.2.0->gradio) (0.4)\n",
            "Requirement already satisfied: jsonschema>=3.0 in /usr/local/lib/python3.10/dist-packages (from altair<6.0,>=4.2.0->gradio) (4.19.2)\n",
            "Requirement already satisfied: toolz in /usr/local/lib/python3.10/dist-packages (from altair<6.0,>=4.2.0->gradio) (0.12.1)\n",
            "Requirement already satisfied: anyio in /usr/local/lib/python3.10/dist-packages (from httpx>=0.24.1->gradio) (3.7.1)\n",
            "Requirement already satisfied: certifi in /usr/local/lib/python3.10/dist-packages (from httpx>=0.24.1->gradio) (2024.6.2)\n",
            "Requirement already satisfied: httpcore==1.* in /usr/local/lib/python3.10/dist-packages (from httpx>=0.24.1->gradio) (1.0.5)\n",
            "Requirement already satisfied: idna in /usr/local/lib/python3.10/dist-packages (from httpx>=0.24.1->gradio) (3.7)\n",
            "Requirement already satisfied: sniffio in /usr/local/lib/python3.10/dist-packages (from httpx>=0.24.1->gradio) (1.3.1)\n",
            "Requirement already satisfied: h11<0.15,>=0.13 in /usr/local/lib/python3.10/dist-packages (from httpcore==1.*->httpx>=0.24.1->gradio) (0.14.0)\n",
            "Requirement already satisfied: filelock in /usr/local/lib/python3.10/dist-packages (from huggingface-hub>=0.19.3->gradio) (3.15.4)\n",
            "Requirement already satisfied: requests in /usr/local/lib/python3.10/dist-packages (from huggingface-hub>=0.19.3->gradio) (2.31.0)\n",
            "Requirement already satisfied: tqdm>=4.42.1 in /usr/local/lib/python3.10/dist-packages (from huggingface-hub>=0.19.3->gradio) (4.66.4)\n",
            "Requirement already satisfied: contourpy>=1.0.1 in /usr/local/lib/python3.10/dist-packages (from matplotlib~=3.0->gradio) (1.2.1)\n",
            "Requirement already satisfied: cycler>=0.10 in /usr/local/lib/python3.10/dist-packages (from matplotlib~=3.0->gradio) (0.12.1)\n",
            "Requirement already satisfied: fonttools>=4.22.0 in /usr/local/lib/python3.10/dist-packages (from matplotlib~=3.0->gradio) (4.53.0)\n",
            "Requirement already satisfied: kiwisolver>=1.0.1 in /usr/local/lib/python3.10/dist-packages (from matplotlib~=3.0->gradio) (1.4.5)\n",
            "Requirement already satisfied: pyparsing>=2.3.1 in /usr/local/lib/python3.10/dist-packages (from matplotlib~=3.0->gradio) (3.1.2)\n",
            "Requirement already satisfied: python-dateutil>=2.7 in /usr/local/lib/python3.10/dist-packages (from matplotlib~=3.0->gradio) (2.8.2)\n",
            "Requirement already satisfied: pytz>=2020.1 in /usr/local/lib/python3.10/dist-packages (from pandas<3.0,>=1.0->gradio) (2023.4)\n",
            "Requirement already satisfied: tzdata>=2022.1 in /usr/local/lib/python3.10/dist-packages (from pandas<3.0,>=1.0->gradio) (2024.1)\n",
            "Requirement already satisfied: annotated-types>=0.4.0 in /usr/local/lib/python3.10/dist-packages (from pydantic>=2.0->gradio) (0.7.0)\n",
            "Requirement already satisfied: pydantic-core==2.20.0 in /usr/local/lib/python3.10/dist-packages (from pydantic>=2.0->gradio) (2.20.0)\n",
            "Requirement already satisfied: click>=8.0.0 in /usr/local/lib/python3.10/dist-packages (from typer<1.0,>=0.12->gradio) (8.1.7)\n",
            "Requirement already satisfied: shellingham>=1.3.0 in /usr/local/lib/python3.10/dist-packages (from typer<1.0,>=0.12->gradio) (1.5.4)\n",
            "Requirement already satisfied: rich>=10.11.0 in /usr/local/lib/python3.10/dist-packages (from typer<1.0,>=0.12->gradio) (13.7.1)\n",
            "Requirement already satisfied: starlette<0.38.0,>=0.37.2 in /usr/local/lib/python3.10/dist-packages (from fastapi->gradio) (0.37.2)\n",
            "Requirement already satisfied: fastapi-cli>=0.0.2 in /usr/local/lib/python3.10/dist-packages (from fastapi->gradio) (0.0.4)\n",
            "Requirement already satisfied: ujson!=4.0.2,!=4.1.0,!=4.2.0,!=4.3.0,!=5.0.0,!=5.1.0,>=4.0.1 in /usr/local/lib/python3.10/dist-packages (from fastapi->gradio) (5.10.0)\n",
            "Requirement already satisfied: email_validator>=2.0.0 in /usr/local/lib/python3.10/dist-packages (from fastapi->gradio) (2.2.0)\n",
            "Requirement already satisfied: dnspython>=2.0.0 in /usr/local/lib/python3.10/dist-packages (from email_validator>=2.0.0->fastapi->gradio) (2.6.1)\n",
            "Requirement already satisfied: attrs>=22.2.0 in /usr/local/lib/python3.10/dist-packages (from jsonschema>=3.0->altair<6.0,>=4.2.0->gradio) (23.2.0)\n",
            "Requirement already satisfied: jsonschema-specifications>=2023.03.6 in /usr/local/lib/python3.10/dist-packages (from jsonschema>=3.0->altair<6.0,>=4.2.0->gradio) (2023.12.1)\n",
            "Requirement already satisfied: referencing>=0.28.4 in /usr/local/lib/python3.10/dist-packages (from jsonschema>=3.0->altair<6.0,>=4.2.0->gradio) (0.35.1)\n",
            "Requirement already satisfied: rpds-py>=0.7.1 in /usr/local/lib/python3.10/dist-packages (from jsonschema>=3.0->altair<6.0,>=4.2.0->gradio) (0.18.1)\n",
            "Requirement already satisfied: six>=1.5 in /usr/local/lib/python3.10/dist-packages (from python-dateutil>=2.7->matplotlib~=3.0->gradio) (1.16.0)\n",
            "Requirement already satisfied: markdown-it-py>=2.2.0 in /usr/local/lib/python3.10/dist-packages (from rich>=10.11.0->typer<1.0,>=0.12->gradio) (3.0.0)\n",
            "Requirement already satisfied: pygments<3.0.0,>=2.13.0 in /usr/local/lib/python3.10/dist-packages (from rich>=10.11.0->typer<1.0,>=0.12->gradio) (2.16.1)\n",
            "Requirement already satisfied: exceptiongroup in /usr/local/lib/python3.10/dist-packages (from anyio->httpx>=0.24.1->gradio) (1.2.1)\n",
            "Requirement already satisfied: httptools>=0.5.0 in /usr/local/lib/python3.10/dist-packages (from uvicorn>=0.14.0->gradio) (0.6.1)\n",
            "Requirement already satisfied: python-dotenv>=0.13 in /usr/local/lib/python3.10/dist-packages (from uvicorn>=0.14.0->gradio) (1.0.1)\n",
            "Requirement already satisfied: uvloop!=0.15.0,!=0.15.1,>=0.14.0 in /usr/local/lib/python3.10/dist-packages (from uvicorn>=0.14.0->gradio) (0.19.0)\n",
            "Requirement already satisfied: watchfiles>=0.13 in /usr/local/lib/python3.10/dist-packages (from uvicorn>=0.14.0->gradio) (0.22.0)\n",
            "Requirement already satisfied: charset-normalizer<4,>=2 in /usr/local/lib/python3.10/dist-packages (from requests->huggingface-hub>=0.19.3->gradio) (3.3.2)\n",
            "Requirement already satisfied: mdurl~=0.1 in /usr/local/lib/python3.10/dist-packages (from markdown-it-py>=2.2.0->rich>=10.11.0->typer<1.0,>=0.12->gradio) (0.1.2)\n"
          ]
        }
      ]
    },
    {
      "cell_type": "code",
      "source": [
        "Std_map={'ANSI':1, 'ISO':2, 'DIN':3, 'BS':4, 'CSN':5, 'GOST':6, 'NF':7, 'JIS':8}\n",
        "Heat_treatment_map = {'as-rolled':1, 'normalized':2, 'annealed':3, 'tempered at 400 F':4,\n",
        "    'tempered at 600 F':5, '1/4-hard':6, 'As extruded':7, 'Cast (T7)':8,\n",
        "    'Cast (T4)':9, 'Cast (F)':10, 'Cast (T6)':11, 'Cast (T51)':12, 'Cast (T71)':13,\n",
        "    'Cast (F or T5)':14, 'Cast (T5)':15, 'Wrought':16, 'sand casting':17,\n",
        "    'pressure die casting':18, 'heat treated':19, 'case-hardened':20,\n",
        "    'face hardened':21, 'nitrided':22, 'Cold working':23,\n",
        "    'Annealing or high tempering':24, 'Improved':25, 'Quenched and tempered':26,\n",
        "    'Quenching and cooling in the water':27,\n",
        "    'Quenching and cooling in the oil':28, 'Quenching and heating':29,\n",
        "    'Case hardening,quenching and cooling in the oil':30}\n",
        "cate_map = {'Steel':1, 'Architectural':2, 'Copper':3, 'Aluminum':4, 'Magnesium':5, 'EN':6,\n",
        "    'DIN':7, 'BS':8, 'CSN':9, 'NF':10, 'JIS':11}\n",
        "\n",
        "std_reverse_mapping = {v: k for k, v in Std_map.items()}\n",
        "heat_treatment_reverse_mapping = {v: k for k, v in Heat_treatment_map.items()}\n",
        "cate_reverse_mapping = {v: k for k, v in cate_map.items()}\n",
        "\n",
        "inputs = [\n",
        "    gr.Dropdown(choices=list(std_reverse_mapping.values()), label=\"Select Std\"),\n",
        "    gr.Dropdown(choices=list(heat_treatment_reverse_mapping.values()), label=\"Select Heat treatment\"),\n",
        "    gr.Slider(label='Su'),\n",
        "    gr.Slider(label='E'),\n",
        "    gr.Slider(label='G'),\n",
        "    gr.Slider(label='mu'),\n",
        "    gr.Dropdown(choices=list(cate_reverse_mapping.values()), label=\"Select cate\")\n",
        "]\n"
      ],
      "metadata": {
        "id": "WX__g683T5Wo"
      },
      "execution_count": 440,
      "outputs": []
    },
    {
      "cell_type": "code",
      "source": [
        "import numpy as np\n",
        "import tensorflow as tf\n",
        "\n",
        "def predict_usable(Std, Heat_treatment, Su, E, G, mu, cate):\n",
        "\n",
        "    std_num = Std_map.get(Std, 0)\n",
        "    heat_treatment_num = Heat_treatment_map.get(Heat_treatment, 0)\n",
        "    cate_num = cate_map.get(cate, 0)\n",
        "\n",
        "\n",
        "    su_num = float(Su)\n",
        "    e_num = float(E)\n",
        "    g_num = float(G)\n",
        "    mu_num = float(mu)\n",
        "\n",
        "\n",
        "    input_data = np.array([[std_num, heat_treatment_num, su_num, e_num, g_num, mu_num, cate_num]])\n",
        "\n",
        "    prediction = model.predict(input_data)\n",
        "    predicted_class = np.argmax(prediction, axis=1)[0]\n",
        "    if predicted_class == 0:\n",
        "        return \"Not Usable\"\n",
        "    elif predicted_class == 1:\n",
        "        return \"Usable\"\n",
        "\n"
      ],
      "metadata": {
        "id": "CxSZPbLljAA8"
      },
      "execution_count": 441,
      "outputs": []
    },
    {
      "cell_type": "code",
      "source": [
        "\n",
        "interface = gr.Interface(fn=predict_usable,\n",
        "                         inputs= inputs,\n",
        "                         outputs=\"text\",\n",
        "                         title=\"ANN Model Classification Interface\")\n",
        "\n",
        "interface.launch()\n"
      ],
      "metadata": {
        "colab": {
          "base_uri": "https://localhost:8080/",
          "height": 645
        },
        "id": "bULJHNYai1mt",
        "outputId": "3a924cbb-cf6e-4dd3-945d-121513122d9c"
      },
      "execution_count": 442,
      "outputs": [
        {
          "output_type": "stream",
          "name": "stdout",
          "text": [
            "Setting queue=True in a Colab notebook requires sharing enabled. Setting `share=True` (you can turn this off by setting `share=False` in `launch()` explicitly).\n",
            "\n",
            "Colab notebook detected. To show errors in colab notebook, set debug=True in launch()\n",
            "Running on public URL: https://aa9fa025fa5f6a4215.gradio.live\n",
            "\n",
            "This share link expires in 72 hours. For free permanent hosting and GPU upgrades, run `gradio deploy` from Terminal to deploy to Spaces (https://huggingface.co/spaces)\n"
          ]
        },
        {
          "output_type": "display_data",
          "data": {
            "text/plain": [
              "<IPython.core.display.HTML object>"
            ],
            "text/html": [
              "<div><iframe src=\"https://aa9fa025fa5f6a4215.gradio.live\" width=\"100%\" height=\"500\" allow=\"autoplay; camera; microphone; clipboard-read; clipboard-write;\" frameborder=\"0\" allowfullscreen></iframe></div>"
            ]
          },
          "metadata": {}
        },
        {
          "output_type": "execute_result",
          "data": {
            "text/plain": []
          },
          "metadata": {},
          "execution_count": 442
        }
      ]
    },
    {
      "cell_type": "code",
      "source": [],
      "metadata": {
        "id": "0Fpb53yLi1w_"
      },
      "execution_count": null,
      "outputs": []
    }
  ]
}